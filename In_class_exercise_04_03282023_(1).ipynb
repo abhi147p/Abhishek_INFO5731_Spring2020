{
  "cells": [
    {
      "cell_type": "markdown",
      "metadata": {
        "id": "view-in-github",
        "colab_type": "text"
      },
      "source": [
        "<a href=\"https://colab.research.google.com/github/abhi147p/Abhishek_INFO5731_Spring2023/blob/main/In_class_exercise_04_03282023_(1).ipynb\" target=\"_parent\"><img src=\"https://colab.research.google.com/assets/colab-badge.svg\" alt=\"Open In Colab\"/></a>"
      ]
    },
    {
      "cell_type": "markdown",
      "metadata": {
        "id": "rzGtwpaitgEp"
      },
      "source": [
        "# **The fourth in-class-exercise (40 points in total, 03/28/2022)**"
      ]
    },
    {
      "cell_type": "markdown",
      "metadata": {
        "id": "Jf5WCMjgtgEr"
      },
      "source": [
        "Question description: Please use the text corpus you collected in your last in-class-exercise for this exercise. Perform the following tasks:"
      ]
    },
    {
      "cell_type": "markdown",
      "metadata": {
        "id": "Zu5OuBkltgEr"
      },
      "source": [
        "## (1) (10 points) Generate K topics by using LDA, the number of topics K should be decided by the coherence score, then summarize what are the topics. You may refer the code here: \n",
        "\n",
        "https://www.machinelearningplus.com/nlp/topic-modeling-gensim-python/"
      ]
    },
    {
      "cell_type": "code",
      "execution_count": 1,
      "metadata": {
        "colab": {
          "base_uri": "https://localhost:8080/",
          "height": 406
        },
        "id": "d6V5tgbNtgEs",
        "outputId": "ee0ebf99-871b-43b1-d79e-cf8b9cf57291"
      },
      "outputs": [
        {
          "output_type": "stream",
          "name": "stdout",
          "text": [
            "Enter no of pages: 3\n",
            "Processed 1 pages\n",
            "Processed 2 pages\n",
            "Processed 3 pages\n"
          ]
        },
        {
          "output_type": "execute_result",
          "data": {
            "text/plain": [
              "                                               Title  \\\n",
              "0  Luxurious APL Fashion Silicone Black Colored L...   \n",
              "1  Luxurious APL Fashion Silicone Black Colored L...   \n",
              "2  Luxurious APL Fashion Silicone Black Colored L...   \n",
              "3  Lorenz Black Dial Analog Watch Analog Watch  -...   \n",
              "4  Lorenz Black Dial Analog Watch Analog Watch  -...   \n",
              "\n",
              "                                                 url     brand new_price  \\\n",
              "0  https://www.flipkart.com/timemore-luxurious-ap...  TIMEMORE      ₹206   \n",
              "1  https://www.flipkart.com/timemore-luxurious-ap...  TIMEMORE      ₹206   \n",
              "2  https://www.flipkart.com/timemore-luxurious-ap...  TIMEMORE      ₹206   \n",
              "3  https://www.flipkart.com/lorenz-mk-3080k-black...    LORENZ      ₹449   \n",
              "4  https://www.flipkart.com/lorenz-mk-3080k-black...    LORENZ      ₹449   \n",
              "\n",
              "  old_price rating                                             review  \n",
              "0    ₹1,099      4  This product is value for money. Very nice thi...  \n",
              "1    ₹1,099      4                  Very nice look thank you flipkart  \n",
              "2    ₹1,099      4                                        Super brand  \n",
              "3    ₹1,499    3.8  Excellent watch with beautiful colour.Goes wit...  \n",
              "4    ₹1,499    3.8  I liked the product so much, and it was so ama...  "
            ],
            "text/html": [
              "\n",
              "  <div id=\"df-ee94789d-ac7f-4e46-af68-92bbf96519fc\">\n",
              "    <div class=\"colab-df-container\">\n",
              "      <div>\n",
              "<style scoped>\n",
              "    .dataframe tbody tr th:only-of-type {\n",
              "        vertical-align: middle;\n",
              "    }\n",
              "\n",
              "    .dataframe tbody tr th {\n",
              "        vertical-align: top;\n",
              "    }\n",
              "\n",
              "    .dataframe thead th {\n",
              "        text-align: right;\n",
              "    }\n",
              "</style>\n",
              "<table border=\"1\" class=\"dataframe\">\n",
              "  <thead>\n",
              "    <tr style=\"text-align: right;\">\n",
              "      <th></th>\n",
              "      <th>Title</th>\n",
              "      <th>url</th>\n",
              "      <th>brand</th>\n",
              "      <th>new_price</th>\n",
              "      <th>old_price</th>\n",
              "      <th>rating</th>\n",
              "      <th>review</th>\n",
              "    </tr>\n",
              "  </thead>\n",
              "  <tbody>\n",
              "    <tr>\n",
              "      <th>0</th>\n",
              "      <td>Luxurious APL Fashion Silicone Black Colored L...</td>\n",
              "      <td>https://www.flipkart.com/timemore-luxurious-ap...</td>\n",
              "      <td>TIMEMORE</td>\n",
              "      <td>₹206</td>\n",
              "      <td>₹1,099</td>\n",
              "      <td>4</td>\n",
              "      <td>This product is value for money. Very nice thi...</td>\n",
              "    </tr>\n",
              "    <tr>\n",
              "      <th>1</th>\n",
              "      <td>Luxurious APL Fashion Silicone Black Colored L...</td>\n",
              "      <td>https://www.flipkart.com/timemore-luxurious-ap...</td>\n",
              "      <td>TIMEMORE</td>\n",
              "      <td>₹206</td>\n",
              "      <td>₹1,099</td>\n",
              "      <td>4</td>\n",
              "      <td>Very nice look thank you flipkart</td>\n",
              "    </tr>\n",
              "    <tr>\n",
              "      <th>2</th>\n",
              "      <td>Luxurious APL Fashion Silicone Black Colored L...</td>\n",
              "      <td>https://www.flipkart.com/timemore-luxurious-ap...</td>\n",
              "      <td>TIMEMORE</td>\n",
              "      <td>₹206</td>\n",
              "      <td>₹1,099</td>\n",
              "      <td>4</td>\n",
              "      <td>Super brand</td>\n",
              "    </tr>\n",
              "    <tr>\n",
              "      <th>3</th>\n",
              "      <td>Lorenz Black Dial Analog Watch Analog Watch  -...</td>\n",
              "      <td>https://www.flipkart.com/lorenz-mk-3080k-black...</td>\n",
              "      <td>LORENZ</td>\n",
              "      <td>₹449</td>\n",
              "      <td>₹1,499</td>\n",
              "      <td>3.8</td>\n",
              "      <td>Excellent watch with beautiful colour.Goes wit...</td>\n",
              "    </tr>\n",
              "    <tr>\n",
              "      <th>4</th>\n",
              "      <td>Lorenz Black Dial Analog Watch Analog Watch  -...</td>\n",
              "      <td>https://www.flipkart.com/lorenz-mk-3080k-black...</td>\n",
              "      <td>LORENZ</td>\n",
              "      <td>₹449</td>\n",
              "      <td>₹1,499</td>\n",
              "      <td>3.8</td>\n",
              "      <td>I liked the product so much, and it was so ama...</td>\n",
              "    </tr>\n",
              "  </tbody>\n",
              "</table>\n",
              "</div>\n",
              "      <button class=\"colab-df-convert\" onclick=\"convertToInteractive('df-ee94789d-ac7f-4e46-af68-92bbf96519fc')\"\n",
              "              title=\"Convert this dataframe to an interactive table.\"\n",
              "              style=\"display:none;\">\n",
              "        \n",
              "  <svg xmlns=\"http://www.w3.org/2000/svg\" height=\"24px\"viewBox=\"0 0 24 24\"\n",
              "       width=\"24px\">\n",
              "    <path d=\"M0 0h24v24H0V0z\" fill=\"none\"/>\n",
              "    <path d=\"M18.56 5.44l.94 2.06.94-2.06 2.06-.94-2.06-.94-.94-2.06-.94 2.06-2.06.94zm-11 1L8.5 8.5l.94-2.06 2.06-.94-2.06-.94L8.5 2.5l-.94 2.06-2.06.94zm10 10l.94 2.06.94-2.06 2.06-.94-2.06-.94-.94-2.06-.94 2.06-2.06.94z\"/><path d=\"M17.41 7.96l-1.37-1.37c-.4-.4-.92-.59-1.43-.59-.52 0-1.04.2-1.43.59L10.3 9.45l-7.72 7.72c-.78.78-.78 2.05 0 2.83L4 21.41c.39.39.9.59 1.41.59.51 0 1.02-.2 1.41-.59l7.78-7.78 2.81-2.81c.8-.78.8-2.07 0-2.86zM5.41 20L4 18.59l7.72-7.72 1.47 1.35L5.41 20z\"/>\n",
              "  </svg>\n",
              "      </button>\n",
              "      \n",
              "  <style>\n",
              "    .colab-df-container {\n",
              "      display:flex;\n",
              "      flex-wrap:wrap;\n",
              "      gap: 12px;\n",
              "    }\n",
              "\n",
              "    .colab-df-convert {\n",
              "      background-color: #E8F0FE;\n",
              "      border: none;\n",
              "      border-radius: 50%;\n",
              "      cursor: pointer;\n",
              "      display: none;\n",
              "      fill: #1967D2;\n",
              "      height: 32px;\n",
              "      padding: 0 0 0 0;\n",
              "      width: 32px;\n",
              "    }\n",
              "\n",
              "    .colab-df-convert:hover {\n",
              "      background-color: #E2EBFA;\n",
              "      box-shadow: 0px 1px 2px rgba(60, 64, 67, 0.3), 0px 1px 3px 1px rgba(60, 64, 67, 0.15);\n",
              "      fill: #174EA6;\n",
              "    }\n",
              "\n",
              "    [theme=dark] .colab-df-convert {\n",
              "      background-color: #3B4455;\n",
              "      fill: #D2E3FC;\n",
              "    }\n",
              "\n",
              "    [theme=dark] .colab-df-convert:hover {\n",
              "      background-color: #434B5C;\n",
              "      box-shadow: 0px 1px 3px 1px rgba(0, 0, 0, 0.15);\n",
              "      filter: drop-shadow(0px 1px 2px rgba(0, 0, 0, 0.3));\n",
              "      fill: #FFFFFF;\n",
              "    }\n",
              "  </style>\n",
              "\n",
              "      <script>\n",
              "        const buttonEl =\n",
              "          document.querySelector('#df-ee94789d-ac7f-4e46-af68-92bbf96519fc button.colab-df-convert');\n",
              "        buttonEl.style.display =\n",
              "          google.colab.kernel.accessAllowed ? 'block' : 'none';\n",
              "\n",
              "        async function convertToInteractive(key) {\n",
              "          const element = document.querySelector('#df-ee94789d-ac7f-4e46-af68-92bbf96519fc');\n",
              "          const dataTable =\n",
              "            await google.colab.kernel.invokeFunction('convertToInteractive',\n",
              "                                                     [key], {});\n",
              "          if (!dataTable) return;\n",
              "\n",
              "          const docLinkHtml = 'Like what you see? Visit the ' +\n",
              "            '<a target=\"_blank\" href=https://colab.research.google.com/notebooks/data_table.ipynb>data table notebook</a>'\n",
              "            + ' to learn more about interactive tables.';\n",
              "          element.innerHTML = '';\n",
              "          dataTable['output_type'] = 'display_data';\n",
              "          await google.colab.output.renderOutput(dataTable, element);\n",
              "          const docLink = document.createElement('div');\n",
              "          docLink.innerHTML = docLinkHtml;\n",
              "          element.appendChild(docLink);\n",
              "        }\n",
              "      </script>\n",
              "    </div>\n",
              "  </div>\n",
              "  "
            ]
          },
          "metadata": {},
          "execution_count": 1
        }
      ],
      "source": [
        "# Write your code here\n",
        "\n",
        "# Write your code here\n",
        "\n",
        "# getting the data\n",
        "# You code here (Please add comments in the code):\n",
        "\n",
        "import requests\n",
        "from bs4 import BeautifulSoup\n",
        "import re\n",
        "import time\n",
        "import pandas as pd\n",
        "\n",
        "def get_soup(url):\n",
        "    \"\"\"\n",
        "        params1: url (contains the url of google scholar page)\n",
        "        return: soup (fetching the url page data and then further converted to html parser)\n",
        "    \"\"\"\n",
        "  # headers = {'user-agent': 'Mozilla/5.0 (Windows NT 10.0; Win64; x64) AppleWebKit/537.36 (KHTML, like Gecko) Chrome/109.0.0.0 Safari/537.36'}\n",
        "    headers = {'User-Agent': ('Mozilla/5.0 (Windows NT 10.0; Win64; x64) AppleWebKit/537.36 (KHTML, like Gecko) Chrome/110.0.0.0 Safari/537.36')}\n",
        "               # 'X-User-Agent': ('Mozilla/5.0 (Windows NT 10.0; Win64; x64) AppleWebKit/537.36 (KHTML, like Gecko) Chrome/110.0.0.0 Safari/537.36 FKUA/website/42/website/Desktop')}\n",
        "    try:\n",
        "        # requesting for data using requests with url and headers for authentication\n",
        "        data = requests.get(url, headers=headers)\n",
        "        # print(f\"Extracted the data with response as {data.status_code}\")\n",
        "        if data.status_code != 200:\n",
        "            raise Exception(f\"Failed to fetch data: {data.status_code} and text as {data.text}\")\n",
        "    except Exception as ex:\n",
        "        print(f\"Exception occurred as {ex}\")\n",
        "        return None\n",
        "    soup = BeautifulSoup(data.text, \"html.parser\")\n",
        "    return soup\n",
        "\n",
        "def fetch_data_web(pages):\n",
        "\n",
        "  final_data = []\n",
        "  for i in range(1, pages+1):\n",
        "    url = f\"https://www.flipkart.com/search?q=Watches&otracker=search&otracker1=search&marketplace=FLIPKART&as-show=on&as=off&page={i}\"\n",
        "    soup = get_soup(url)\n",
        "    # print(soup.prettify())\n",
        "    products_data = soup.findAll(\"div\", attrs={\"class\": \"_1AtVbE col-12-12\"})\n",
        "    for prod_data in products_data:\n",
        "      sub_prod_data = prod_data.findAll(\"div\", attrs={\"class\": \"_1xHGtK _373qXS\"})\n",
        "      for data in sub_prod_data:\n",
        "        prod_url = \"https://www.flipkart.com\" + data.find(\"a\", attrs={\"class\": \"_2UzuFa\"}).get(\"href\")\n",
        "        brand = data.find(\"div\", attrs={\"class\": \"_2WkVRV\"}).text.strip()\n",
        "        title = data.find(\"a\", attrs={\"class\": \"IRpwTa\"}).get(\"title\")\n",
        "        new_price = data.find(\"div\", attrs={\"class\": \"_30jeq3\"})\n",
        "        old_price = data.find(\"div\", attrs={\"class\": \"_3I9_wc\"})\n",
        "        if new_price:\n",
        "          new_price = new_price.text.strip()\n",
        "        else:\n",
        "          new_price = \"No\"\n",
        "        if old_price:\n",
        "          old_price = old_price.text.strip()\n",
        "        else:\n",
        "          old_price = \"No\"\n",
        "        # discount = data.find(\"div\", attrs={\"class\": \"_3Ay6Sb\"}).text.strip()\n",
        "        # free_delivery = data.find(\"div\", attrs={\"class\": \"_2Tpdn3\"})\n",
        "        # if free_delivery:\n",
        "        #   free_delivery = free_delivery.text.strip()\n",
        "        # else:\n",
        "        #   free_delivery = \"No free Delivery\"\n",
        "        soup_data = get_soup(prod_url)\n",
        "        # print(prod_url)\n",
        "        # print(soup_data)\n",
        "        # break\n",
        "        # rating = \"0\"\n",
        "        # if soup_data:\n",
        "        if soup_data:\n",
        "          rating = soup_data.find(\"div\", attrs={\"class\": \"_3LWZlK _3uSWvT\"})\n",
        "          if rating:\n",
        "            rating = rating.text\n",
        "          else:\n",
        "            rating = \"No rating found\"\n",
        "          reviews = soup_data.findAll(\"div\", attrs={\"class\": \"_6K-7Co\"})\n",
        "          for x in reviews:\n",
        "            final_data.append([title, prod_url, brand, new_price, old_price, rating, x.text])\n",
        "        else:\n",
        "          rating = \"No rating reviews found\"\n",
        "        # final_data.append([title, prod_url, brand, new_price, old_price, rating, review])\n",
        "      time.sleep(1)\n",
        "    print(f\"Processed {i} pages\")\n",
        "  \n",
        "  df = pd.DataFrame(final_data, columns=[\"Title\", \"url\", \"brand\", \"new_price\", \"old_price\", \"rating\", \"review\"])\n",
        "  return df\n",
        "\n",
        "df = fetch_data_web(int(input(\"Enter no of pages: \")))\n",
        "df.head()\n",
        "\n"
      ]
    },
    {
      "cell_type": "code",
      "source": [
        "df = df[df['old_price'] != \"No\"]"
      ],
      "metadata": {
        "id": "CvJF38k7tnD8"
      },
      "execution_count": 2,
      "outputs": []
    },
    {
      "cell_type": "code",
      "source": [
        "# converting str to numeric\n",
        "\n",
        "df['new_price'] = df['new_price'].str.replace(',', '').str[1:]\n",
        "df['old_price'] = df['old_price'].str.replace(',', '').str[1:]"
      ],
      "metadata": {
        "id": "v32IiobftnGX"
      },
      "execution_count": 3,
      "outputs": []
    },
    {
      "cell_type": "code",
      "source": [
        "df['new_price'] = df['new_price'].astype(int)\n",
        "df['old_price'] = df['old_price'].astype(int)\n",
        "df['rating'] = df['rating'].astype(float)\n",
        "\n",
        "df.head()"
      ],
      "metadata": {
        "colab": {
          "base_uri": "https://localhost:8080/",
          "height": 337
        },
        "id": "pROHAIwFtnJF",
        "outputId": "d1fe20f1-be80-4735-c570-b73610b33954"
      },
      "execution_count": 4,
      "outputs": [
        {
          "output_type": "execute_result",
          "data": {
            "text/plain": [
              "                                               Title  \\\n",
              "0  Luxurious APL Fashion Silicone Black Colored L...   \n",
              "1  Luxurious APL Fashion Silicone Black Colored L...   \n",
              "2  Luxurious APL Fashion Silicone Black Colored L...   \n",
              "3  Lorenz Black Dial Analog Watch Analog Watch  -...   \n",
              "4  Lorenz Black Dial Analog Watch Analog Watch  -...   \n",
              "\n",
              "                                                 url     brand  new_price  \\\n",
              "0  https://www.flipkart.com/timemore-luxurious-ap...  TIMEMORE        206   \n",
              "1  https://www.flipkart.com/timemore-luxurious-ap...  TIMEMORE        206   \n",
              "2  https://www.flipkart.com/timemore-luxurious-ap...  TIMEMORE        206   \n",
              "3  https://www.flipkart.com/lorenz-mk-3080k-black...    LORENZ        449   \n",
              "4  https://www.flipkart.com/lorenz-mk-3080k-black...    LORENZ        449   \n",
              "\n",
              "   old_price  rating                                             review  \n",
              "0       1099     4.0  This product is value for money. Very nice thi...  \n",
              "1       1099     4.0                  Very nice look thank you flipkart  \n",
              "2       1099     4.0                                        Super brand  \n",
              "3       1499     3.8  Excellent watch with beautiful colour.Goes wit...  \n",
              "4       1499     3.8  I liked the product so much, and it was so ama...  "
            ],
            "text/html": [
              "\n",
              "  <div id=\"df-b0c5749f-8dd9-4dd4-86f2-1d4c4b0307e6\">\n",
              "    <div class=\"colab-df-container\">\n",
              "      <div>\n",
              "<style scoped>\n",
              "    .dataframe tbody tr th:only-of-type {\n",
              "        vertical-align: middle;\n",
              "    }\n",
              "\n",
              "    .dataframe tbody tr th {\n",
              "        vertical-align: top;\n",
              "    }\n",
              "\n",
              "    .dataframe thead th {\n",
              "        text-align: right;\n",
              "    }\n",
              "</style>\n",
              "<table border=\"1\" class=\"dataframe\">\n",
              "  <thead>\n",
              "    <tr style=\"text-align: right;\">\n",
              "      <th></th>\n",
              "      <th>Title</th>\n",
              "      <th>url</th>\n",
              "      <th>brand</th>\n",
              "      <th>new_price</th>\n",
              "      <th>old_price</th>\n",
              "      <th>rating</th>\n",
              "      <th>review</th>\n",
              "    </tr>\n",
              "  </thead>\n",
              "  <tbody>\n",
              "    <tr>\n",
              "      <th>0</th>\n",
              "      <td>Luxurious APL Fashion Silicone Black Colored L...</td>\n",
              "      <td>https://www.flipkart.com/timemore-luxurious-ap...</td>\n",
              "      <td>TIMEMORE</td>\n",
              "      <td>206</td>\n",
              "      <td>1099</td>\n",
              "      <td>4.0</td>\n",
              "      <td>This product is value for money. Very nice thi...</td>\n",
              "    </tr>\n",
              "    <tr>\n",
              "      <th>1</th>\n",
              "      <td>Luxurious APL Fashion Silicone Black Colored L...</td>\n",
              "      <td>https://www.flipkart.com/timemore-luxurious-ap...</td>\n",
              "      <td>TIMEMORE</td>\n",
              "      <td>206</td>\n",
              "      <td>1099</td>\n",
              "      <td>4.0</td>\n",
              "      <td>Very nice look thank you flipkart</td>\n",
              "    </tr>\n",
              "    <tr>\n",
              "      <th>2</th>\n",
              "      <td>Luxurious APL Fashion Silicone Black Colored L...</td>\n",
              "      <td>https://www.flipkart.com/timemore-luxurious-ap...</td>\n",
              "      <td>TIMEMORE</td>\n",
              "      <td>206</td>\n",
              "      <td>1099</td>\n",
              "      <td>4.0</td>\n",
              "      <td>Super brand</td>\n",
              "    </tr>\n",
              "    <tr>\n",
              "      <th>3</th>\n",
              "      <td>Lorenz Black Dial Analog Watch Analog Watch  -...</td>\n",
              "      <td>https://www.flipkart.com/lorenz-mk-3080k-black...</td>\n",
              "      <td>LORENZ</td>\n",
              "      <td>449</td>\n",
              "      <td>1499</td>\n",
              "      <td>3.8</td>\n",
              "      <td>Excellent watch with beautiful colour.Goes wit...</td>\n",
              "    </tr>\n",
              "    <tr>\n",
              "      <th>4</th>\n",
              "      <td>Lorenz Black Dial Analog Watch Analog Watch  -...</td>\n",
              "      <td>https://www.flipkart.com/lorenz-mk-3080k-black...</td>\n",
              "      <td>LORENZ</td>\n",
              "      <td>449</td>\n",
              "      <td>1499</td>\n",
              "      <td>3.8</td>\n",
              "      <td>I liked the product so much, and it was so ama...</td>\n",
              "    </tr>\n",
              "  </tbody>\n",
              "</table>\n",
              "</div>\n",
              "      <button class=\"colab-df-convert\" onclick=\"convertToInteractive('df-b0c5749f-8dd9-4dd4-86f2-1d4c4b0307e6')\"\n",
              "              title=\"Convert this dataframe to an interactive table.\"\n",
              "              style=\"display:none;\">\n",
              "        \n",
              "  <svg xmlns=\"http://www.w3.org/2000/svg\" height=\"24px\"viewBox=\"0 0 24 24\"\n",
              "       width=\"24px\">\n",
              "    <path d=\"M0 0h24v24H0V0z\" fill=\"none\"/>\n",
              "    <path d=\"M18.56 5.44l.94 2.06.94-2.06 2.06-.94-2.06-.94-.94-2.06-.94 2.06-2.06.94zm-11 1L8.5 8.5l.94-2.06 2.06-.94-2.06-.94L8.5 2.5l-.94 2.06-2.06.94zm10 10l.94 2.06.94-2.06 2.06-.94-2.06-.94-.94-2.06-.94 2.06-2.06.94z\"/><path d=\"M17.41 7.96l-1.37-1.37c-.4-.4-.92-.59-1.43-.59-.52 0-1.04.2-1.43.59L10.3 9.45l-7.72 7.72c-.78.78-.78 2.05 0 2.83L4 21.41c.39.39.9.59 1.41.59.51 0 1.02-.2 1.41-.59l7.78-7.78 2.81-2.81c.8-.78.8-2.07 0-2.86zM5.41 20L4 18.59l7.72-7.72 1.47 1.35L5.41 20z\"/>\n",
              "  </svg>\n",
              "      </button>\n",
              "      \n",
              "  <style>\n",
              "    .colab-df-container {\n",
              "      display:flex;\n",
              "      flex-wrap:wrap;\n",
              "      gap: 12px;\n",
              "    }\n",
              "\n",
              "    .colab-df-convert {\n",
              "      background-color: #E8F0FE;\n",
              "      border: none;\n",
              "      border-radius: 50%;\n",
              "      cursor: pointer;\n",
              "      display: none;\n",
              "      fill: #1967D2;\n",
              "      height: 32px;\n",
              "      padding: 0 0 0 0;\n",
              "      width: 32px;\n",
              "    }\n",
              "\n",
              "    .colab-df-convert:hover {\n",
              "      background-color: #E2EBFA;\n",
              "      box-shadow: 0px 1px 2px rgba(60, 64, 67, 0.3), 0px 1px 3px 1px rgba(60, 64, 67, 0.15);\n",
              "      fill: #174EA6;\n",
              "    }\n",
              "\n",
              "    [theme=dark] .colab-df-convert {\n",
              "      background-color: #3B4455;\n",
              "      fill: #D2E3FC;\n",
              "    }\n",
              "\n",
              "    [theme=dark] .colab-df-convert:hover {\n",
              "      background-color: #434B5C;\n",
              "      box-shadow: 0px 1px 3px 1px rgba(0, 0, 0, 0.15);\n",
              "      filter: drop-shadow(0px 1px 2px rgba(0, 0, 0, 0.3));\n",
              "      fill: #FFFFFF;\n",
              "    }\n",
              "  </style>\n",
              "\n",
              "      <script>\n",
              "        const buttonEl =\n",
              "          document.querySelector('#df-b0c5749f-8dd9-4dd4-86f2-1d4c4b0307e6 button.colab-df-convert');\n",
              "        buttonEl.style.display =\n",
              "          google.colab.kernel.accessAllowed ? 'block' : 'none';\n",
              "\n",
              "        async function convertToInteractive(key) {\n",
              "          const element = document.querySelector('#df-b0c5749f-8dd9-4dd4-86f2-1d4c4b0307e6');\n",
              "          const dataTable =\n",
              "            await google.colab.kernel.invokeFunction('convertToInteractive',\n",
              "                                                     [key], {});\n",
              "          if (!dataTable) return;\n",
              "\n",
              "          const docLinkHtml = 'Like what you see? Visit the ' +\n",
              "            '<a target=\"_blank\" href=https://colab.research.google.com/notebooks/data_table.ipynb>data table notebook</a>'\n",
              "            + ' to learn more about interactive tables.';\n",
              "          element.innerHTML = '';\n",
              "          dataTable['output_type'] = 'display_data';\n",
              "          await google.colab.output.renderOutput(dataTable, element);\n",
              "          const docLink = document.createElement('div');\n",
              "          docLink.innerHTML = docLinkHtml;\n",
              "          element.appendChild(docLink);\n",
              "        }\n",
              "      </script>\n",
              "    </div>\n",
              "  </div>\n",
              "  "
            ]
          },
          "metadata": {},
          "execution_count": 4
        }
      ]
    },
    {
      "cell_type": "code",
      "source": [
        "df = df[['Title', 'url', 'review']]\n",
        "df.head()"
      ],
      "metadata": {
        "colab": {
          "base_uri": "https://localhost:8080/",
          "height": 206
        },
        "id": "LPYZtyoGtnLg",
        "outputId": "e222b2f3-fb4f-491e-e1b4-54f8aa44ae20"
      },
      "execution_count": 5,
      "outputs": [
        {
          "output_type": "execute_result",
          "data": {
            "text/plain": [
              "                                               Title  \\\n",
              "0  Luxurious APL Fashion Silicone Black Colored L...   \n",
              "1  Luxurious APL Fashion Silicone Black Colored L...   \n",
              "2  Luxurious APL Fashion Silicone Black Colored L...   \n",
              "3  Lorenz Black Dial Analog Watch Analog Watch  -...   \n",
              "4  Lorenz Black Dial Analog Watch Analog Watch  -...   \n",
              "\n",
              "                                                 url  \\\n",
              "0  https://www.flipkart.com/timemore-luxurious-ap...   \n",
              "1  https://www.flipkart.com/timemore-luxurious-ap...   \n",
              "2  https://www.flipkart.com/timemore-luxurious-ap...   \n",
              "3  https://www.flipkart.com/lorenz-mk-3080k-black...   \n",
              "4  https://www.flipkart.com/lorenz-mk-3080k-black...   \n",
              "\n",
              "                                              review  \n",
              "0  This product is value for money. Very nice thi...  \n",
              "1                  Very nice look thank you flipkart  \n",
              "2                                        Super brand  \n",
              "3  Excellent watch with beautiful colour.Goes wit...  \n",
              "4  I liked the product so much, and it was so ama...  "
            ],
            "text/html": [
              "\n",
              "  <div id=\"df-956494c0-d0c6-49e6-8980-a3c7ecb8f221\">\n",
              "    <div class=\"colab-df-container\">\n",
              "      <div>\n",
              "<style scoped>\n",
              "    .dataframe tbody tr th:only-of-type {\n",
              "        vertical-align: middle;\n",
              "    }\n",
              "\n",
              "    .dataframe tbody tr th {\n",
              "        vertical-align: top;\n",
              "    }\n",
              "\n",
              "    .dataframe thead th {\n",
              "        text-align: right;\n",
              "    }\n",
              "</style>\n",
              "<table border=\"1\" class=\"dataframe\">\n",
              "  <thead>\n",
              "    <tr style=\"text-align: right;\">\n",
              "      <th></th>\n",
              "      <th>Title</th>\n",
              "      <th>url</th>\n",
              "      <th>review</th>\n",
              "    </tr>\n",
              "  </thead>\n",
              "  <tbody>\n",
              "    <tr>\n",
              "      <th>0</th>\n",
              "      <td>Luxurious APL Fashion Silicone Black Colored L...</td>\n",
              "      <td>https://www.flipkart.com/timemore-luxurious-ap...</td>\n",
              "      <td>This product is value for money. Very nice thi...</td>\n",
              "    </tr>\n",
              "    <tr>\n",
              "      <th>1</th>\n",
              "      <td>Luxurious APL Fashion Silicone Black Colored L...</td>\n",
              "      <td>https://www.flipkart.com/timemore-luxurious-ap...</td>\n",
              "      <td>Very nice look thank you flipkart</td>\n",
              "    </tr>\n",
              "    <tr>\n",
              "      <th>2</th>\n",
              "      <td>Luxurious APL Fashion Silicone Black Colored L...</td>\n",
              "      <td>https://www.flipkart.com/timemore-luxurious-ap...</td>\n",
              "      <td>Super brand</td>\n",
              "    </tr>\n",
              "    <tr>\n",
              "      <th>3</th>\n",
              "      <td>Lorenz Black Dial Analog Watch Analog Watch  -...</td>\n",
              "      <td>https://www.flipkart.com/lorenz-mk-3080k-black...</td>\n",
              "      <td>Excellent watch with beautiful colour.Goes wit...</td>\n",
              "    </tr>\n",
              "    <tr>\n",
              "      <th>4</th>\n",
              "      <td>Lorenz Black Dial Analog Watch Analog Watch  -...</td>\n",
              "      <td>https://www.flipkart.com/lorenz-mk-3080k-black...</td>\n",
              "      <td>I liked the product so much, and it was so ama...</td>\n",
              "    </tr>\n",
              "  </tbody>\n",
              "</table>\n",
              "</div>\n",
              "      <button class=\"colab-df-convert\" onclick=\"convertToInteractive('df-956494c0-d0c6-49e6-8980-a3c7ecb8f221')\"\n",
              "              title=\"Convert this dataframe to an interactive table.\"\n",
              "              style=\"display:none;\">\n",
              "        \n",
              "  <svg xmlns=\"http://www.w3.org/2000/svg\" height=\"24px\"viewBox=\"0 0 24 24\"\n",
              "       width=\"24px\">\n",
              "    <path d=\"M0 0h24v24H0V0z\" fill=\"none\"/>\n",
              "    <path d=\"M18.56 5.44l.94 2.06.94-2.06 2.06-.94-2.06-.94-.94-2.06-.94 2.06-2.06.94zm-11 1L8.5 8.5l.94-2.06 2.06-.94-2.06-.94L8.5 2.5l-.94 2.06-2.06.94zm10 10l.94 2.06.94-2.06 2.06-.94-2.06-.94-.94-2.06-.94 2.06-2.06.94z\"/><path d=\"M17.41 7.96l-1.37-1.37c-.4-.4-.92-.59-1.43-.59-.52 0-1.04.2-1.43.59L10.3 9.45l-7.72 7.72c-.78.78-.78 2.05 0 2.83L4 21.41c.39.39.9.59 1.41.59.51 0 1.02-.2 1.41-.59l7.78-7.78 2.81-2.81c.8-.78.8-2.07 0-2.86zM5.41 20L4 18.59l7.72-7.72 1.47 1.35L5.41 20z\"/>\n",
              "  </svg>\n",
              "      </button>\n",
              "      \n",
              "  <style>\n",
              "    .colab-df-container {\n",
              "      display:flex;\n",
              "      flex-wrap:wrap;\n",
              "      gap: 12px;\n",
              "    }\n",
              "\n",
              "    .colab-df-convert {\n",
              "      background-color: #E8F0FE;\n",
              "      border: none;\n",
              "      border-radius: 50%;\n",
              "      cursor: pointer;\n",
              "      display: none;\n",
              "      fill: #1967D2;\n",
              "      height: 32px;\n",
              "      padding: 0 0 0 0;\n",
              "      width: 32px;\n",
              "    }\n",
              "\n",
              "    .colab-df-convert:hover {\n",
              "      background-color: #E2EBFA;\n",
              "      box-shadow: 0px 1px 2px rgba(60, 64, 67, 0.3), 0px 1px 3px 1px rgba(60, 64, 67, 0.15);\n",
              "      fill: #174EA6;\n",
              "    }\n",
              "\n",
              "    [theme=dark] .colab-df-convert {\n",
              "      background-color: #3B4455;\n",
              "      fill: #D2E3FC;\n",
              "    }\n",
              "\n",
              "    [theme=dark] .colab-df-convert:hover {\n",
              "      background-color: #434B5C;\n",
              "      box-shadow: 0px 1px 3px 1px rgba(0, 0, 0, 0.15);\n",
              "      filter: drop-shadow(0px 1px 2px rgba(0, 0, 0, 0.3));\n",
              "      fill: #FFFFFF;\n",
              "    }\n",
              "  </style>\n",
              "\n",
              "      <script>\n",
              "        const buttonEl =\n",
              "          document.querySelector('#df-956494c0-d0c6-49e6-8980-a3c7ecb8f221 button.colab-df-convert');\n",
              "        buttonEl.style.display =\n",
              "          google.colab.kernel.accessAllowed ? 'block' : 'none';\n",
              "\n",
              "        async function convertToInteractive(key) {\n",
              "          const element = document.querySelector('#df-956494c0-d0c6-49e6-8980-a3c7ecb8f221');\n",
              "          const dataTable =\n",
              "            await google.colab.kernel.invokeFunction('convertToInteractive',\n",
              "                                                     [key], {});\n",
              "          if (!dataTable) return;\n",
              "\n",
              "          const docLinkHtml = 'Like what you see? Visit the ' +\n",
              "            '<a target=\"_blank\" href=https://colab.research.google.com/notebooks/data_table.ipynb>data table notebook</a>'\n",
              "            + ' to learn more about interactive tables.';\n",
              "          element.innerHTML = '';\n",
              "          dataTable['output_type'] = 'display_data';\n",
              "          await google.colab.output.renderOutput(dataTable, element);\n",
              "          const docLink = document.createElement('div');\n",
              "          docLink.innerHTML = docLinkHtml;\n",
              "          element.appendChild(docLink);\n",
              "        }\n",
              "      </script>\n",
              "    </div>\n",
              "  </div>\n",
              "  "
            ]
          },
          "metadata": {},
          "execution_count": 5
        }
      ]
    },
    {
      "cell_type": "code",
      "source": [
        "df['review'].isna().sum()"
      ],
      "metadata": {
        "colab": {
          "base_uri": "https://localhost:8080/"
        },
        "id": "6ZT5qwaFtnN4",
        "outputId": "598d6bcb-4310-43b4-bcf8-2b9ee2dd5521"
      },
      "execution_count": 6,
      "outputs": [
        {
          "output_type": "execute_result",
          "data": {
            "text/plain": [
              "0"
            ]
          },
          "metadata": {},
          "execution_count": 6
        }
      ]
    },
    {
      "cell_type": "code",
      "source": [
        "import nltk, re, string\n",
        "from nltk.corpus import stopwords\n",
        "from nltk.stem import PorterStemmer\n",
        "from textblob import Word\n",
        "nltk.download('stopwords')\n",
        "nltk.download(\"wordnet\")\n",
        "nltk.download('omw-1.4')\n",
        "nltk.download('punkt')\n",
        "nltk.download('wordnet')\n",
        "from nltk.stem import WordNetLemmatizer"
      ],
      "metadata": {
        "colab": {
          "base_uri": "https://localhost:8080/"
        },
        "id": "omv6Elv6tzHo",
        "outputId": "4807ab82-aa57-47d0-97b8-74699e7bc7b2"
      },
      "execution_count": 7,
      "outputs": [
        {
          "output_type": "stream",
          "name": "stderr",
          "text": [
            "[nltk_data] Downloading package stopwords to /root/nltk_data...\n",
            "[nltk_data]   Unzipping corpora/stopwords.zip.\n",
            "[nltk_data] Downloading package wordnet to /root/nltk_data...\n",
            "[nltk_data] Downloading package omw-1.4 to /root/nltk_data...\n",
            "[nltk_data] Downloading package punkt to /root/nltk_data...\n",
            "[nltk_data]   Unzipping tokenizers/punkt.zip.\n",
            "[nltk_data] Downloading package wordnet to /root/nltk_data...\n",
            "[nltk_data]   Package wordnet is already up-to-date!\n"
          ]
        }
      ]
    },
    {
      "cell_type": "code",
      "source": [
        "import re\n",
        "\n",
        "df['clean_Data'] = df['review'].map(lambda x: re.sub('[,\\.!?]', '', x))\n",
        "df['clean_Data'] = df['clean_Data'].map(lambda x: x.lower())\n",
        "df.head()"
      ],
      "metadata": {
        "colab": {
          "base_uri": "https://localhost:8080/",
          "height": 337
        },
        "id": "APVY30tGtzKZ",
        "outputId": "0b8f41da-039e-4566-9edf-60a0edaea0e3"
      },
      "execution_count": 8,
      "outputs": [
        {
          "output_type": "execute_result",
          "data": {
            "text/plain": [
              "                                               Title  \\\n",
              "0  Luxurious APL Fashion Silicone Black Colored L...   \n",
              "1  Luxurious APL Fashion Silicone Black Colored L...   \n",
              "2  Luxurious APL Fashion Silicone Black Colored L...   \n",
              "3  Lorenz Black Dial Analog Watch Analog Watch  -...   \n",
              "4  Lorenz Black Dial Analog Watch Analog Watch  -...   \n",
              "\n",
              "                                                 url  \\\n",
              "0  https://www.flipkart.com/timemore-luxurious-ap...   \n",
              "1  https://www.flipkart.com/timemore-luxurious-ap...   \n",
              "2  https://www.flipkart.com/timemore-luxurious-ap...   \n",
              "3  https://www.flipkart.com/lorenz-mk-3080k-black...   \n",
              "4  https://www.flipkart.com/lorenz-mk-3080k-black...   \n",
              "\n",
              "                                              review  \\\n",
              "0  This product is value for money. Very nice thi...   \n",
              "1                  Very nice look thank you flipkart   \n",
              "2                                        Super brand   \n",
              "3  Excellent watch with beautiful colour.Goes wit...   \n",
              "4  I liked the product so much, and it was so ama...   \n",
              "\n",
              "                                          clean_Data  \n",
              "0  this product is value for money very nice this...  \n",
              "1                  very nice look thank you flipkart  \n",
              "2                                        super brand  \n",
              "3  excellent watch with beautiful colourgoes with...  \n",
              "4  i liked the product so much and it was so amaz...  "
            ],
            "text/html": [
              "\n",
              "  <div id=\"df-a91f156f-04f6-4b03-bfb8-1ed02d3915fb\">\n",
              "    <div class=\"colab-df-container\">\n",
              "      <div>\n",
              "<style scoped>\n",
              "    .dataframe tbody tr th:only-of-type {\n",
              "        vertical-align: middle;\n",
              "    }\n",
              "\n",
              "    .dataframe tbody tr th {\n",
              "        vertical-align: top;\n",
              "    }\n",
              "\n",
              "    .dataframe thead th {\n",
              "        text-align: right;\n",
              "    }\n",
              "</style>\n",
              "<table border=\"1\" class=\"dataframe\">\n",
              "  <thead>\n",
              "    <tr style=\"text-align: right;\">\n",
              "      <th></th>\n",
              "      <th>Title</th>\n",
              "      <th>url</th>\n",
              "      <th>review</th>\n",
              "      <th>clean_Data</th>\n",
              "    </tr>\n",
              "  </thead>\n",
              "  <tbody>\n",
              "    <tr>\n",
              "      <th>0</th>\n",
              "      <td>Luxurious APL Fashion Silicone Black Colored L...</td>\n",
              "      <td>https://www.flipkart.com/timemore-luxurious-ap...</td>\n",
              "      <td>This product is value for money. Very nice thi...</td>\n",
              "      <td>this product is value for money very nice this...</td>\n",
              "    </tr>\n",
              "    <tr>\n",
              "      <th>1</th>\n",
              "      <td>Luxurious APL Fashion Silicone Black Colored L...</td>\n",
              "      <td>https://www.flipkart.com/timemore-luxurious-ap...</td>\n",
              "      <td>Very nice look thank you flipkart</td>\n",
              "      <td>very nice look thank you flipkart</td>\n",
              "    </tr>\n",
              "    <tr>\n",
              "      <th>2</th>\n",
              "      <td>Luxurious APL Fashion Silicone Black Colored L...</td>\n",
              "      <td>https://www.flipkart.com/timemore-luxurious-ap...</td>\n",
              "      <td>Super brand</td>\n",
              "      <td>super brand</td>\n",
              "    </tr>\n",
              "    <tr>\n",
              "      <th>3</th>\n",
              "      <td>Lorenz Black Dial Analog Watch Analog Watch  -...</td>\n",
              "      <td>https://www.flipkart.com/lorenz-mk-3080k-black...</td>\n",
              "      <td>Excellent watch with beautiful colour.Goes wit...</td>\n",
              "      <td>excellent watch with beautiful colourgoes with...</td>\n",
              "    </tr>\n",
              "    <tr>\n",
              "      <th>4</th>\n",
              "      <td>Lorenz Black Dial Analog Watch Analog Watch  -...</td>\n",
              "      <td>https://www.flipkart.com/lorenz-mk-3080k-black...</td>\n",
              "      <td>I liked the product so much, and it was so ama...</td>\n",
              "      <td>i liked the product so much and it was so amaz...</td>\n",
              "    </tr>\n",
              "  </tbody>\n",
              "</table>\n",
              "</div>\n",
              "      <button class=\"colab-df-convert\" onclick=\"convertToInteractive('df-a91f156f-04f6-4b03-bfb8-1ed02d3915fb')\"\n",
              "              title=\"Convert this dataframe to an interactive table.\"\n",
              "              style=\"display:none;\">\n",
              "        \n",
              "  <svg xmlns=\"http://www.w3.org/2000/svg\" height=\"24px\"viewBox=\"0 0 24 24\"\n",
              "       width=\"24px\">\n",
              "    <path d=\"M0 0h24v24H0V0z\" fill=\"none\"/>\n",
              "    <path d=\"M18.56 5.44l.94 2.06.94-2.06 2.06-.94-2.06-.94-.94-2.06-.94 2.06-2.06.94zm-11 1L8.5 8.5l.94-2.06 2.06-.94-2.06-.94L8.5 2.5l-.94 2.06-2.06.94zm10 10l.94 2.06.94-2.06 2.06-.94-2.06-.94-.94-2.06-.94 2.06-2.06.94z\"/><path d=\"M17.41 7.96l-1.37-1.37c-.4-.4-.92-.59-1.43-.59-.52 0-1.04.2-1.43.59L10.3 9.45l-7.72 7.72c-.78.78-.78 2.05 0 2.83L4 21.41c.39.39.9.59 1.41.59.51 0 1.02-.2 1.41-.59l7.78-7.78 2.81-2.81c.8-.78.8-2.07 0-2.86zM5.41 20L4 18.59l7.72-7.72 1.47 1.35L5.41 20z\"/>\n",
              "  </svg>\n",
              "      </button>\n",
              "      \n",
              "  <style>\n",
              "    .colab-df-container {\n",
              "      display:flex;\n",
              "      flex-wrap:wrap;\n",
              "      gap: 12px;\n",
              "    }\n",
              "\n",
              "    .colab-df-convert {\n",
              "      background-color: #E8F0FE;\n",
              "      border: none;\n",
              "      border-radius: 50%;\n",
              "      cursor: pointer;\n",
              "      display: none;\n",
              "      fill: #1967D2;\n",
              "      height: 32px;\n",
              "      padding: 0 0 0 0;\n",
              "      width: 32px;\n",
              "    }\n",
              "\n",
              "    .colab-df-convert:hover {\n",
              "      background-color: #E2EBFA;\n",
              "      box-shadow: 0px 1px 2px rgba(60, 64, 67, 0.3), 0px 1px 3px 1px rgba(60, 64, 67, 0.15);\n",
              "      fill: #174EA6;\n",
              "    }\n",
              "\n",
              "    [theme=dark] .colab-df-convert {\n",
              "      background-color: #3B4455;\n",
              "      fill: #D2E3FC;\n",
              "    }\n",
              "\n",
              "    [theme=dark] .colab-df-convert:hover {\n",
              "      background-color: #434B5C;\n",
              "      box-shadow: 0px 1px 3px 1px rgba(0, 0, 0, 0.15);\n",
              "      filter: drop-shadow(0px 1px 2px rgba(0, 0, 0, 0.3));\n",
              "      fill: #FFFFFF;\n",
              "    }\n",
              "  </style>\n",
              "\n",
              "      <script>\n",
              "        const buttonEl =\n",
              "          document.querySelector('#df-a91f156f-04f6-4b03-bfb8-1ed02d3915fb button.colab-df-convert');\n",
              "        buttonEl.style.display =\n",
              "          google.colab.kernel.accessAllowed ? 'block' : 'none';\n",
              "\n",
              "        async function convertToInteractive(key) {\n",
              "          const element = document.querySelector('#df-a91f156f-04f6-4b03-bfb8-1ed02d3915fb');\n",
              "          const dataTable =\n",
              "            await google.colab.kernel.invokeFunction('convertToInteractive',\n",
              "                                                     [key], {});\n",
              "          if (!dataTable) return;\n",
              "\n",
              "          const docLinkHtml = 'Like what you see? Visit the ' +\n",
              "            '<a target=\"_blank\" href=https://colab.research.google.com/notebooks/data_table.ipynb>data table notebook</a>'\n",
              "            + ' to learn more about interactive tables.';\n",
              "          element.innerHTML = '';\n",
              "          dataTable['output_type'] = 'display_data';\n",
              "          await google.colab.output.renderOutput(dataTable, element);\n",
              "          const docLink = document.createElement('div');\n",
              "          docLink.innerHTML = docLinkHtml;\n",
              "          element.appendChild(docLink);\n",
              "        }\n",
              "      </script>\n",
              "    </div>\n",
              "  </div>\n",
              "  "
            ]
          },
          "metadata": {},
          "execution_count": 8
        }
      ]
    },
    {
      "cell_type": "code",
      "source": [
        "# pip install pyLDAvis"
      ],
      "metadata": {
        "id": "yXnXmgWMtzM6"
      },
      "execution_count": 9,
      "outputs": []
    },
    {
      "cell_type": "code",
      "source": [
        "# Enable logging for gensim - optional\n",
        "import logging\n",
        "logging.basicConfig(format='%(asctime)s : %(levelname)s : %(message)s', level=logging.ERROR)\n",
        "\n",
        "import warnings\n",
        "warnings.filterwarnings(\"ignore\",category=DeprecationWarning)"
      ],
      "metadata": {
        "id": "EHzwG1Y3tzQc"
      },
      "execution_count": 10,
      "outputs": []
    },
    {
      "cell_type": "code",
      "source": [
        "# Gensim\n",
        "import gensim\n",
        "import gensim.corpora as corpora\n",
        "from gensim.utils import simple_preprocess\n",
        "from gensim.models import CoherenceModel\n",
        "\n",
        "import nltk\n",
        "nltk.download('stopwords')\n",
        "from nltk.corpus import stopwords\n",
        "stop_words = stopwords.words('english')\n",
        "stop_words.extend(['from', 'subject', 're', 'edu', 'use'])\n",
        "\n",
        "def sent_to_words(sentences):\n",
        "    for sentence in sentences:\n",
        "        # deacc=True removes punctuations\n",
        "        yield(gensim.utils.simple_preprocess(str(sentence), deacc=True))\n",
        "\n",
        "def remove_stopwords(texts):\n",
        "    return [[word for word in simple_preprocess(str(doc)) \n",
        "             if word not in stop_words] for doc in texts]\n",
        "\n",
        "review_data = df['review'].values.tolist()\n",
        "review_data_words = list(sent_to_words(review_data))\n",
        "# remove stop words\n",
        "review_data_words = remove_stopwords(review_data_words)\n",
        "print(review_data_words[:1])"
      ],
      "metadata": {
        "colab": {
          "base_uri": "https://localhost:8080/"
        },
        "id": "drcbDVWPtzcl",
        "outputId": "e970898a-4c43-4bf7-c0be-e351ce30c59b"
      },
      "execution_count": 11,
      "outputs": [
        {
          "output_type": "stream",
          "name": "stdout",
          "text": [
            "[['product', 'value', 'money', 'nice', 'product', 'bill', 'qualities', 'diesel', 'looking', 'nice']]\n"
          ]
        },
        {
          "output_type": "stream",
          "name": "stderr",
          "text": [
            "[nltk_data] Downloading package stopwords to /root/nltk_data...\n",
            "[nltk_data]   Package stopwords is already up-to-date!\n"
          ]
        }
      ]
    },
    {
      "cell_type": "code",
      "source": [
        "bigram = gensim.models.Phrases(review_data_words, min_count=5, threshold=100)\n",
        "trigram = gensim.models.Phrases(bigram[review_data_words], threshold=100)  \n",
        "bigram_mod = gensim.models.phrases.Phraser(bigram)\n",
        "trigram_mod = gensim.models.phrases.Phraser(trigram)\n",
        "\n",
        "import spacy\n",
        "nlp = spacy.load('en_core_web_sm', disable=['parser', 'ner'])\n",
        "\n",
        "def make_bigrams(texts):\n",
        "    return [bigram_mod[doc] for doc in texts]\n",
        "\n",
        "def make_trigrams(texts):\n",
        "    return [trigram_mod[bigram_mod[doc]] for doc in texts]\n",
        "\n",
        "def lemmatization(texts, allowed_postags=['NOUN', 'ADJ', 'VERB', 'ADV']):\n",
        "    \"\"\"https://spacy.io/api/annotation\"\"\"\n",
        "    texts_out = []\n",
        "    for sent in texts:\n",
        "        doc = nlp(\" \".join(sent)) \n",
        "        texts_out.append([token.lemma_ for token in doc if token.pos_ in allowed_postags])\n",
        "    return texts_out\n",
        "\n",
        "review_data_words_bigrams = make_bigrams(review_data_words)\n",
        "\n",
        "# Do lemmatization keeping only noun, adj, vb, adv\n",
        "review_data_lemmatized = lemmatization(review_data_words_bigrams, allowed_postags=['NOUN', 'ADJ', 'VERB', 'ADV'])\n",
        "\n",
        "print(review_data_lemmatized[:1])"
      ],
      "metadata": {
        "colab": {
          "base_uri": "https://localhost:8080/"
        },
        "id": "aXkGEX4Vtzfh",
        "outputId": "3e79ec94-0177-45c4-da01-608d035d6163"
      },
      "execution_count": 12,
      "outputs": [
        {
          "output_type": "stream",
          "name": "stderr",
          "text": [
            "/usr/local/lib/python3.9/dist-packages/torch/cuda/__init__.py:497: UserWarning: Can't initialize NVML\n",
            "  warnings.warn(\"Can't initialize NVML\")\n"
          ]
        },
        {
          "output_type": "stream",
          "name": "stdout",
          "text": [
            "[['product', 'value', 'money', 'nice', 'product', 'bill', 'quality', 'diesel', 'look', 'nice']]\n"
          ]
        }
      ]
    },
    {
      "cell_type": "code",
      "source": [
        "review_id2word = corpora.Dictionary(review_data_lemmatized) # corpus dictionary\n",
        "review_texts = review_data_lemmatized\n",
        "review_corpus = [review_id2word.doc2bow(text) for text in review_texts] # doc term matrix\n",
        "print(review_corpus[:1])\n",
        "[[(review_id2word[i], f) for i, f in c] for c in review_corpus[:1]]"
      ],
      "metadata": {
        "colab": {
          "base_uri": "https://localhost:8080/"
        },
        "id": "Vzahlyc5tzix",
        "outputId": "5961920c-1b04-48e7-e629-b64be63c38a1"
      },
      "execution_count": 13,
      "outputs": [
        {
          "output_type": "stream",
          "name": "stdout",
          "text": [
            "[[(0, 1), (1, 1), (2, 1), (3, 1), (4, 2), (5, 2), (6, 1), (7, 1)]]\n"
          ]
        },
        {
          "output_type": "execute_result",
          "data": {
            "text/plain": [
              "[[('bill', 1),\n",
              "  ('diesel', 1),\n",
              "  ('look', 1),\n",
              "  ('money', 1),\n",
              "  ('nice', 2),\n",
              "  ('product', 2),\n",
              "  ('quality', 1),\n",
              "  ('value', 1)]]"
            ]
          },
          "metadata": {},
          "execution_count": 13
        }
      ]
    },
    {
      "cell_type": "code",
      "source": [
        "review_id2word[0]"
      ],
      "metadata": {
        "colab": {
          "base_uri": "https://localhost:8080/",
          "height": 35
        },
        "id": "YrPISfyjuAwM",
        "outputId": "e5c3b53c-b25b-4c5a-a824-83677cc851d1"
      },
      "execution_count": 14,
      "outputs": [
        {
          "output_type": "execute_result",
          "data": {
            "text/plain": [
              "'bill'"
            ],
            "application/vnd.google.colaboratory.intrinsic+json": {
              "type": "string"
            }
          },
          "metadata": {},
          "execution_count": 14
        }
      ]
    },
    {
      "cell_type": "markdown",
      "source": [
        "<b> LDA </b>"
      ],
      "metadata": {
        "id": "yMdG-r7duFS-"
      }
    },
    {
      "cell_type": "code",
      "source": [
        "# Sample model for lda generating total of 20 topics\n",
        "from pprint import pprint\n",
        "lda_model = gensim.models.ldamodel.LdaModel(corpus=review_corpus,\n",
        "                                           id2word=review_id2word,\n",
        "                                           num_topics=20, \n",
        "                                           random_state=100,\n",
        "                                           update_every=1,\n",
        "                                           chunksize=100,\n",
        "                                           passes=10,\n",
        "                                           alpha='auto',\n",
        "                                           per_word_topics=True)\n",
        "pprint(lda_model.print_topics())\n",
        "doc_lda = lda_model[review_corpus]"
      ],
      "metadata": {
        "colab": {
          "base_uri": "https://localhost:8080/"
        },
        "id": "pC_dr7USuAy6",
        "outputId": "4149e718-bafa-4705-d6ef-a860ca4344aa"
      },
      "execution_count": 15,
      "outputs": [
        {
          "output_type": "stream",
          "name": "stdout",
          "text": [
            "[(0,\n",
            "  '0.332*\"buy\" + 0.058*\"timer\" + 0.058*\"alarm\" + 0.001*\"bad\" + 0.001*\"item\" + '\n",
            "  '0.001*\"band\" + 0.001*\"stylish\" + 0.001*\"make\" + 0.001*\"save\" + '\n",
            "  '0.001*\"plastic\"'),\n",
            " (1,\n",
            "  '0.234*\"happy\" + 0.180*\"well\" + 0.084*\"wise\" + 0.081*\"delivery\" + '\n",
            "  '0.080*\"fast\" + 0.020*\"beautiful\" + 0.016*\"pretty\" + 0.004*\"look\" + '\n",
            "  '0.004*\"watch\" + 0.003*\"much\"'),\n",
            " (2,\n",
            "  '0.234*\"good\" + 0.227*\"price\" + 0.101*\"quality\" + 0.068*\"nice\" + '\n",
            "  '0.042*\"rubber\" + 0.033*\"build\" + 0.026*\"product\" + 0.021*\"valuable\" + '\n",
            "  '0.018*\"money\" + 0.015*\"stap\"'),\n",
            " (3,\n",
            "  '0.370*\"watch\" + 0.073*\"good\" + 0.044*\"design\" + 0.035*\"fantastic\" + '\n",
            "  '0.033*\"quality\" + 0.028*\"suitable\" + 0.027*\"recommend\" + 0.026*\"beautiful\" '\n",
            "  '+ 0.024*\"colour\" + 0.023*\"look\"'),\n",
            " (4,\n",
            "  '0.129*\"watch\" + 0.113*\"love\" + 0.105*\"cool\" + 0.101*\"pretty\" + 0.071*\"go\" + '\n",
            "  '0.054*\"receive\" + 0.042*\"gift\" + 0.031*\"guy\" + 0.029*\"rate\" + '\n",
            "  '0.029*\"packaging\"'),\n",
            " (5,\n",
            "  '0.147*\"watch\" + 0.129*\"look\" + 0.085*\"nice\" + 0.050*\"buy\" + 0.047*\"product\" '\n",
            "  '+ 0.038*\"worth\" + 0.035*\"much\" + 0.033*\"hand\" + 0.031*\"flipkart\" + '\n",
            "  '0.027*\"time\"'),\n",
            " (6,\n",
            "  '0.195*\"great\" + 0.124*\"quality\" + 0.114*\"design\" + 0.109*\"also\" + '\n",
            "  '0.077*\"belt\" + 0.054*\"dial\" + 0.035*\"look\" + 0.027*\"month\" + 0.019*\"deal\" + '\n",
            "  '0.013*\"dash\"'),\n",
            " (7,\n",
            "  '0.002*\"good\" + 0.002*\"product\" + 0.002*\"lovely\" + 0.002*\"excellenti\" + '\n",
            "  '0.002*\"long\" + 0.002*\"mind\" + 0.002*\"bad\" + 0.002*\"blow\" + 0.002*\"avarage\" '\n",
            "  '+ 0.002*\"item\"'),\n",
            " (8,\n",
            "  '0.002*\"lovely\" + 0.002*\"avarage\" + 0.002*\"function\" + 0.002*\"long\" + '\n",
            "  '0.002*\"mind\" + 0.002*\"bad\" + 0.002*\"wai\" + 0.002*\"item\" + '\n",
            "  '0.002*\"excellenti\" + 0.002*\"take\"'),\n",
            " (9,\n",
            "  '0.534*\"good\" + 0.166*\"quality\" + 0.117*\"look\" + 0.011*\"available\" + '\n",
            "  '0.004*\"however\" + 0.004*\"stuff\" + 0.004*\"filipkart\" + 0.000*\"watch\" + '\n",
            "  '0.000*\"watchthank\" + 0.000*\"𝚕𝚘𝚘𝚔ke\"'),\n",
            " (10,\n",
            "  '0.118*\"time\" + 0.095*\"day\" + 0.083*\"show\" + 0.071*\"real\" + 0.070*\"hour\" + '\n",
            "  '0.056*\"warranty\" + 0.050*\"week\" + 0.048*\"year\" + 0.037*\"go\" + 0.037*\"buy\"'),\n",
            " (11,\n",
            "  '0.461*\"love\" + 0.240*\"really\" + 0.072*\"much\" + 0.027*\"thank\" + '\n",
            "  '0.007*\"flipkart\" + 0.000*\"lot\" + 0.000*\"flip\" + 0.000*\"friend\" + '\n",
            "  '0.000*\"gifted\" + 0.000*\"jab\"'),\n",
            " (12,\n",
            "  '0.231*\"product\" + 0.149*\"awesome\" + 0.109*\"beautiful\" + 0.096*\"give\" + '\n",
            "  '0.049*\"purchase\" + 0.038*\"thank\" + 0.028*\"amazing\" + 0.023*\"go\" + '\n",
            "  '0.023*\"look\" + 0.018*\"review\"'),\n",
            " (13,\n",
            "  '0.125*\"strap\" + 0.074*\"big\" + 0.073*\"excellent\" + 0.063*\"quality\" + '\n",
            "  '0.062*\"expect\" + 0.048*\"range\" + 0.045*\"always\" + 0.043*\"watch\" + '\n",
            "  '0.029*\"build\" + 0.029*\"stunning\"'),\n",
            " (14,\n",
            "  '0.200*\"flipkart\" + 0.192*\"thank\" + 0.171*\"product\" + 0.150*\"amazing\" + '\n",
            "  '0.062*\"much\" + 0.045*\"worthy\" + 0.004*\"enough\" + 0.000*\"love\" + '\n",
            "  '0.000*\"satisfy\" + 0.000*\"perfect\"'),\n",
            " (15,\n",
            "  '0.179*\"delivery\" + 0.137*\"fast\" + 0.117*\"kart\" + 0.111*\"thank\" + '\n",
            "  '0.001*\"look\" + 0.001*\"quality\" + 0.001*\"lot\" + 0.001*\"friend\" + '\n",
            "  '0.001*\"flip\" + 0.001*\"gifted\"'),\n",
            " (16,\n",
            "  '0.076*\"go\" + 0.064*\"order\" + 0.063*\"happy\" + 0.063*\"gift\" + 0.063*\"sister\" '\n",
            "  '+ 0.061*\"wonderful\" + 0.058*\"super\" + 0.043*\"amazing\" + 0.034*\"word\" + '\n",
            "  '0.034*\"say\"'),\n",
            " (17,\n",
            "  '0.803*\"nice\" + 0.030*\"wacth\" + 0.000*\"packing\" + 0.000*\"waterproof\" + '\n",
            "  '0.000*\"choice\" + 0.000*\"productb\" + 0.000*\"red\" + 0.000*\"wear\" + '\n",
            "  '0.000*\"gifted\" + 0.000*\"friend\"'),\n",
            " (18,\n",
            "  '0.390*\"product\" + 0.195*\"money\" + 0.137*\"good\" + 0.123*\"value\" + '\n",
            "  '0.038*\"look\" + 0.003*\"quantity\" + 0.000*\"classy\" + 0.000*\"cost\" + '\n",
            "  '0.000*\"band\" + 0.000*\"stylish\"'),\n",
            " (19,\n",
            "  '0.002*\"lovely\" + 0.002*\"avarage\" + 0.002*\"function\" + 0.002*\"long\" + '\n",
            "  '0.002*\"mind\" + 0.002*\"bad\" + 0.002*\"wai\" + 0.002*\"item\" + '\n",
            "  '0.002*\"excellenti\" + 0.002*\"take\"')]\n"
          ]
        }
      ]
    },
    {
      "cell_type": "code",
      "source": [
        "# Compute Coherence Score\n",
        "coherence_model_lda = CoherenceModel(model=lda_model, texts=review_data_lemmatized, dictionary=review_id2word, coherence='c_v')\n",
        "coherence_lda = coherence_model_lda.get_coherence()\n",
        "print('\\nCoherence Score: ', coherence_lda)"
      ],
      "metadata": {
        "colab": {
          "base_uri": "https://localhost:8080/"
        },
        "id": "LOi-p8_5uMet",
        "outputId": "d44ce3bd-6485-4b63-bde1-9ed66cc01611"
      },
      "execution_count": 16,
      "outputs": [
        {
          "output_type": "stream",
          "name": "stdout",
          "text": [
            "\n",
            "Coherence Score:  0.4105615751771593\n"
          ]
        }
      ]
    },
    {
      "cell_type": "code",
      "source": [
        "# import pyLDAvis\n",
        "# import pyLDAvis.gensim  # don't skip this\n",
        "# import matplotlib.pyplot as plt\n",
        "# %matplotlib inline\n",
        "# pyLDAvis.enable_notebook()\n",
        "# vis = pyLDAvis.gensim.prepare(lda_model, corpus, id2word)\n",
        "# vis"
      ],
      "metadata": {
        "id": "Td2k4gLkuMhR"
      },
      "execution_count": 17,
      "outputs": []
    },
    {
      "cell_type": "code",
      "source": [
        "# calculating model coherence value for various number of topics to get the best k number\n",
        "def compute_coherence_values(dictionary, corpus, texts, limit, start=2, step=3):\n",
        "    \"\"\"\n",
        "    Parameters:\n",
        "    ----------\n",
        "    dictionary : Gensim dictionary\n",
        "    corpus : Gensim corpus\n",
        "    texts : List of input texts\n",
        "    limit : Max num of topics\n",
        "\n",
        "    Returns:\n",
        "    -------\n",
        "    model_list : List of LDA topic models\n",
        "    coherence_values : Coherence values corresponding to the LDA model with respective number of topics\n",
        "    \"\"\"\n",
        "    coherence_values = []\n",
        "    model_list = []\n",
        "    for num_topics in range(start, limit, step):\n",
        "        model = gensim.models.ldamodel.LdaModel(corpus=corpus,\n",
        "                                           id2word=dictionary,\n",
        "                                           num_topics=num_topics, \n",
        "                                           random_state=100,\n",
        "                                           update_every=1,\n",
        "                                           chunksize=100,\n",
        "                                           passes=10,\n",
        "                                           alpha='auto',\n",
        "                                           per_word_topics=True)\n",
        "        model_list.append(model)\n",
        "        coherencemodel = CoherenceModel(model=model, texts=texts, dictionary=dictionary, coherence='c_v')\n",
        "        coherence_values.append(coherencemodel.get_coherence())\n",
        "\n",
        "    return model_list, coherence_values\n",
        "start, limit, step=2, 20, 2\n",
        "model_list, coherence_values = compute_coherence_values(dictionary=review_id2word, corpus=review_corpus, texts=review_data_lemmatized, start=start, limit=limit, step=step)\n",
        "coherence_values_all = []\n",
        "for m, cv in zip(range(start, limit, step), coherence_values):\n",
        "    coherence_values_all.append(round(cv,4))\n",
        "    print(\"Num Topics =\", m, \" has Coherence Value of\", round(cv, 4))"
      ],
      "metadata": {
        "colab": {
          "base_uri": "https://localhost:8080/"
        },
        "id": "2-gKXVQAuMjn",
        "outputId": "35918340-8b2a-4331-a8e5-6e731e77d35f"
      },
      "execution_count": 18,
      "outputs": [
        {
          "output_type": "stream",
          "name": "stdout",
          "text": [
            "Num Topics = 2  has Coherence Value of 0.4261\n",
            "Num Topics = 4  has Coherence Value of 0.3659\n",
            "Num Topics = 6  has Coherence Value of 0.4061\n",
            "Num Topics = 8  has Coherence Value of 0.442\n",
            "Num Topics = 10  has Coherence Value of 0.4883\n",
            "Num Topics = 12  has Coherence Value of 0.3569\n",
            "Num Topics = 14  has Coherence Value of 0.4071\n",
            "Num Topics = 16  has Coherence Value of 0.3635\n",
            "Num Topics = 18  has Coherence Value of 0.365\n"
          ]
        }
      ]
    },
    {
      "cell_type": "code",
      "source": [
        "sum(coherence_values_all)/len(coherence_values_all)"
      ],
      "metadata": {
        "colab": {
          "base_uri": "https://localhost:8080/"
        },
        "id": "OxuSeQBeuMnG",
        "outputId": "01ff8e42-f8e9-4075-b18b-a4b0ac7a9383"
      },
      "execution_count": 19,
      "outputs": [
        {
          "output_type": "execute_result",
          "data": {
            "text/plain": [
              "0.4023222222222223"
            ]
          },
          "metadata": {},
          "execution_count": 19
        }
      ]
    },
    {
      "cell_type": "markdown",
      "source": [
        "As we can see the values are first decreased and then increasing. Hence taking the value, which is near to mean of all coherence values. Taking 6 topics with value 0.40."
      ],
      "metadata": {
        "id": "8sKZxkcRuVqD"
      }
    },
    {
      "cell_type": "code",
      "source": [
        "optimal_model = model_list[2] # getting the topics=6 model, which is in 2nd index of our model and getting the 6 topics.\n",
        "model_topics = optimal_model.show_topics(formatted=False)\n",
        "pprint(optimal_model.print_topics(num_words=10))"
      ],
      "metadata": {
        "colab": {
          "base_uri": "https://localhost:8080/"
        },
        "id": "Jh9lgb13uV4B",
        "outputId": "e05ce619-8c9b-4f89-c060-756653cc9780"
      },
      "execution_count": 20,
      "outputs": [
        {
          "output_type": "stream",
          "name": "stdout",
          "text": [
            "[(0,\n",
            "  '0.055*\"time\" + 0.040*\"look\" + 0.027*\"buy\" + 0.024*\"day\" + 0.022*\"classy\" + '\n",
            "  '0.021*\"show\" + 0.020*\"wear\" + 0.018*\"real\" + 0.018*\"hour\" + 0.017*\"go\"'),\n",
            " (1,\n",
            "  '0.083*\"much\" + 0.057*\"watch\" + 0.035*\"keep\" + 0.034*\"fantastic\" + '\n",
            "  '0.029*\"gifted\" + 0.027*\"lot\" + 0.023*\"wise\" + 0.018*\"well\" + 0.017*\"flip\" + '\n",
            "  '0.016*\"perfect\"'),\n",
            " (2,\n",
            "  '0.040*\"quality\" + 0.038*\"strap\" + 0.035*\"watch\" + 0.027*\"look\" + '\n",
            "  '0.027*\"good\" + 0.023*\"big\" + 0.020*\"worth\" + 0.019*\"expect\" + '\n",
            "  '0.019*\"excellent\" + 0.018*\"build\"'),\n",
            " (3,\n",
            "  '0.111*\"good\" + 0.109*\"watch\" + 0.094*\"nice\" + 0.075*\"product\" + '\n",
            "  '0.042*\"look\" + 0.040*\"thank\" + 0.038*\"love\" + 0.035*\"quality\" + '\n",
            "  '0.034*\"flipkart\" + 0.031*\"really\"'),\n",
            " (4,\n",
            "  '0.045*\"great\" + 0.045*\"love\" + 0.031*\"go\" + 0.029*\"gift\" + 0.029*\"stylish\" '\n",
            "  '+ 0.028*\"pretty\" + 0.028*\"cool\" + 0.026*\"belt\" + 0.022*\"product\" + '\n",
            "  '0.021*\"amazing\"'),\n",
            " (5,\n",
            "  '0.162*\"product\" + 0.108*\"money\" + 0.096*\"nice\" + 0.074*\"value\" + '\n",
            "  '0.030*\"worth\" + 0.026*\"buy\" + 0.023*\"much\" + 0.021*\"wrist\" + 0.018*\"band\" + '\n",
            "  '0.018*\"super\"')]\n"
          ]
        }
      ]
    },
    {
      "cell_type": "markdown",
      "metadata": {
        "id": "xgj8lG00tgEs"
      },
      "source": [
        "## (2) (10 points) Generate K topics by using LSA, the number of topics K should be decided by the coherence score, then summarize what are the topics. You may refer the code here:\n",
        "\n",
        "https://www.datacamp.com/community/tutorials/discovering-hidden-topics-python"
      ]
    },
    {
      "cell_type": "code",
      "execution_count": 21,
      "metadata": {
        "colab": {
          "base_uri": "https://localhost:8080/"
        },
        "id": "akojBGFJtgEt",
        "outputId": "d41d93cd-e6c1-4865-c5fe-33db4b31c3bc"
      },
      "outputs": [
        {
          "output_type": "stream",
          "name": "stdout",
          "text": [
            "[(0, '0.578*\"watch\" + 0.364*\"product\" + 0.361*\"nice\" + 0.360*\"good\" + 0.251*\"look\" + 0.196*\"quality\" + 0.136*\"thank\" + 0.135*\"flipkart\" + 0.105*\"love\" + 0.095*\"money\"'), (1, '0.670*\"watch\" + -0.604*\"product\" + -0.278*\"good\" + -0.124*\"nice\" + -0.095*\"money\" + -0.067*\"love\" + 0.066*\"look\" + -0.065*\"really\" + -0.058*\"thank\" + -0.054*\"flipkart\"'), (2, '0.711*\"good\" + -0.480*\"product\" + 0.278*\"quality\" + -0.200*\"nice\" + -0.150*\"watch\" + 0.106*\"money\" + 0.097*\"fast\" + 0.093*\"price\" + 0.074*\"design\" + -0.070*\"give\"'), (3, '-0.832*\"nice\" + 0.291*\"product\" + 0.136*\"watch\" + 0.124*\"go\" + 0.117*\"love\" + -0.102*\"quality\" + 0.099*\"give\" + 0.094*\"good\" + 0.084*\"amazing\" + 0.080*\"time\"'), (4, '-0.690*\"look\" + 0.255*\"watch\" + 0.228*\"good\" + -0.154*\"worth\" + -0.145*\"clear\" + -0.137*\"wear\" + -0.123*\"quality\" + 0.118*\"flipkart\" + -0.112*\"buy\" + -0.110*\"belt\"'), (5, '0.504*\"thank\" + 0.392*\"flipkart\" + 0.298*\"love\" + 0.285*\"really\" + -0.253*\"product\" + -0.179*\"money\" + 0.162*\"fast\" + -0.140*\"quality\" + 0.137*\"look\" + 0.131*\"delivery\"'), (6, '-0.577*\"love\" + -0.406*\"quality\" + -0.284*\"really\" + -0.248*\"great\" + 0.216*\"look\" + 0.202*\"flipkart\" + 0.178*\"good\" + -0.176*\"also\" + 0.138*\"thank\" + -0.096*\"design\"'), (7, '-0.367*\"money\" + -0.340*\"quality\" + 0.242*\"good\" + -0.223*\"thank\" + -0.202*\"value\" + -0.180*\"excellent\" + 0.169*\"buy\" + 0.150*\"love\" + 0.150*\"nice\" + -0.150*\"strap\"'), (8, '0.303*\"hour\" + 0.286*\"time\" + 0.278*\"niddle\" + 0.278*\"position\" + 0.278*\"minute\" + -0.230*\"look\" + 0.215*\"real\" + 0.204*\"go\" + 0.164*\"day\" + -0.150*\"good\"'), (9, '-0.334*\"money\" + 0.246*\"niddle\" + 0.246*\"position\" + 0.246*\"minute\" + -0.222*\"value\" + -0.217*\"wise\" + 0.185*\"quality\" + 0.167*\"great\" + 0.166*\"hour\" + -0.162*\"buy\"')]\n"
          ]
        }
      ],
      "source": [
        "# Write your code here\n",
        "\n",
        "# Write your code here\n",
        "\n",
        "from gensim.models import LsiModel\n",
        "\n",
        "lsamodel = LsiModel(review_corpus, num_topics=10, id2word = review_id2word)  # train model\n",
        "print(lsamodel.print_topics(num_topics=10, num_words=10))"
      ]
    },
    {
      "cell_type": "code",
      "source": [
        "coherencemodel = CoherenceModel(model=lsamodel, texts=review_data_lemmatized, dictionary=review_id2word, coherence='c_v')\n",
        "print(coherencemodel.get_coherence())"
      ],
      "metadata": {
        "colab": {
          "base_uri": "https://localhost:8080/"
        },
        "id": "xcy9Mh45vv9o",
        "outputId": "d867c1dc-becb-41a6-e660-c7eebc88f597"
      },
      "execution_count": 22,
      "outputs": [
        {
          "output_type": "stream",
          "name": "stdout",
          "text": [
            "0.3539981851335198\n"
          ]
        }
      ]
    },
    {
      "cell_type": "code",
      "source": [
        "def compute_lsa_coherence_values(dictionary, corpus, texts, limit, start=2, step=3):\n",
        "    coherence_values = []\n",
        "    model_list = []\n",
        "    for num_topics in range(start, limit, step):\n",
        "        lsamodel = LsiModel(corpus, num_topics=num_topics, id2word = dictionary)  # train model\n",
        "        model_list.append(lsamodel)\n",
        "        coherencemodel = CoherenceModel(model=lsamodel, texts=texts, dictionary=dictionary, coherence='c_v')\n",
        "        coherence_values.append(coherencemodel.get_coherence())\n",
        "\n",
        "    return model_list, coherence_values\n",
        "\n",
        "start, limit, step=2, 20, 2\n",
        "model_lsa_list, coherence_values = compute_lsa_coherence_values(dictionary=review_id2word, corpus=review_corpus, texts=review_data_lemmatized, start=start, limit=limit, step=step)\n",
        "coherence_values_all = []\n",
        "for m, cv in zip(range(start, limit, step), coherence_values):\n",
        "    coherence_values_all.append(round(cv,4))\n",
        "    print(\"Num Topics =\", m, \" has Coherence Value of\", round(cv, 4))"
      ],
      "metadata": {
        "colab": {
          "base_uri": "https://localhost:8080/"
        },
        "id": "_2GcbJdPvwAy",
        "outputId": "7c1109e4-5e35-44c1-eb80-b57f8d2b54bc"
      },
      "execution_count": 23,
      "outputs": [
        {
          "output_type": "stream",
          "name": "stdout",
          "text": [
            "Num Topics = 2  has Coherence Value of 0.4101\n",
            "Num Topics = 4  has Coherence Value of 0.3722\n",
            "Num Topics = 6  has Coherence Value of 0.4194\n",
            "Num Topics = 8  has Coherence Value of 0.3979\n",
            "Num Topics = 10  has Coherence Value of 0.3394\n",
            "Num Topics = 12  has Coherence Value of 0.3573\n",
            "Num Topics = 14  has Coherence Value of 0.3882\n",
            "Num Topics = 16  has Coherence Value of 0.365\n",
            "Num Topics = 18  has Coherence Value of 0.3721\n"
          ]
        }
      ]
    },
    {
      "cell_type": "code",
      "source": [
        "coherence_values_all"
      ],
      "metadata": {
        "colab": {
          "base_uri": "https://localhost:8080/"
        },
        "id": "AJ-cpejcvwEK",
        "outputId": "c6cdf724-83f2-4790-fe99-bf878df6afd1"
      },
      "execution_count": 24,
      "outputs": [
        {
          "output_type": "execute_result",
          "data": {
            "text/plain": [
              "[0.4101, 0.3722, 0.4194, 0.3979, 0.3394, 0.3573, 0.3882, 0.365, 0.3721]"
            ]
          },
          "metadata": {},
          "execution_count": 24
        }
      ]
    },
    {
      "cell_type": "code",
      "source": [
        "sum(coherence_values_all)/len(coherence_values_all)"
      ],
      "metadata": {
        "colab": {
          "base_uri": "https://localhost:8080/"
        },
        "id": "J6ww3egjv4Zr",
        "outputId": "c7c6a64b-8ac0-48ae-f7a7-3e22c37c7ddf"
      },
      "execution_count": 25,
      "outputs": [
        {
          "output_type": "execute_result",
          "data": {
            "text/plain": [
              "0.3801777777777778"
            ]
          },
          "metadata": {},
          "execution_count": 25
        }
      ]
    },
    {
      "cell_type": "markdown",
      "source": [
        "As we can see the values are first decreased and then increasing, which is in unorganised way. Hence taking the value, which is near to mean of all coherence values. Taking 14 topics with value 0.38. "
      ],
      "metadata": {
        "id": "RFF8A9O_v7Xl"
      }
    },
    {
      "cell_type": "code",
      "source": [
        "optimal_model = model_list[6] # getting the topics=14 model, which is in 6th index of our model and getting the 14 topics.\n",
        "model_topics = optimal_model.show_topics(formatted=False)\n",
        "pprint(optimal_model.print_topics(num_words=10))"
      ],
      "metadata": {
        "colab": {
          "base_uri": "https://localhost:8080/"
        },
        "id": "bcU-CH3Dv7jQ",
        "outputId": "577a8b0e-04ec-4897-d27e-ed10d1f4f4bc"
      },
      "execution_count": 26,
      "outputs": [
        {
          "output_type": "stream",
          "name": "stdout",
          "text": [
            "[(0,\n",
            "  '0.002*\"lovely\" + 0.002*\"avarage\" + 0.002*\"function\" + 0.002*\"long\" + '\n",
            "  '0.002*\"mind\" + 0.002*\"bad\" + 0.002*\"wai\" + 0.002*\"item\" + '\n",
            "  '0.002*\"excellenti\" + 0.002*\"take\"'),\n",
            " (1,\n",
            "  '0.091*\"worth\" + 0.086*\"overall\" + 0.077*\"fantastic\" + 0.066*\"gifted\" + '\n",
            "  '0.056*\"look\" + 0.051*\"wise\" + 0.037*\"good\" + 0.024*\"feature\" + 0.022*\"well\" '\n",
            "  '+ 0.021*\"rate\"'),\n",
            " (2,\n",
            "  '0.480*\"good\" + 0.116*\"quality\" + 0.092*\"awesome\" + 0.027*\"worthy\" + '\n",
            "  '0.021*\"rubber\" + 0.020*\"build\" + 0.014*\"𝚕𝚘𝚘𝚔ke\" + 0.014*\"classic\" + '\n",
            "  '0.013*\"money\" + 0.011*\"valuable\"'),\n",
            " (3,\n",
            "  '0.191*\"watch\" + 0.071*\"good\" + 0.060*\"nice\" + 0.053*\"look\" + '\n",
            "  '0.034*\"flipkart\" + 0.028*\"thank\" + 0.024*\"design\" + 0.022*\"delivery\" + '\n",
            "  '0.021*\"fast\" + 0.020*\"hand\"'),\n",
            " (4,\n",
            "  '0.140*\"pretty\" + 0.082*\"definitely\" + 0.038*\"product\" + 0.036*\"packaging\" + '\n",
            "  '0.034*\"purchase\" + 0.033*\"cool\" + 0.032*\"short\" + 0.028*\"simple\" + '\n",
            "  '0.023*\"screen\" + 0.022*\"sturdy\"'),\n",
            " (5,\n",
            "  '0.266*\"product\" + 0.261*\"nice\" + 0.077*\"money\" + 0.058*\"look\" + 0.055*\"buy\" '\n",
            "  '+ 0.050*\"value\" + 0.025*\"like\" + 0.019*\"watch\" + 0.014*\"kart\" + '\n",
            "  '0.011*\"quality\"'),\n",
            " (6,\n",
            "  '0.141*\"super\" + 0.060*\"brand\" + 0.002*\"stainless\" + 0.002*\"osam\" + '\n",
            "  '0.002*\"solid\" + 0.002*\"product\" + 0.002*\"beautiful\" + 0.002*\"good\" + '\n",
            "  '0.002*\"steel\" + 0.002*\"money\"'),\n",
            " (7,\n",
            "  '0.109*\"time\" + 0.051*\"day\" + 0.048*\"wear\" + 0.045*\"show\" + 0.038*\"real\" + '\n",
            "  '0.037*\"hour\" + 0.037*\"buy\" + 0.031*\"thing\" + 0.030*\"warranty\" + 0.029*\"go\"'),\n",
            " (8,\n",
            "  '0.051*\"date\" + 0.051*\"month\" + 0.040*\"light\" + 0.032*\"coated\" + '\n",
            "  '0.032*\"texture\" + 0.025*\"time\" + 0.023*\"provide\" + 0.016*\"worthable\" + '\n",
            "  '0.016*\"usual\" + 0.016*\"sometimes\"'),\n",
            " (9,\n",
            "  '0.105*\"product\" + 0.092*\"love\" + 0.075*\"amazing\" + 0.064*\"price\" + '\n",
            "  '0.050*\"happy\" + 0.047*\"gift\" + 0.036*\"go\" + 0.034*\"flipkart\" + '\n",
            "  '0.029*\"order\" + 0.029*\"sister\"'),\n",
            " (10,\n",
            "  '0.085*\"look\" + 0.083*\"great\" + 0.038*\"also\" + 0.037*\"classy\" + '\n",
            "  '0.037*\"stylish\" + 0.033*\"belt\" + 0.030*\"quality\" + 0.029*\"clear\" + '\n",
            "  '0.026*\"dial\" + 0.025*\"sleek\"'),\n",
            " (11,\n",
            "  '0.170*\"love\" + 0.122*\"really\" + 0.099*\"much\" + 0.098*\"thank\" + '\n",
            "  '0.065*\"flipkart\" + 0.044*\"flip\" + 0.036*\"lot\" + 0.036*\"friend\" + '\n",
            "  '0.018*\"lady\" + 0.018*\"sis\"'),\n",
            " (12,\n",
            "  '0.107*\"watch\" + 0.062*\"product\" + 0.053*\"give\" + 0.050*\"perfect\" + '\n",
            "  '0.045*\"beautiful\" + 0.035*\"keep\" + 0.034*\"much\" + 0.030*\"go\" + 0.030*\"love\" '\n",
            "  '+ 0.028*\"thank\"'),\n",
            " (13,\n",
            "  '0.080*\"strap\" + 0.052*\"quality\" + 0.048*\"big\" + 0.047*\"excellent\" + '\n",
            "  '0.040*\"item\" + 0.039*\"expect\" + 0.037*\"watch\" + 0.036*\"bad\" + 0.031*\"range\" '\n",
            "  '+ 0.029*\"always\"')]\n"
          ]
        }
      ]
    },
    {
      "cell_type": "code",
      "source": [],
      "metadata": {
        "id": "vUZ9MoWkv7mr"
      },
      "execution_count": null,
      "outputs": []
    },
    {
      "cell_type": "code",
      "source": [],
      "metadata": {
        "id": "fWLJDD-Rv4dL"
      },
      "execution_count": null,
      "outputs": []
    },
    {
      "cell_type": "markdown",
      "metadata": {
        "id": "wOZHaeRStgEt"
      },
      "source": [
        "## (3) (10 points) Generate K topics by using  lda2vec, the number of topics K should be decided by the coherence score, then summarize what are the topics. You may refer the code here:\n",
        "\n",
        "https://nbviewer.org/github/cemoody/lda2vec/blob/master/examples/twenty_newsgroups/lda2vec/lda2vec.ipynb"
      ]
    },
    {
      "cell_type": "code",
      "execution_count": null,
      "metadata": {
        "id": "ch699a4OtgEt"
      },
      "outputs": [],
      "source": [
        "# Write your code here\n",
        "\n",
        "\n",
        "\n"
      ]
    },
    {
      "cell_type": "markdown",
      "metadata": {
        "id": "nUT70GV9tgEt"
      },
      "source": [
        "## (4) (10 points) Generate K topics by using BERTopic, the number of topics K should be decided by the coherence score, then summarize what are the topics. You may refer the code here: \n",
        "\n",
        "https://colab.research.google.com/drive/1FieRA9fLdkQEGDIMYl0I3MCjSUKVF8C-?usp=sharing"
      ]
    },
    {
      "cell_type": "code",
      "execution_count": null,
      "metadata": {
        "id": "VYSRB1iwtgEt"
      },
      "outputs": [],
      "source": [
        "# Write your code here\n",
        "\n",
        "\n",
        "\n"
      ]
    },
    {
      "cell_type": "markdown",
      "metadata": {
        "id": "CSq6YMrBtgEt"
      },
      "source": [
        "## (5) (10 extra points) Compare the results generated by the four topic modeling algorithms, which one is better? You should explain the reasons in details."
      ]
    },
    {
      "cell_type": "code",
      "execution_count": null,
      "metadata": {
        "id": "_spKj9UftgEu"
      },
      "outputs": [],
      "source": [
        "# Write your answer here (no code needed for this question)\n",
        "\n",
        "\n",
        "\n"
      ]
    }
  ],
  "metadata": {
    "kernelspec": {
      "display_name": "Python 3 (ipykernel)",
      "language": "python",
      "name": "python3"
    },
    "language_info": {
      "codemirror_mode": {
        "name": "ipython",
        "version": 3
      },
      "file_extension": ".py",
      "mimetype": "text/x-python",
      "name": "python",
      "nbconvert_exporter": "python",
      "pygments_lexer": "ipython3",
      "version": "3.9.12"
    },
    "colab": {
      "provenance": [],
      "include_colab_link": true
    }
  },
  "nbformat": 4,
  "nbformat_minor": 0
}