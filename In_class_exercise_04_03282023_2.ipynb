{
  "cells": [
    {
      "cell_type": "markdown",
      "metadata": {
        "id": "view-in-github",
        "colab_type": "text"
      },
      "source": [
        "<a href=\"https://colab.research.google.com/github/abhi147p/Abhishek_INFO5731_Spring2023/blob/main/In_class_exercise_04_03282023_2.ipynb\" target=\"_parent\"><img src=\"https://colab.research.google.com/assets/colab-badge.svg\" alt=\"Open In Colab\"/></a>"
      ]
    },
    {
      "cell_type": "markdown",
      "metadata": {
        "id": "0xT9z9NqZUtv"
      },
      "source": [
        "# **The fourth in-class-exercise (40 points in total, 03/28/2022)**"
      ],
      "id": "0xT9z9NqZUtv"
    },
    {
      "cell_type": "markdown",
      "metadata": {
        "id": "jca1oRtJZUtx"
      },
      "source": [
        "Question description: Please use the text corpus you collected in your last in-class-exercise for this exercise. Perform the following tasks:"
      ],
      "id": "jca1oRtJZUtx"
    },
    {
      "cell_type": "markdown",
      "metadata": {
        "id": "PszLFbkfZUtx"
      },
      "source": [
        "## (1) (10 points) Generate K topics by using LDA, the number of topics K should be decided by the coherence score, then summarize what are the topics. You may refer the code here: \n",
        "\n",
        "https://www.machinelearningplus.com/nlp/topic-modeling-gensim-python/"
      ],
      "id": "PszLFbkfZUtx"
    },
    {
      "cell_type": "code",
      "execution_count": null,
      "metadata": {
        "colab": {
          "base_uri": "https://localhost:8080/",
          "height": 406
        },
        "id": "lHWgLTqrZUty",
        "outputId": "80249f7c-3daf-4da7-bf7c-0ed001c59923"
      },
      "outputs": [
        {
          "output_type": "stream",
          "name": "stdout",
          "text": [
            "Enter no of pages: 3\n",
            "Processed 1 pages\n",
            "Processed 2 pages\n",
            "Processed 3 pages\n"
          ]
        },
        {
          "output_type": "execute_result",
          "data": {
            "text/plain": [
              "                                               Title  \\\n",
              "0  Chronograph Pattern Combo of 3 watches Analog ...   \n",
              "1  Chronograph Pattern Combo of 3 watches Analog ...   \n",
              "2  Chronograph Pattern Combo of 3 watches Analog ...   \n",
              "3  Digital Dial Waterproof LED Display Kids Watch...   \n",
              "4  Digital Dial Waterproof LED Display Kids Watch...   \n",
              "\n",
              "                                                 url      brand new_price  \\\n",
              "0  https://www.flipkart.com/espoir-combo-es109-ba...     Espoir      ₹419   \n",
              "1  https://www.flipkart.com/espoir-combo-es109-ba...     Espoir      ₹419   \n",
              "2  https://www.flipkart.com/espoir-combo-es109-ba...     Espoir      ₹419   \n",
              "3  https://www.flipkart.com/glenvit-x-kids-digita...  GLENVIT-X      ₹424   \n",
              "4  https://www.flipkart.com/glenvit-x-kids-digita...  GLENVIT-X      ₹424   \n",
              "\n",
              "  old_price rating                                             review  \n",
              "0    ₹2,995    3.9  This product is so good but I think packaging ...  \n",
              "1    ₹2,995    3.9                               so beautiful watches  \n",
              "2    ₹2,995    3.9                                            Nice 🙂🙂  \n",
              "3    ₹1,499    3.9  Worth products the footstep is wrong the heart...  \n",
              "4    ₹1,499    3.9                                               Good  "
            ],
            "text/html": [
              "\n",
              "  <div id=\"df-74661e00-80df-4682-b025-3af9d7e69ce3\">\n",
              "    <div class=\"colab-df-container\">\n",
              "      <div>\n",
              "<style scoped>\n",
              "    .dataframe tbody tr th:only-of-type {\n",
              "        vertical-align: middle;\n",
              "    }\n",
              "\n",
              "    .dataframe tbody tr th {\n",
              "        vertical-align: top;\n",
              "    }\n",
              "\n",
              "    .dataframe thead th {\n",
              "        text-align: right;\n",
              "    }\n",
              "</style>\n",
              "<table border=\"1\" class=\"dataframe\">\n",
              "  <thead>\n",
              "    <tr style=\"text-align: right;\">\n",
              "      <th></th>\n",
              "      <th>Title</th>\n",
              "      <th>url</th>\n",
              "      <th>brand</th>\n",
              "      <th>new_price</th>\n",
              "      <th>old_price</th>\n",
              "      <th>rating</th>\n",
              "      <th>review</th>\n",
              "    </tr>\n",
              "  </thead>\n",
              "  <tbody>\n",
              "    <tr>\n",
              "      <th>0</th>\n",
              "      <td>Chronograph Pattern Combo of 3 watches Analog ...</td>\n",
              "      <td>https://www.flipkart.com/espoir-combo-es109-ba...</td>\n",
              "      <td>Espoir</td>\n",
              "      <td>₹419</td>\n",
              "      <td>₹2,995</td>\n",
              "      <td>3.9</td>\n",
              "      <td>This product is so good but I think packaging ...</td>\n",
              "    </tr>\n",
              "    <tr>\n",
              "      <th>1</th>\n",
              "      <td>Chronograph Pattern Combo of 3 watches Analog ...</td>\n",
              "      <td>https://www.flipkart.com/espoir-combo-es109-ba...</td>\n",
              "      <td>Espoir</td>\n",
              "      <td>₹419</td>\n",
              "      <td>₹2,995</td>\n",
              "      <td>3.9</td>\n",
              "      <td>so beautiful watches</td>\n",
              "    </tr>\n",
              "    <tr>\n",
              "      <th>2</th>\n",
              "      <td>Chronograph Pattern Combo of 3 watches Analog ...</td>\n",
              "      <td>https://www.flipkart.com/espoir-combo-es109-ba...</td>\n",
              "      <td>Espoir</td>\n",
              "      <td>₹419</td>\n",
              "      <td>₹2,995</td>\n",
              "      <td>3.9</td>\n",
              "      <td>Nice 🙂🙂</td>\n",
              "    </tr>\n",
              "    <tr>\n",
              "      <th>3</th>\n",
              "      <td>Digital Dial Waterproof LED Display Kids Watch...</td>\n",
              "      <td>https://www.flipkart.com/glenvit-x-kids-digita...</td>\n",
              "      <td>GLENVIT-X</td>\n",
              "      <td>₹424</td>\n",
              "      <td>₹1,499</td>\n",
              "      <td>3.9</td>\n",
              "      <td>Worth products the footstep is wrong the heart...</td>\n",
              "    </tr>\n",
              "    <tr>\n",
              "      <th>4</th>\n",
              "      <td>Digital Dial Waterproof LED Display Kids Watch...</td>\n",
              "      <td>https://www.flipkart.com/glenvit-x-kids-digita...</td>\n",
              "      <td>GLENVIT-X</td>\n",
              "      <td>₹424</td>\n",
              "      <td>₹1,499</td>\n",
              "      <td>3.9</td>\n",
              "      <td>Good</td>\n",
              "    </tr>\n",
              "  </tbody>\n",
              "</table>\n",
              "</div>\n",
              "      <button class=\"colab-df-convert\" onclick=\"convertToInteractive('df-74661e00-80df-4682-b025-3af9d7e69ce3')\"\n",
              "              title=\"Convert this dataframe to an interactive table.\"\n",
              "              style=\"display:none;\">\n",
              "        \n",
              "  <svg xmlns=\"http://www.w3.org/2000/svg\" height=\"24px\"viewBox=\"0 0 24 24\"\n",
              "       width=\"24px\">\n",
              "    <path d=\"M0 0h24v24H0V0z\" fill=\"none\"/>\n",
              "    <path d=\"M18.56 5.44l.94 2.06.94-2.06 2.06-.94-2.06-.94-.94-2.06-.94 2.06-2.06.94zm-11 1L8.5 8.5l.94-2.06 2.06-.94-2.06-.94L8.5 2.5l-.94 2.06-2.06.94zm10 10l.94 2.06.94-2.06 2.06-.94-2.06-.94-.94-2.06-.94 2.06-2.06.94z\"/><path d=\"M17.41 7.96l-1.37-1.37c-.4-.4-.92-.59-1.43-.59-.52 0-1.04.2-1.43.59L10.3 9.45l-7.72 7.72c-.78.78-.78 2.05 0 2.83L4 21.41c.39.39.9.59 1.41.59.51 0 1.02-.2 1.41-.59l7.78-7.78 2.81-2.81c.8-.78.8-2.07 0-2.86zM5.41 20L4 18.59l7.72-7.72 1.47 1.35L5.41 20z\"/>\n",
              "  </svg>\n",
              "      </button>\n",
              "      \n",
              "  <style>\n",
              "    .colab-df-container {\n",
              "      display:flex;\n",
              "      flex-wrap:wrap;\n",
              "      gap: 12px;\n",
              "    }\n",
              "\n",
              "    .colab-df-convert {\n",
              "      background-color: #E8F0FE;\n",
              "      border: none;\n",
              "      border-radius: 50%;\n",
              "      cursor: pointer;\n",
              "      display: none;\n",
              "      fill: #1967D2;\n",
              "      height: 32px;\n",
              "      padding: 0 0 0 0;\n",
              "      width: 32px;\n",
              "    }\n",
              "\n",
              "    .colab-df-convert:hover {\n",
              "      background-color: #E2EBFA;\n",
              "      box-shadow: 0px 1px 2px rgba(60, 64, 67, 0.3), 0px 1px 3px 1px rgba(60, 64, 67, 0.15);\n",
              "      fill: #174EA6;\n",
              "    }\n",
              "\n",
              "    [theme=dark] .colab-df-convert {\n",
              "      background-color: #3B4455;\n",
              "      fill: #D2E3FC;\n",
              "    }\n",
              "\n",
              "    [theme=dark] .colab-df-convert:hover {\n",
              "      background-color: #434B5C;\n",
              "      box-shadow: 0px 1px 3px 1px rgba(0, 0, 0, 0.15);\n",
              "      filter: drop-shadow(0px 1px 2px rgba(0, 0, 0, 0.3));\n",
              "      fill: #FFFFFF;\n",
              "    }\n",
              "  </style>\n",
              "\n",
              "      <script>\n",
              "        const buttonEl =\n",
              "          document.querySelector('#df-74661e00-80df-4682-b025-3af9d7e69ce3 button.colab-df-convert');\n",
              "        buttonEl.style.display =\n",
              "          google.colab.kernel.accessAllowed ? 'block' : 'none';\n",
              "\n",
              "        async function convertToInteractive(key) {\n",
              "          const element = document.querySelector('#df-74661e00-80df-4682-b025-3af9d7e69ce3');\n",
              "          const dataTable =\n",
              "            await google.colab.kernel.invokeFunction('convertToInteractive',\n",
              "                                                     [key], {});\n",
              "          if (!dataTable) return;\n",
              "\n",
              "          const docLinkHtml = 'Like what you see? Visit the ' +\n",
              "            '<a target=\"_blank\" href=https://colab.research.google.com/notebooks/data_table.ipynb>data table notebook</a>'\n",
              "            + ' to learn more about interactive tables.';\n",
              "          element.innerHTML = '';\n",
              "          dataTable['output_type'] = 'display_data';\n",
              "          await google.colab.output.renderOutput(dataTable, element);\n",
              "          const docLink = document.createElement('div');\n",
              "          docLink.innerHTML = docLinkHtml;\n",
              "          element.appendChild(docLink);\n",
              "        }\n",
              "      </script>\n",
              "    </div>\n",
              "  </div>\n",
              "  "
            ]
          },
          "metadata": {},
          "execution_count": 4
        }
      ],
      "source": [
        "# Write your code here\n",
        "\n",
        "# getting the data\n",
        "# You code here (Please add comments in the code):\n",
        "\n",
        "import requests\n",
        "from bs4 import BeautifulSoup\n",
        "import re\n",
        "import time\n",
        "import pandas as pd\n",
        "\n",
        "def get_soup(url):\n",
        "    \"\"\"\n",
        "        params1: url (contains the url of google scholar page)\n",
        "        return: soup (fetching the url page data and then further converted to html parser)\n",
        "    \"\"\"\n",
        "  # headers = {'user-agent': 'Mozilla/5.0 (Windows NT 10.0; Win64; x64) AppleWebKit/537.36 (KHTML, like Gecko) Chrome/109.0.0.0 Safari/537.36'}\n",
        "    headers = {'User-Agent': ('Mozilla/5.0 (Windows NT 10.0; Win64; x64) AppleWebKit/537.36 (KHTML, like Gecko) Chrome/110.0.0.0 Safari/537.36')}\n",
        "               # 'X-User-Agent': ('Mozilla/5.0 (Windows NT 10.0; Win64; x64) AppleWebKit/537.36 (KHTML, like Gecko) Chrome/110.0.0.0 Safari/537.36 FKUA/website/42/website/Desktop')}\n",
        "    try:\n",
        "        # requesting for data using requests with url and headers for authentication\n",
        "        data = requests.get(url, headers=headers)\n",
        "        # print(f\"Extracted the data with response as {data.status_code}\")\n",
        "        if data.status_code != 200:\n",
        "            raise Exception(f\"Failed to fetch data: {data.status_code} and text as {data.text}\")\n",
        "    except Exception as ex:\n",
        "        print(f\"Exception occurred as {ex}\")\n",
        "        return None\n",
        "    soup = BeautifulSoup(data.text, \"html.parser\")\n",
        "    return soup\n",
        "\n",
        "def fetch_data_web(pages):\n",
        "\n",
        "  final_data = []\n",
        "  for i in range(1, pages+1):\n",
        "    url = f\"https://www.flipkart.com/search?q=Watches&otracker=search&otracker1=search&marketplace=FLIPKART&as-show=on&as=off&page={i}\"\n",
        "    soup = get_soup(url)\n",
        "    # print(soup.prettify())\n",
        "    products_data = soup.findAll(\"div\", attrs={\"class\": \"_1AtVbE col-12-12\"})\n",
        "    for prod_data in products_data:\n",
        "      sub_prod_data = prod_data.findAll(\"div\", attrs={\"class\": \"_1xHGtK _373qXS\"})\n",
        "      for data in sub_prod_data:\n",
        "        prod_url = \"https://www.flipkart.com\" + data.find(\"a\", attrs={\"class\": \"_2UzuFa\"}).get(\"href\")\n",
        "        brand = data.find(\"div\", attrs={\"class\": \"_2WkVRV\"}).text.strip()\n",
        "        title = data.find(\"a\", attrs={\"class\": \"IRpwTa\"}).get(\"title\")\n",
        "        new_price = data.find(\"div\", attrs={\"class\": \"_30jeq3\"})\n",
        "        old_price = data.find(\"div\", attrs={\"class\": \"_3I9_wc\"})\n",
        "        if new_price:\n",
        "          new_price = new_price.text.strip()\n",
        "        else:\n",
        "          new_price = \"No\"\n",
        "        if old_price:\n",
        "          old_price = old_price.text.strip()\n",
        "        else:\n",
        "          old_price = \"No\"\n",
        "        # discount = data.find(\"div\", attrs={\"class\": \"_3Ay6Sb\"}).text.strip()\n",
        "        # free_delivery = data.find(\"div\", attrs={\"class\": \"_2Tpdn3\"})\n",
        "        # if free_delivery:\n",
        "        #   free_delivery = free_delivery.text.strip()\n",
        "        # else:\n",
        "        #   free_delivery = \"No free Delivery\"\n",
        "        soup_data = get_soup(prod_url)\n",
        "        # print(prod_url)\n",
        "        # print(soup_data)\n",
        "        # break\n",
        "        # rating = \"0\"\n",
        "        # if soup_data:\n",
        "        if soup_data:\n",
        "          rating = soup_data.find(\"div\", attrs={\"class\": \"_3LWZlK _3uSWvT\"})\n",
        "          if rating:\n",
        "            rating = rating.text\n",
        "          else:\n",
        "            rating = \"No rating found\"\n",
        "          reviews = soup_data.findAll(\"div\", attrs={\"class\": \"_6K-7Co\"})\n",
        "          for x in reviews:\n",
        "            final_data.append([title, prod_url, brand, new_price, old_price, rating, x.text])\n",
        "        else:\n",
        "          rating = \"No rating reviews found\"\n",
        "        # final_data.append([title, prod_url, brand, new_price, old_price, rating, review])\n",
        "      time.sleep(1)\n",
        "    print(f\"Processed {i} pages\")\n",
        "  \n",
        "  df = pd.DataFrame(final_data, columns=[\"Title\", \"url\", \"brand\", \"new_price\", \"old_price\", \"rating\", \"review\"])\n",
        "  return df\n",
        "\n",
        "df = fetch_data_web(int(input(\"Enter no of pages: \")))\n",
        "df.head()"
      ],
      "id": "lHWgLTqrZUty"
    },
    {
      "cell_type": "code",
      "source": [
        "df = df[df['old_price'] != \"No\"]"
      ],
      "metadata": {
        "id": "S4KmfV2gO7Lb"
      },
      "execution_count": null,
      "outputs": [],
      "id": "S4KmfV2gO7Lb"
    },
    {
      "cell_type": "code",
      "source": [
        "# converting str to numeric\n",
        "\n",
        "df['new_price'] = df['new_price'].str.replace(',', '').str[1:]\n",
        "df['old_price'] = df['old_price'].str.replace(',', '').str[1:]"
      ],
      "metadata": {
        "id": "f8SnVJzOQ_Ou"
      },
      "execution_count": null,
      "outputs": [],
      "id": "f8SnVJzOQ_Ou"
    },
    {
      "cell_type": "code",
      "source": [
        "df['new_price'] = df['new_price'].astype(int)\n",
        "df['old_price'] = df['old_price'].astype(int)\n",
        "df['rating'] = df['rating'].astype(float)\n",
        "\n",
        "df.head()"
      ],
      "metadata": {
        "colab": {
          "base_uri": "https://localhost:8080/",
          "height": 337
        },
        "id": "OJBfDGmQQ_Rt",
        "outputId": "9fb873ca-e148-42a0-a2fc-4f7d46f41246"
      },
      "execution_count": null,
      "outputs": [
        {
          "output_type": "execute_result",
          "data": {
            "text/plain": [
              "                                               Title  \\\n",
              "0  Chronograph Pattern Combo of 3 watches Analog ...   \n",
              "1  Chronograph Pattern Combo of 3 watches Analog ...   \n",
              "2  Chronograph Pattern Combo of 3 watches Analog ...   \n",
              "3  Digital Dial Waterproof LED Display Kids Watch...   \n",
              "4  Digital Dial Waterproof LED Display Kids Watch...   \n",
              "\n",
              "                                                 url      brand  new_price  \\\n",
              "0  https://www.flipkart.com/espoir-combo-es109-ba...     Espoir        419   \n",
              "1  https://www.flipkart.com/espoir-combo-es109-ba...     Espoir        419   \n",
              "2  https://www.flipkart.com/espoir-combo-es109-ba...     Espoir        419   \n",
              "3  https://www.flipkart.com/glenvit-x-kids-digita...  GLENVIT-X        424   \n",
              "4  https://www.flipkart.com/glenvit-x-kids-digita...  GLENVIT-X        424   \n",
              "\n",
              "   old_price  rating                                             review  \n",
              "0       2995     3.9  This product is so good but I think packaging ...  \n",
              "1       2995     3.9                               so beautiful watches  \n",
              "2       2995     3.9                                            Nice 🙂🙂  \n",
              "3       1499     3.9  Worth products the footstep is wrong the heart...  \n",
              "4       1499     3.9                                               Good  "
            ],
            "text/html": [
              "\n",
              "  <div id=\"df-e7f72e66-aa84-46a5-8b50-58688b654824\">\n",
              "    <div class=\"colab-df-container\">\n",
              "      <div>\n",
              "<style scoped>\n",
              "    .dataframe tbody tr th:only-of-type {\n",
              "        vertical-align: middle;\n",
              "    }\n",
              "\n",
              "    .dataframe tbody tr th {\n",
              "        vertical-align: top;\n",
              "    }\n",
              "\n",
              "    .dataframe thead th {\n",
              "        text-align: right;\n",
              "    }\n",
              "</style>\n",
              "<table border=\"1\" class=\"dataframe\">\n",
              "  <thead>\n",
              "    <tr style=\"text-align: right;\">\n",
              "      <th></th>\n",
              "      <th>Title</th>\n",
              "      <th>url</th>\n",
              "      <th>brand</th>\n",
              "      <th>new_price</th>\n",
              "      <th>old_price</th>\n",
              "      <th>rating</th>\n",
              "      <th>review</th>\n",
              "    </tr>\n",
              "  </thead>\n",
              "  <tbody>\n",
              "    <tr>\n",
              "      <th>0</th>\n",
              "      <td>Chronograph Pattern Combo of 3 watches Analog ...</td>\n",
              "      <td>https://www.flipkart.com/espoir-combo-es109-ba...</td>\n",
              "      <td>Espoir</td>\n",
              "      <td>419</td>\n",
              "      <td>2995</td>\n",
              "      <td>3.9</td>\n",
              "      <td>This product is so good but I think packaging ...</td>\n",
              "    </tr>\n",
              "    <tr>\n",
              "      <th>1</th>\n",
              "      <td>Chronograph Pattern Combo of 3 watches Analog ...</td>\n",
              "      <td>https://www.flipkart.com/espoir-combo-es109-ba...</td>\n",
              "      <td>Espoir</td>\n",
              "      <td>419</td>\n",
              "      <td>2995</td>\n",
              "      <td>3.9</td>\n",
              "      <td>so beautiful watches</td>\n",
              "    </tr>\n",
              "    <tr>\n",
              "      <th>2</th>\n",
              "      <td>Chronograph Pattern Combo of 3 watches Analog ...</td>\n",
              "      <td>https://www.flipkart.com/espoir-combo-es109-ba...</td>\n",
              "      <td>Espoir</td>\n",
              "      <td>419</td>\n",
              "      <td>2995</td>\n",
              "      <td>3.9</td>\n",
              "      <td>Nice 🙂🙂</td>\n",
              "    </tr>\n",
              "    <tr>\n",
              "      <th>3</th>\n",
              "      <td>Digital Dial Waterproof LED Display Kids Watch...</td>\n",
              "      <td>https://www.flipkart.com/glenvit-x-kids-digita...</td>\n",
              "      <td>GLENVIT-X</td>\n",
              "      <td>424</td>\n",
              "      <td>1499</td>\n",
              "      <td>3.9</td>\n",
              "      <td>Worth products the footstep is wrong the heart...</td>\n",
              "    </tr>\n",
              "    <tr>\n",
              "      <th>4</th>\n",
              "      <td>Digital Dial Waterproof LED Display Kids Watch...</td>\n",
              "      <td>https://www.flipkart.com/glenvit-x-kids-digita...</td>\n",
              "      <td>GLENVIT-X</td>\n",
              "      <td>424</td>\n",
              "      <td>1499</td>\n",
              "      <td>3.9</td>\n",
              "      <td>Good</td>\n",
              "    </tr>\n",
              "  </tbody>\n",
              "</table>\n",
              "</div>\n",
              "      <button class=\"colab-df-convert\" onclick=\"convertToInteractive('df-e7f72e66-aa84-46a5-8b50-58688b654824')\"\n",
              "              title=\"Convert this dataframe to an interactive table.\"\n",
              "              style=\"display:none;\">\n",
              "        \n",
              "  <svg xmlns=\"http://www.w3.org/2000/svg\" height=\"24px\"viewBox=\"0 0 24 24\"\n",
              "       width=\"24px\">\n",
              "    <path d=\"M0 0h24v24H0V0z\" fill=\"none\"/>\n",
              "    <path d=\"M18.56 5.44l.94 2.06.94-2.06 2.06-.94-2.06-.94-.94-2.06-.94 2.06-2.06.94zm-11 1L8.5 8.5l.94-2.06 2.06-.94-2.06-.94L8.5 2.5l-.94 2.06-2.06.94zm10 10l.94 2.06.94-2.06 2.06-.94-2.06-.94-.94-2.06-.94 2.06-2.06.94z\"/><path d=\"M17.41 7.96l-1.37-1.37c-.4-.4-.92-.59-1.43-.59-.52 0-1.04.2-1.43.59L10.3 9.45l-7.72 7.72c-.78.78-.78 2.05 0 2.83L4 21.41c.39.39.9.59 1.41.59.51 0 1.02-.2 1.41-.59l7.78-7.78 2.81-2.81c.8-.78.8-2.07 0-2.86zM5.41 20L4 18.59l7.72-7.72 1.47 1.35L5.41 20z\"/>\n",
              "  </svg>\n",
              "      </button>\n",
              "      \n",
              "  <style>\n",
              "    .colab-df-container {\n",
              "      display:flex;\n",
              "      flex-wrap:wrap;\n",
              "      gap: 12px;\n",
              "    }\n",
              "\n",
              "    .colab-df-convert {\n",
              "      background-color: #E8F0FE;\n",
              "      border: none;\n",
              "      border-radius: 50%;\n",
              "      cursor: pointer;\n",
              "      display: none;\n",
              "      fill: #1967D2;\n",
              "      height: 32px;\n",
              "      padding: 0 0 0 0;\n",
              "      width: 32px;\n",
              "    }\n",
              "\n",
              "    .colab-df-convert:hover {\n",
              "      background-color: #E2EBFA;\n",
              "      box-shadow: 0px 1px 2px rgba(60, 64, 67, 0.3), 0px 1px 3px 1px rgba(60, 64, 67, 0.15);\n",
              "      fill: #174EA6;\n",
              "    }\n",
              "\n",
              "    [theme=dark] .colab-df-convert {\n",
              "      background-color: #3B4455;\n",
              "      fill: #D2E3FC;\n",
              "    }\n",
              "\n",
              "    [theme=dark] .colab-df-convert:hover {\n",
              "      background-color: #434B5C;\n",
              "      box-shadow: 0px 1px 3px 1px rgba(0, 0, 0, 0.15);\n",
              "      filter: drop-shadow(0px 1px 2px rgba(0, 0, 0, 0.3));\n",
              "      fill: #FFFFFF;\n",
              "    }\n",
              "  </style>\n",
              "\n",
              "      <script>\n",
              "        const buttonEl =\n",
              "          document.querySelector('#df-e7f72e66-aa84-46a5-8b50-58688b654824 button.colab-df-convert');\n",
              "        buttonEl.style.display =\n",
              "          google.colab.kernel.accessAllowed ? 'block' : 'none';\n",
              "\n",
              "        async function convertToInteractive(key) {\n",
              "          const element = document.querySelector('#df-e7f72e66-aa84-46a5-8b50-58688b654824');\n",
              "          const dataTable =\n",
              "            await google.colab.kernel.invokeFunction('convertToInteractive',\n",
              "                                                     [key], {});\n",
              "          if (!dataTable) return;\n",
              "\n",
              "          const docLinkHtml = 'Like what you see? Visit the ' +\n",
              "            '<a target=\"_blank\" href=https://colab.research.google.com/notebooks/data_table.ipynb>data table notebook</a>'\n",
              "            + ' to learn more about interactive tables.';\n",
              "          element.innerHTML = '';\n",
              "          dataTable['output_type'] = 'display_data';\n",
              "          await google.colab.output.renderOutput(dataTable, element);\n",
              "          const docLink = document.createElement('div');\n",
              "          docLink.innerHTML = docLinkHtml;\n",
              "          element.appendChild(docLink);\n",
              "        }\n",
              "      </script>\n",
              "    </div>\n",
              "  </div>\n",
              "  "
            ]
          },
          "metadata": {},
          "execution_count": 7
        }
      ],
      "id": "OJBfDGmQQ_Rt"
    },
    {
      "cell_type": "code",
      "source": [
        "df = df[['Title', 'url', 'review']]\n",
        "df.head()"
      ],
      "metadata": {
        "colab": {
          "base_uri": "https://localhost:8080/",
          "height": 206
        },
        "id": "3R9kwr2msnab",
        "outputId": "186d7877-9669-4232-c4fe-79e7e54174d7"
      },
      "execution_count": null,
      "outputs": [
        {
          "output_type": "execute_result",
          "data": {
            "text/plain": [
              "                                               Title  \\\n",
              "0  Chronograph Pattern Combo of 3 watches Analog ...   \n",
              "1  Chronograph Pattern Combo of 3 watches Analog ...   \n",
              "2  Chronograph Pattern Combo of 3 watches Analog ...   \n",
              "3  Digital Dial Waterproof LED Display Kids Watch...   \n",
              "4  Digital Dial Waterproof LED Display Kids Watch...   \n",
              "\n",
              "                                                 url  \\\n",
              "0  https://www.flipkart.com/espoir-combo-es109-ba...   \n",
              "1  https://www.flipkart.com/espoir-combo-es109-ba...   \n",
              "2  https://www.flipkart.com/espoir-combo-es109-ba...   \n",
              "3  https://www.flipkart.com/glenvit-x-kids-digita...   \n",
              "4  https://www.flipkart.com/glenvit-x-kids-digita...   \n",
              "\n",
              "                                              review  \n",
              "0  This product is so good but I think packaging ...  \n",
              "1                               so beautiful watches  \n",
              "2                                            Nice 🙂🙂  \n",
              "3  Worth products the footstep is wrong the heart...  \n",
              "4                                               Good  "
            ],
            "text/html": [
              "\n",
              "  <div id=\"df-7c23cdc8-fc78-4951-9dbe-59b8851d1e7a\">\n",
              "    <div class=\"colab-df-container\">\n",
              "      <div>\n",
              "<style scoped>\n",
              "    .dataframe tbody tr th:only-of-type {\n",
              "        vertical-align: middle;\n",
              "    }\n",
              "\n",
              "    .dataframe tbody tr th {\n",
              "        vertical-align: top;\n",
              "    }\n",
              "\n",
              "    .dataframe thead th {\n",
              "        text-align: right;\n",
              "    }\n",
              "</style>\n",
              "<table border=\"1\" class=\"dataframe\">\n",
              "  <thead>\n",
              "    <tr style=\"text-align: right;\">\n",
              "      <th></th>\n",
              "      <th>Title</th>\n",
              "      <th>url</th>\n",
              "      <th>review</th>\n",
              "    </tr>\n",
              "  </thead>\n",
              "  <tbody>\n",
              "    <tr>\n",
              "      <th>0</th>\n",
              "      <td>Chronograph Pattern Combo of 3 watches Analog ...</td>\n",
              "      <td>https://www.flipkart.com/espoir-combo-es109-ba...</td>\n",
              "      <td>This product is so good but I think packaging ...</td>\n",
              "    </tr>\n",
              "    <tr>\n",
              "      <th>1</th>\n",
              "      <td>Chronograph Pattern Combo of 3 watches Analog ...</td>\n",
              "      <td>https://www.flipkart.com/espoir-combo-es109-ba...</td>\n",
              "      <td>so beautiful watches</td>\n",
              "    </tr>\n",
              "    <tr>\n",
              "      <th>2</th>\n",
              "      <td>Chronograph Pattern Combo of 3 watches Analog ...</td>\n",
              "      <td>https://www.flipkart.com/espoir-combo-es109-ba...</td>\n",
              "      <td>Nice 🙂🙂</td>\n",
              "    </tr>\n",
              "    <tr>\n",
              "      <th>3</th>\n",
              "      <td>Digital Dial Waterproof LED Display Kids Watch...</td>\n",
              "      <td>https://www.flipkart.com/glenvit-x-kids-digita...</td>\n",
              "      <td>Worth products the footstep is wrong the heart...</td>\n",
              "    </tr>\n",
              "    <tr>\n",
              "      <th>4</th>\n",
              "      <td>Digital Dial Waterproof LED Display Kids Watch...</td>\n",
              "      <td>https://www.flipkart.com/glenvit-x-kids-digita...</td>\n",
              "      <td>Good</td>\n",
              "    </tr>\n",
              "  </tbody>\n",
              "</table>\n",
              "</div>\n",
              "      <button class=\"colab-df-convert\" onclick=\"convertToInteractive('df-7c23cdc8-fc78-4951-9dbe-59b8851d1e7a')\"\n",
              "              title=\"Convert this dataframe to an interactive table.\"\n",
              "              style=\"display:none;\">\n",
              "        \n",
              "  <svg xmlns=\"http://www.w3.org/2000/svg\" height=\"24px\"viewBox=\"0 0 24 24\"\n",
              "       width=\"24px\">\n",
              "    <path d=\"M0 0h24v24H0V0z\" fill=\"none\"/>\n",
              "    <path d=\"M18.56 5.44l.94 2.06.94-2.06 2.06-.94-2.06-.94-.94-2.06-.94 2.06-2.06.94zm-11 1L8.5 8.5l.94-2.06 2.06-.94-2.06-.94L8.5 2.5l-.94 2.06-2.06.94zm10 10l.94 2.06.94-2.06 2.06-.94-2.06-.94-.94-2.06-.94 2.06-2.06.94z\"/><path d=\"M17.41 7.96l-1.37-1.37c-.4-.4-.92-.59-1.43-.59-.52 0-1.04.2-1.43.59L10.3 9.45l-7.72 7.72c-.78.78-.78 2.05 0 2.83L4 21.41c.39.39.9.59 1.41.59.51 0 1.02-.2 1.41-.59l7.78-7.78 2.81-2.81c.8-.78.8-2.07 0-2.86zM5.41 20L4 18.59l7.72-7.72 1.47 1.35L5.41 20z\"/>\n",
              "  </svg>\n",
              "      </button>\n",
              "      \n",
              "  <style>\n",
              "    .colab-df-container {\n",
              "      display:flex;\n",
              "      flex-wrap:wrap;\n",
              "      gap: 12px;\n",
              "    }\n",
              "\n",
              "    .colab-df-convert {\n",
              "      background-color: #E8F0FE;\n",
              "      border: none;\n",
              "      border-radius: 50%;\n",
              "      cursor: pointer;\n",
              "      display: none;\n",
              "      fill: #1967D2;\n",
              "      height: 32px;\n",
              "      padding: 0 0 0 0;\n",
              "      width: 32px;\n",
              "    }\n",
              "\n",
              "    .colab-df-convert:hover {\n",
              "      background-color: #E2EBFA;\n",
              "      box-shadow: 0px 1px 2px rgba(60, 64, 67, 0.3), 0px 1px 3px 1px rgba(60, 64, 67, 0.15);\n",
              "      fill: #174EA6;\n",
              "    }\n",
              "\n",
              "    [theme=dark] .colab-df-convert {\n",
              "      background-color: #3B4455;\n",
              "      fill: #D2E3FC;\n",
              "    }\n",
              "\n",
              "    [theme=dark] .colab-df-convert:hover {\n",
              "      background-color: #434B5C;\n",
              "      box-shadow: 0px 1px 3px 1px rgba(0, 0, 0, 0.15);\n",
              "      filter: drop-shadow(0px 1px 2px rgba(0, 0, 0, 0.3));\n",
              "      fill: #FFFFFF;\n",
              "    }\n",
              "  </style>\n",
              "\n",
              "      <script>\n",
              "        const buttonEl =\n",
              "          document.querySelector('#df-7c23cdc8-fc78-4951-9dbe-59b8851d1e7a button.colab-df-convert');\n",
              "        buttonEl.style.display =\n",
              "          google.colab.kernel.accessAllowed ? 'block' : 'none';\n",
              "\n",
              "        async function convertToInteractive(key) {\n",
              "          const element = document.querySelector('#df-7c23cdc8-fc78-4951-9dbe-59b8851d1e7a');\n",
              "          const dataTable =\n",
              "            await google.colab.kernel.invokeFunction('convertToInteractive',\n",
              "                                                     [key], {});\n",
              "          if (!dataTable) return;\n",
              "\n",
              "          const docLinkHtml = 'Like what you see? Visit the ' +\n",
              "            '<a target=\"_blank\" href=https://colab.research.google.com/notebooks/data_table.ipynb>data table notebook</a>'\n",
              "            + ' to learn more about interactive tables.';\n",
              "          element.innerHTML = '';\n",
              "          dataTable['output_type'] = 'display_data';\n",
              "          await google.colab.output.renderOutput(dataTable, element);\n",
              "          const docLink = document.createElement('div');\n",
              "          docLink.innerHTML = docLinkHtml;\n",
              "          element.appendChild(docLink);\n",
              "        }\n",
              "      </script>\n",
              "    </div>\n",
              "  </div>\n",
              "  "
            ]
          },
          "metadata": {},
          "execution_count": 8
        }
      ],
      "id": "3R9kwr2msnab"
    },
    {
      "cell_type": "code",
      "source": [
        "df['review'].isna().sum()"
      ],
      "metadata": {
        "colab": {
          "base_uri": "https://localhost:8080/"
        },
        "id": "d1bBsiq9qqFE",
        "outputId": "03998e32-8989-41de-b314-abf534e89417"
      },
      "execution_count": null,
      "outputs": [
        {
          "output_type": "execute_result",
          "data": {
            "text/plain": [
              "0"
            ]
          },
          "metadata": {},
          "execution_count": 9
        }
      ],
      "id": "d1bBsiq9qqFE"
    },
    {
      "cell_type": "code",
      "source": [
        "import nltk, re, string\n",
        "from nltk.corpus import stopwords\n",
        "from nltk.stem import PorterStemmer\n",
        "from textblob import Word\n",
        "nltk.download('stopwords')\n",
        "nltk.download(\"wordnet\")\n",
        "nltk.download('omw-1.4')\n",
        "nltk.download('punkt')\n",
        "nltk.download('wordnet')\n",
        "from nltk.stem import WordNetLemmatizer"
      ],
      "metadata": {
        "colab": {
          "base_uri": "https://localhost:8080/"
        },
        "id": "gCyoUoVQQ_XU",
        "outputId": "f63395c7-782e-475e-ebdf-d253dfeb5fc7"
      },
      "execution_count": null,
      "outputs": [
        {
          "output_type": "stream",
          "name": "stderr",
          "text": [
            "[nltk_data] Downloading package stopwords to /root/nltk_data...\n",
            "[nltk_data]   Unzipping corpora/stopwords.zip.\n",
            "[nltk_data] Downloading package wordnet to /root/nltk_data...\n",
            "[nltk_data] Downloading package omw-1.4 to /root/nltk_data...\n",
            "[nltk_data] Downloading package punkt to /root/nltk_data...\n",
            "[nltk_data]   Unzipping tokenizers/punkt.zip.\n",
            "[nltk_data] Downloading package wordnet to /root/nltk_data...\n",
            "[nltk_data]   Package wordnet is already up-to-date!\n"
          ]
        }
      ],
      "id": "gCyoUoVQQ_XU"
    },
    {
      "cell_type": "code",
      "source": [
        "df.head()"
      ],
      "metadata": {
        "colab": {
          "base_uri": "https://localhost:8080/",
          "height": 206
        },
        "id": "jZR2E-dbQ_c-",
        "outputId": "f6331896-745c-4b42-b112-52379c6a19d5"
      },
      "execution_count": null,
      "outputs": [
        {
          "output_type": "execute_result",
          "data": {
            "text/plain": [
              "                                               Title  \\\n",
              "0  Chronograph Pattern Combo of 3 watches Analog ...   \n",
              "1  Chronograph Pattern Combo of 3 watches Analog ...   \n",
              "2  Chronograph Pattern Combo of 3 watches Analog ...   \n",
              "3  Digital Dial Waterproof LED Display Kids Watch...   \n",
              "4  Digital Dial Waterproof LED Display Kids Watch...   \n",
              "\n",
              "                                                 url  \\\n",
              "0  https://www.flipkart.com/espoir-combo-es109-ba...   \n",
              "1  https://www.flipkart.com/espoir-combo-es109-ba...   \n",
              "2  https://www.flipkart.com/espoir-combo-es109-ba...   \n",
              "3  https://www.flipkart.com/glenvit-x-kids-digita...   \n",
              "4  https://www.flipkart.com/glenvit-x-kids-digita...   \n",
              "\n",
              "                                              review  \n",
              "0  This product is so good but I think packaging ...  \n",
              "1                               so beautiful watches  \n",
              "2                                            Nice 🙂🙂  \n",
              "3  Worth products the footstep is wrong the heart...  \n",
              "4                                               Good  "
            ],
            "text/html": [
              "\n",
              "  <div id=\"df-724a8a53-73ae-4a5f-b347-d7bb152ab7c5\">\n",
              "    <div class=\"colab-df-container\">\n",
              "      <div>\n",
              "<style scoped>\n",
              "    .dataframe tbody tr th:only-of-type {\n",
              "        vertical-align: middle;\n",
              "    }\n",
              "\n",
              "    .dataframe tbody tr th {\n",
              "        vertical-align: top;\n",
              "    }\n",
              "\n",
              "    .dataframe thead th {\n",
              "        text-align: right;\n",
              "    }\n",
              "</style>\n",
              "<table border=\"1\" class=\"dataframe\">\n",
              "  <thead>\n",
              "    <tr style=\"text-align: right;\">\n",
              "      <th></th>\n",
              "      <th>Title</th>\n",
              "      <th>url</th>\n",
              "      <th>review</th>\n",
              "    </tr>\n",
              "  </thead>\n",
              "  <tbody>\n",
              "    <tr>\n",
              "      <th>0</th>\n",
              "      <td>Chronograph Pattern Combo of 3 watches Analog ...</td>\n",
              "      <td>https://www.flipkart.com/espoir-combo-es109-ba...</td>\n",
              "      <td>This product is so good but I think packaging ...</td>\n",
              "    </tr>\n",
              "    <tr>\n",
              "      <th>1</th>\n",
              "      <td>Chronograph Pattern Combo of 3 watches Analog ...</td>\n",
              "      <td>https://www.flipkart.com/espoir-combo-es109-ba...</td>\n",
              "      <td>so beautiful watches</td>\n",
              "    </tr>\n",
              "    <tr>\n",
              "      <th>2</th>\n",
              "      <td>Chronograph Pattern Combo of 3 watches Analog ...</td>\n",
              "      <td>https://www.flipkart.com/espoir-combo-es109-ba...</td>\n",
              "      <td>Nice 🙂🙂</td>\n",
              "    </tr>\n",
              "    <tr>\n",
              "      <th>3</th>\n",
              "      <td>Digital Dial Waterproof LED Display Kids Watch...</td>\n",
              "      <td>https://www.flipkart.com/glenvit-x-kids-digita...</td>\n",
              "      <td>Worth products the footstep is wrong the heart...</td>\n",
              "    </tr>\n",
              "    <tr>\n",
              "      <th>4</th>\n",
              "      <td>Digital Dial Waterproof LED Display Kids Watch...</td>\n",
              "      <td>https://www.flipkart.com/glenvit-x-kids-digita...</td>\n",
              "      <td>Good</td>\n",
              "    </tr>\n",
              "  </tbody>\n",
              "</table>\n",
              "</div>\n",
              "      <button class=\"colab-df-convert\" onclick=\"convertToInteractive('df-724a8a53-73ae-4a5f-b347-d7bb152ab7c5')\"\n",
              "              title=\"Convert this dataframe to an interactive table.\"\n",
              "              style=\"display:none;\">\n",
              "        \n",
              "  <svg xmlns=\"http://www.w3.org/2000/svg\" height=\"24px\"viewBox=\"0 0 24 24\"\n",
              "       width=\"24px\">\n",
              "    <path d=\"M0 0h24v24H0V0z\" fill=\"none\"/>\n",
              "    <path d=\"M18.56 5.44l.94 2.06.94-2.06 2.06-.94-2.06-.94-.94-2.06-.94 2.06-2.06.94zm-11 1L8.5 8.5l.94-2.06 2.06-.94-2.06-.94L8.5 2.5l-.94 2.06-2.06.94zm10 10l.94 2.06.94-2.06 2.06-.94-2.06-.94-.94-2.06-.94 2.06-2.06.94z\"/><path d=\"M17.41 7.96l-1.37-1.37c-.4-.4-.92-.59-1.43-.59-.52 0-1.04.2-1.43.59L10.3 9.45l-7.72 7.72c-.78.78-.78 2.05 0 2.83L4 21.41c.39.39.9.59 1.41.59.51 0 1.02-.2 1.41-.59l7.78-7.78 2.81-2.81c.8-.78.8-2.07 0-2.86zM5.41 20L4 18.59l7.72-7.72 1.47 1.35L5.41 20z\"/>\n",
              "  </svg>\n",
              "      </button>\n",
              "      \n",
              "  <style>\n",
              "    .colab-df-container {\n",
              "      display:flex;\n",
              "      flex-wrap:wrap;\n",
              "      gap: 12px;\n",
              "    }\n",
              "\n",
              "    .colab-df-convert {\n",
              "      background-color: #E8F0FE;\n",
              "      border: none;\n",
              "      border-radius: 50%;\n",
              "      cursor: pointer;\n",
              "      display: none;\n",
              "      fill: #1967D2;\n",
              "      height: 32px;\n",
              "      padding: 0 0 0 0;\n",
              "      width: 32px;\n",
              "    }\n",
              "\n",
              "    .colab-df-convert:hover {\n",
              "      background-color: #E2EBFA;\n",
              "      box-shadow: 0px 1px 2px rgba(60, 64, 67, 0.3), 0px 1px 3px 1px rgba(60, 64, 67, 0.15);\n",
              "      fill: #174EA6;\n",
              "    }\n",
              "\n",
              "    [theme=dark] .colab-df-convert {\n",
              "      background-color: #3B4455;\n",
              "      fill: #D2E3FC;\n",
              "    }\n",
              "\n",
              "    [theme=dark] .colab-df-convert:hover {\n",
              "      background-color: #434B5C;\n",
              "      box-shadow: 0px 1px 3px 1px rgba(0, 0, 0, 0.15);\n",
              "      filter: drop-shadow(0px 1px 2px rgba(0, 0, 0, 0.3));\n",
              "      fill: #FFFFFF;\n",
              "    }\n",
              "  </style>\n",
              "\n",
              "      <script>\n",
              "        const buttonEl =\n",
              "          document.querySelector('#df-724a8a53-73ae-4a5f-b347-d7bb152ab7c5 button.colab-df-convert');\n",
              "        buttonEl.style.display =\n",
              "          google.colab.kernel.accessAllowed ? 'block' : 'none';\n",
              "\n",
              "        async function convertToInteractive(key) {\n",
              "          const element = document.querySelector('#df-724a8a53-73ae-4a5f-b347-d7bb152ab7c5');\n",
              "          const dataTable =\n",
              "            await google.colab.kernel.invokeFunction('convertToInteractive',\n",
              "                                                     [key], {});\n",
              "          if (!dataTable) return;\n",
              "\n",
              "          const docLinkHtml = 'Like what you see? Visit the ' +\n",
              "            '<a target=\"_blank\" href=https://colab.research.google.com/notebooks/data_table.ipynb>data table notebook</a>'\n",
              "            + ' to learn more about interactive tables.';\n",
              "          element.innerHTML = '';\n",
              "          dataTable['output_type'] = 'display_data';\n",
              "          await google.colab.output.renderOutput(dataTable, element);\n",
              "          const docLink = document.createElement('div');\n",
              "          docLink.innerHTML = docLinkHtml;\n",
              "          element.appendChild(docLink);\n",
              "        }\n",
              "      </script>\n",
              "    </div>\n",
              "  </div>\n",
              "  "
            ]
          },
          "metadata": {},
          "execution_count": 11
        }
      ],
      "id": "jZR2E-dbQ_c-"
    },
    {
      "cell_type": "code",
      "source": [
        "import re\n",
        "\n",
        "df['clean_Data'] = df['review'].map(lambda x: re.sub('[,\\.!?]', '', x))\n",
        "df['clean_Data'] = df['clean_Data'].map(lambda x: x.lower())\n",
        "df.head()"
      ],
      "metadata": {
        "colab": {
          "base_uri": "https://localhost:8080/",
          "height": 337
        },
        "id": "7J4Zldp8tyyF",
        "outputId": "05fca38f-222e-49c1-e7e3-a4bd60f6f33b"
      },
      "execution_count": null,
      "outputs": [
        {
          "output_type": "execute_result",
          "data": {
            "text/plain": [
              "                                               Title  \\\n",
              "0  Chronograph Pattern Combo of 3 watches Analog ...   \n",
              "1  Chronograph Pattern Combo of 3 watches Analog ...   \n",
              "2  Chronograph Pattern Combo of 3 watches Analog ...   \n",
              "3  Digital Dial Waterproof LED Display Kids Watch...   \n",
              "4  Digital Dial Waterproof LED Display Kids Watch...   \n",
              "\n",
              "                                                 url  \\\n",
              "0  https://www.flipkart.com/espoir-combo-es109-ba...   \n",
              "1  https://www.flipkart.com/espoir-combo-es109-ba...   \n",
              "2  https://www.flipkart.com/espoir-combo-es109-ba...   \n",
              "3  https://www.flipkart.com/glenvit-x-kids-digita...   \n",
              "4  https://www.flipkart.com/glenvit-x-kids-digita...   \n",
              "\n",
              "                                              review  \\\n",
              "0  This product is so good but I think packaging ...   \n",
              "1                               so beautiful watches   \n",
              "2                                            Nice 🙂🙂   \n",
              "3  Worth products the footstep is wrong the heart...   \n",
              "4                                               Good   \n",
              "\n",
              "                                          clean_Data  \n",
              "0  this product is so good but i think packaging ...  \n",
              "1                               so beautiful watches  \n",
              "2                                            nice 🙂🙂  \n",
              "3  worth products the footstep is wrong the heart...  \n",
              "4                                               good  "
            ],
            "text/html": [
              "\n",
              "  <div id=\"df-7e1a8a41-65bd-4671-9b81-5cebb569b825\">\n",
              "    <div class=\"colab-df-container\">\n",
              "      <div>\n",
              "<style scoped>\n",
              "    .dataframe tbody tr th:only-of-type {\n",
              "        vertical-align: middle;\n",
              "    }\n",
              "\n",
              "    .dataframe tbody tr th {\n",
              "        vertical-align: top;\n",
              "    }\n",
              "\n",
              "    .dataframe thead th {\n",
              "        text-align: right;\n",
              "    }\n",
              "</style>\n",
              "<table border=\"1\" class=\"dataframe\">\n",
              "  <thead>\n",
              "    <tr style=\"text-align: right;\">\n",
              "      <th></th>\n",
              "      <th>Title</th>\n",
              "      <th>url</th>\n",
              "      <th>review</th>\n",
              "      <th>clean_Data</th>\n",
              "    </tr>\n",
              "  </thead>\n",
              "  <tbody>\n",
              "    <tr>\n",
              "      <th>0</th>\n",
              "      <td>Chronograph Pattern Combo of 3 watches Analog ...</td>\n",
              "      <td>https://www.flipkart.com/espoir-combo-es109-ba...</td>\n",
              "      <td>This product is so good but I think packaging ...</td>\n",
              "      <td>this product is so good but i think packaging ...</td>\n",
              "    </tr>\n",
              "    <tr>\n",
              "      <th>1</th>\n",
              "      <td>Chronograph Pattern Combo of 3 watches Analog ...</td>\n",
              "      <td>https://www.flipkart.com/espoir-combo-es109-ba...</td>\n",
              "      <td>so beautiful watches</td>\n",
              "      <td>so beautiful watches</td>\n",
              "    </tr>\n",
              "    <tr>\n",
              "      <th>2</th>\n",
              "      <td>Chronograph Pattern Combo of 3 watches Analog ...</td>\n",
              "      <td>https://www.flipkart.com/espoir-combo-es109-ba...</td>\n",
              "      <td>Nice 🙂🙂</td>\n",
              "      <td>nice 🙂🙂</td>\n",
              "    </tr>\n",
              "    <tr>\n",
              "      <th>3</th>\n",
              "      <td>Digital Dial Waterproof LED Display Kids Watch...</td>\n",
              "      <td>https://www.flipkart.com/glenvit-x-kids-digita...</td>\n",
              "      <td>Worth products the footstep is wrong the heart...</td>\n",
              "      <td>worth products the footstep is wrong the heart...</td>\n",
              "    </tr>\n",
              "    <tr>\n",
              "      <th>4</th>\n",
              "      <td>Digital Dial Waterproof LED Display Kids Watch...</td>\n",
              "      <td>https://www.flipkart.com/glenvit-x-kids-digita...</td>\n",
              "      <td>Good</td>\n",
              "      <td>good</td>\n",
              "    </tr>\n",
              "  </tbody>\n",
              "</table>\n",
              "</div>\n",
              "      <button class=\"colab-df-convert\" onclick=\"convertToInteractive('df-7e1a8a41-65bd-4671-9b81-5cebb569b825')\"\n",
              "              title=\"Convert this dataframe to an interactive table.\"\n",
              "              style=\"display:none;\">\n",
              "        \n",
              "  <svg xmlns=\"http://www.w3.org/2000/svg\" height=\"24px\"viewBox=\"0 0 24 24\"\n",
              "       width=\"24px\">\n",
              "    <path d=\"M0 0h24v24H0V0z\" fill=\"none\"/>\n",
              "    <path d=\"M18.56 5.44l.94 2.06.94-2.06 2.06-.94-2.06-.94-.94-2.06-.94 2.06-2.06.94zm-11 1L8.5 8.5l.94-2.06 2.06-.94-2.06-.94L8.5 2.5l-.94 2.06-2.06.94zm10 10l.94 2.06.94-2.06 2.06-.94-2.06-.94-.94-2.06-.94 2.06-2.06.94z\"/><path d=\"M17.41 7.96l-1.37-1.37c-.4-.4-.92-.59-1.43-.59-.52 0-1.04.2-1.43.59L10.3 9.45l-7.72 7.72c-.78.78-.78 2.05 0 2.83L4 21.41c.39.39.9.59 1.41.59.51 0 1.02-.2 1.41-.59l7.78-7.78 2.81-2.81c.8-.78.8-2.07 0-2.86zM5.41 20L4 18.59l7.72-7.72 1.47 1.35L5.41 20z\"/>\n",
              "  </svg>\n",
              "      </button>\n",
              "      \n",
              "  <style>\n",
              "    .colab-df-container {\n",
              "      display:flex;\n",
              "      flex-wrap:wrap;\n",
              "      gap: 12px;\n",
              "    }\n",
              "\n",
              "    .colab-df-convert {\n",
              "      background-color: #E8F0FE;\n",
              "      border: none;\n",
              "      border-radius: 50%;\n",
              "      cursor: pointer;\n",
              "      display: none;\n",
              "      fill: #1967D2;\n",
              "      height: 32px;\n",
              "      padding: 0 0 0 0;\n",
              "      width: 32px;\n",
              "    }\n",
              "\n",
              "    .colab-df-convert:hover {\n",
              "      background-color: #E2EBFA;\n",
              "      box-shadow: 0px 1px 2px rgba(60, 64, 67, 0.3), 0px 1px 3px 1px rgba(60, 64, 67, 0.15);\n",
              "      fill: #174EA6;\n",
              "    }\n",
              "\n",
              "    [theme=dark] .colab-df-convert {\n",
              "      background-color: #3B4455;\n",
              "      fill: #D2E3FC;\n",
              "    }\n",
              "\n",
              "    [theme=dark] .colab-df-convert:hover {\n",
              "      background-color: #434B5C;\n",
              "      box-shadow: 0px 1px 3px 1px rgba(0, 0, 0, 0.15);\n",
              "      filter: drop-shadow(0px 1px 2px rgba(0, 0, 0, 0.3));\n",
              "      fill: #FFFFFF;\n",
              "    }\n",
              "  </style>\n",
              "\n",
              "      <script>\n",
              "        const buttonEl =\n",
              "          document.querySelector('#df-7e1a8a41-65bd-4671-9b81-5cebb569b825 button.colab-df-convert');\n",
              "        buttonEl.style.display =\n",
              "          google.colab.kernel.accessAllowed ? 'block' : 'none';\n",
              "\n",
              "        async function convertToInteractive(key) {\n",
              "          const element = document.querySelector('#df-7e1a8a41-65bd-4671-9b81-5cebb569b825');\n",
              "          const dataTable =\n",
              "            await google.colab.kernel.invokeFunction('convertToInteractive',\n",
              "                                                     [key], {});\n",
              "          if (!dataTable) return;\n",
              "\n",
              "          const docLinkHtml = 'Like what you see? Visit the ' +\n",
              "            '<a target=\"_blank\" href=https://colab.research.google.com/notebooks/data_table.ipynb>data table notebook</a>'\n",
              "            + ' to learn more about interactive tables.';\n",
              "          element.innerHTML = '';\n",
              "          dataTable['output_type'] = 'display_data';\n",
              "          await google.colab.output.renderOutput(dataTable, element);\n",
              "          const docLink = document.createElement('div');\n",
              "          docLink.innerHTML = docLinkHtml;\n",
              "          element.appendChild(docLink);\n",
              "        }\n",
              "      </script>\n",
              "    </div>\n",
              "  </div>\n",
              "  "
            ]
          },
          "metadata": {},
          "execution_count": 12
        }
      ],
      "id": "7J4Zldp8tyyF"
    },
    {
      "cell_type": "code",
      "source": [
        "pip install pyLDAvis"
      ],
      "metadata": {
        "colab": {
          "base_uri": "https://localhost:8080/"
        },
        "id": "lbhNOp4_xM0Y",
        "outputId": "08f27028-a81f-4736-c049-b7a54b909a0a"
      },
      "execution_count": null,
      "outputs": [
        {
          "output_type": "stream",
          "name": "stdout",
          "text": [
            "Looking in indexes: https://pypi.org/simple, https://us-python.pkg.dev/colab-wheels/public/simple/\n",
            "Collecting pyLDAvis\n",
            "  Downloading pyLDAvis-3.4.0-py3-none-any.whl (2.6 MB)\n",
            "\u001b[2K     \u001b[90m━━━━━━━━━━━━━━━━━━━━━━━━━━━━━━━━━━━━━━━━\u001b[0m \u001b[32m2.6/2.6 MB\u001b[0m \u001b[31m60.0 MB/s\u001b[0m eta \u001b[36m0:00:00\u001b[0m\n",
            "\u001b[?25hRequirement already satisfied: scikit-learn>=1.0.0 in /usr/local/lib/python3.9/dist-packages (from pyLDAvis) (1.2.2)\n",
            "Requirement already satisfied: numexpr in /usr/local/lib/python3.9/dist-packages (from pyLDAvis) (2.8.4)\n",
            "Requirement already satisfied: scipy in /usr/local/lib/python3.9/dist-packages (from pyLDAvis) (1.10.1)\n",
            "Requirement already satisfied: numpy>=1.22.0 in /usr/local/lib/python3.9/dist-packages (from pyLDAvis) (1.22.4)\n",
            "Requirement already satisfied: setuptools in /usr/local/lib/python3.9/dist-packages (from pyLDAvis) (67.6.1)\n",
            "Collecting funcy\n",
            "  Downloading funcy-2.0-py2.py3-none-any.whl (30 kB)\n",
            "Requirement already satisfied: gensim in /usr/local/lib/python3.9/dist-packages (from pyLDAvis) (4.3.1)\n",
            "Requirement already satisfied: pandas>=1.3.4 in /usr/local/lib/python3.9/dist-packages (from pyLDAvis) (1.4.4)\n",
            "Requirement already satisfied: jinja2 in /usr/local/lib/python3.9/dist-packages (from pyLDAvis) (3.1.2)\n",
            "Collecting joblib>=1.2.0\n",
            "  Downloading joblib-1.2.0-py3-none-any.whl (297 kB)\n",
            "\u001b[2K     \u001b[90m━━━━━━━━━━━━━━━━━━━━━━━━━━━━━━━━━━━━━━\u001b[0m \u001b[32m298.0/298.0 KB\u001b[0m \u001b[31m35.8 MB/s\u001b[0m eta \u001b[36m0:00:00\u001b[0m\n",
            "\u001b[?25hRequirement already satisfied: pytz>=2020.1 in /usr/local/lib/python3.9/dist-packages (from pandas>=1.3.4->pyLDAvis) (2022.7.1)\n",
            "Requirement already satisfied: python-dateutil>=2.8.1 in /usr/local/lib/python3.9/dist-packages (from pandas>=1.3.4->pyLDAvis) (2.8.2)\n",
            "Requirement already satisfied: threadpoolctl>=2.0.0 in /usr/local/lib/python3.9/dist-packages (from scikit-learn>=1.0.0->pyLDAvis) (3.1.0)\n",
            "Requirement already satisfied: smart-open>=1.8.1 in /usr/local/lib/python3.9/dist-packages (from gensim->pyLDAvis) (6.3.0)\n",
            "Requirement already satisfied: MarkupSafe>=2.0 in /usr/local/lib/python3.9/dist-packages (from jinja2->pyLDAvis) (2.1.2)\n",
            "Requirement already satisfied: six>=1.5 in /usr/local/lib/python3.9/dist-packages (from python-dateutil>=2.8.1->pandas>=1.3.4->pyLDAvis) (1.16.0)\n",
            "Installing collected packages: funcy, joblib, pyLDAvis\n",
            "  Attempting uninstall: joblib\n",
            "    Found existing installation: joblib 1.1.1\n",
            "    Uninstalling joblib-1.1.1:\n",
            "      Successfully uninstalled joblib-1.1.1\n",
            "\u001b[31mERROR: pip's dependency resolver does not currently take into account all the packages that are installed. This behaviour is the source of the following dependency conflicts.\n",
            "pandas-profiling 3.2.0 requires joblib~=1.1.0, but you have joblib 1.2.0 which is incompatible.\u001b[0m\u001b[31m\n",
            "\u001b[0mSuccessfully installed funcy-2.0 joblib-1.2.0 pyLDAvis-3.4.0\n"
          ]
        }
      ],
      "id": "lbhNOp4_xM0Y"
    },
    {
      "cell_type": "code",
      "source": [
        "# Enable logging for gensim - optional\n",
        "import logging\n",
        "logging.basicConfig(format='%(asctime)s : %(levelname)s : %(message)s', level=logging.ERROR)\n",
        "\n",
        "import warnings\n",
        "warnings.filterwarnings(\"ignore\",category=DeprecationWarning)"
      ],
      "metadata": {
        "id": "Qp5fLHJ-w4B-"
      },
      "execution_count": null,
      "outputs": [],
      "id": "Qp5fLHJ-w4B-"
    },
    {
      "cell_type": "code",
      "source": [
        "# Gensim\n",
        "import gensim\n",
        "import gensim.corpora as corpora\n",
        "from gensim.utils import simple_preprocess\n",
        "from gensim.models import CoherenceModel\n",
        "\n",
        "import nltk\n",
        "nltk.download('stopwords')\n",
        "from nltk.corpus import stopwords\n",
        "stop_words = stopwords.words('english')\n",
        "stop_words.extend(['from', 'subject', 're', 'edu', 'use'])\n",
        "\n",
        "def sent_to_words(sentences):\n",
        "    for sentence in sentences:\n",
        "        # deacc=True removes punctuations\n",
        "        yield(gensim.utils.simple_preprocess(str(sentence), deacc=True))\n",
        "\n",
        "def remove_stopwords(texts):\n",
        "    return [[word for word in simple_preprocess(str(doc)) \n",
        "             if word not in stop_words] for doc in texts]\n",
        "\n",
        "review_data = df['review'].values.tolist()\n",
        "review_data_words = list(sent_to_words(review_data))\n",
        "# remove stop words\n",
        "review_data_words = remove_stopwords(review_data_words)\n",
        "print(review_data_words[:1])"
      ],
      "metadata": {
        "colab": {
          "base_uri": "https://localhost:8080/"
        },
        "id": "4enSAe7fQ_fu",
        "outputId": "27152996-a56e-405c-b9d1-3c6362439cf6"
      },
      "execution_count": null,
      "outputs": [
        {
          "output_type": "stream",
          "name": "stdout",
          "text": [
            "[['product', 'good', 'think', 'packaging', 'better', 'still', 'watches', 'worth', 'go', 'love', 'good', 'words', 'watches', 'recommend', 'buy', 'watches', 'really', 'worth']]\n"
          ]
        },
        {
          "output_type": "stream",
          "name": "stderr",
          "text": [
            "[nltk_data] Downloading package stopwords to /root/nltk_data...\n",
            "[nltk_data]   Package stopwords is already up-to-date!\n"
          ]
        }
      ],
      "id": "4enSAe7fQ_fu"
    },
    {
      "cell_type": "code",
      "source": [
        "bigram = gensim.models.Phrases(review_data_words, min_count=5, threshold=100)\n",
        "trigram = gensim.models.Phrases(bigram[review_data_words], threshold=100)  \n",
        "bigram_mod = gensim.models.phrases.Phraser(bigram)\n",
        "trigram_mod = gensim.models.phrases.Phraser(trigram)\n",
        "\n",
        "import spacy\n",
        "nlp = spacy.load('en_core_web_sm', disable=['parser', 'ner'])\n",
        "\n",
        "def make_bigrams(texts):\n",
        "    return [bigram_mod[doc] for doc in texts]\n",
        "\n",
        "def make_trigrams(texts):\n",
        "    return [trigram_mod[bigram_mod[doc]] for doc in texts]\n",
        "\n",
        "def lemmatization(texts, allowed_postags=['NOUN', 'ADJ', 'VERB', 'ADV']):\n",
        "    \"\"\"https://spacy.io/api/annotation\"\"\"\n",
        "    texts_out = []\n",
        "    for sent in texts:\n",
        "        doc = nlp(\" \".join(sent)) \n",
        "        texts_out.append([token.lemma_ for token in doc if token.pos_ in allowed_postags])\n",
        "    return texts_out\n",
        "\n",
        "review_data_words_bigrams = make_bigrams(review_data_words)\n",
        "\n",
        "# Do lemmatization keeping only noun, adj, vb, adv\n",
        "review_data_lemmatized = lemmatization(review_data_words_bigrams, allowed_postags=['NOUN', 'ADJ', 'VERB', 'ADV'])\n",
        "\n",
        "print(review_data_lemmatized[:1])"
      ],
      "metadata": {
        "colab": {
          "base_uri": "https://localhost:8080/"
        },
        "id": "9qyd_zWqrsVA",
        "outputId": "62f161a2-f42d-4e7d-bdb4-95032794f20f"
      },
      "execution_count": null,
      "outputs": [
        {
          "output_type": "stream",
          "name": "stdout",
          "text": [
            "[['product', 'good', 'think', 'packaging', 'well', 'still', 'watch', 'worth', 'go', 'love', 'good', 'word', 'watch', 'recommend', 'buy', 'watch', 'really', 'worth']]\n"
          ]
        }
      ],
      "id": "9qyd_zWqrsVA"
    },
    {
      "cell_type": "code",
      "source": [
        "review_id2word = corpora.Dictionary(review_data_lemmatized) # corpus dictionary\n",
        "review_texts = review_data_lemmatized\n",
        "review_corpus = [review_id2word.doc2bow(text) for text in review_texts] # doc term matrix\n",
        "print(review_corpus[:1])\n",
        "[[(review_id2word[i], f) for i, f in c] for c in review_corpus[:1]]"
      ],
      "metadata": {
        "colab": {
          "base_uri": "https://localhost:8080/"
        },
        "id": "sw1L7N_arsXh",
        "outputId": "487be7ac-8cb3-4e29-ecdb-7fd58e0a0d6b"
      },
      "execution_count": null,
      "outputs": [
        {
          "output_type": "stream",
          "name": "stdout",
          "text": [
            "[[(0, 1), (1, 1), (2, 2), (3, 1), (4, 1), (5, 1), (6, 1), (7, 1), (8, 1), (9, 1), (10, 3), (11, 1), (12, 1), (13, 2)]]\n"
          ]
        },
        {
          "output_type": "execute_result",
          "data": {
            "text/plain": [
              "[[('buy', 1),\n",
              "  ('go', 1),\n",
              "  ('good', 2),\n",
              "  ('love', 1),\n",
              "  ('packaging', 1),\n",
              "  ('product', 1),\n",
              "  ('really', 1),\n",
              "  ('recommend', 1),\n",
              "  ('still', 1),\n",
              "  ('think', 1),\n",
              "  ('watch', 3),\n",
              "  ('well', 1),\n",
              "  ('word', 1),\n",
              "  ('worth', 2)]]"
            ]
          },
          "metadata": {},
          "execution_count": 18
        }
      ],
      "id": "sw1L7N_arsXh"
    },
    {
      "cell_type": "code",
      "source": [
        "review_id2word[0]"
      ],
      "metadata": {
        "colab": {
          "base_uri": "https://localhost:8080/",
          "height": 35
        },
        "id": "NZG1Ym4vrsaC",
        "outputId": "1c5cb876-e689-4e18-e028-c2e8672123f1"
      },
      "execution_count": null,
      "outputs": [
        {
          "output_type": "execute_result",
          "data": {
            "text/plain": [
              "'buy'"
            ],
            "application/vnd.google.colaboratory.intrinsic+json": {
              "type": "string"
            }
          },
          "metadata": {},
          "execution_count": 19
        }
      ],
      "id": "NZG1Ym4vrsaC"
    },
    {
      "cell_type": "markdown",
      "source": [
        "<b> LDA MODEL </b>"
      ],
      "metadata": {
        "id": "yDTXZ-9a__9v"
      },
      "id": "yDTXZ-9a__9v"
    },
    {
      "cell_type": "code",
      "source": [
        "# Sample model for lda generating total of 20 topics\n",
        "from pprint import pprint\n",
        "lda_model = gensim.models.ldamodel.LdaModel(corpus=review_corpus,\n",
        "                                           id2word=review_id2word,\n",
        "                                           num_topics=20, \n",
        "                                           random_state=100,\n",
        "                                           update_every=1,\n",
        "                                           chunksize=100,\n",
        "                                           passes=10,\n",
        "                                           alpha='auto',\n",
        "                                           per_word_topics=True)\n",
        "pprint(lda_model.print_topics())\n",
        "doc_lda = lda_model[review_corpus]"
      ],
      "metadata": {
        "colab": {
          "base_uri": "https://localhost:8080/"
        },
        "id": "6LASLctNrsdq",
        "outputId": "cde172f1-538d-40c9-a490-6c22d1db1ac2"
      },
      "execution_count": null,
      "outputs": [
        {
          "output_type": "stream",
          "name": "stdout",
          "text": [
            "[(0,\n",
            "  '0.058*\"class\" + 0.058*\"first\" + 0.038*\"thank\" + 0.018*\"dial\" + '\n",
            "  '0.017*\"thanx\" + 0.017*\"golden\" + 0.017*\"large\" + 0.017*\"quantity\" + '\n",
            "  '0.002*\"wear\" + 0.002*\"good\"'),\n",
            " (1,\n",
            "  '0.101*\"excellent\" + 0.075*\"watch\" + 0.074*\"expect\" + 0.062*\"dial\" + '\n",
            "  '0.060*\"strap\" + 0.052*\"belt\" + 0.050*\"quality\" + 0.043*\"look\" + 0.039*\"big\" '\n",
            "  '+ 0.031*\"deal\"'),\n",
            " (2,\n",
            "  '0.002*\"steel\" + 0.002*\"stylish\" + 0.002*\"hindu\" + 0.002*\"mean\" + '\n",
            "  '0.002*\"new\" + 0.002*\"religion\" + 0.002*\"specially\" + 0.002*\"early\" + '\n",
            "  '0.002*\"wai\" + 0.002*\"year\"'),\n",
            " (3,\n",
            "  '0.344*\"watch\" + 0.083*\"buy\" + 0.073*\"good\" + 0.062*\"time\" + 0.037*\"cost\" + '\n",
            "  '0.031*\"month\" + 0.027*\"look\" + 0.026*\"purchase\" + 0.026*\"fully\" + '\n",
            "  '0.023*\"much\"'),\n",
            " (4,\n",
            "  '0.260*\"awesome\" + 0.066*\"rate\" + 0.026*\"wrong\" + 0.014*\"footstep\" + '\n",
            "  '0.014*\"heartbeat\" + 0.001*\"yet\" + 0.001*\"display\" + 0.001*\"statement\" + '\n",
            "  '0.001*\"future\" + 0.001*\"work\"'),\n",
            " (5,\n",
            "  '0.387*\"money\" + 0.250*\"value\" + 0.054*\"super\" + 0.044*\"good\" + '\n",
            "  '0.028*\"product\" + 0.018*\"verry\" + 0.012*\"brand\" + 0.000*\"nice\" + '\n",
            "  '0.000*\"quality\" + 0.000*\"formal\"'),\n",
            " (6,\n",
            "  '0.199*\"good\" + 0.146*\"quality\" + 0.097*\"colour\" + 0.088*\"delivery\" + '\n",
            "  '0.058*\"look\" + 0.050*\"simple\" + 0.043*\"fast\" + 0.039*\"design\" + '\n",
            "  '0.024*\"thank\" + 0.016*\"packaging\"'),\n",
            " (7,\n",
            "  '0.759*\"good\" + 0.030*\"service\" + 0.025*\"extra\" + 0.000*\"wach\" + 0.000*\"get\" '\n",
            "  '+ 0.000*\"hand\" + 0.000*\"𝚕𝚘𝚘𝚔ke\" + 0.000*\"small\" + 0.000*\"show\" + '\n",
            "  '0.000*\"comfortable\"'),\n",
            " (8,\n",
            "  '0.219*\"look\" + 0.146*\"watch\" + 0.095*\"amazing\" + 0.063*\"well\" + '\n",
            "  '0.045*\"pretty\" + 0.044*\"time\" + 0.039*\"wise\" + 0.038*\"date\" + 0.036*\"order\" '\n",
            "  '+ 0.033*\"much\"'),\n",
            " (9,\n",
            "  '0.068*\"cool\" + 0.067*\"sister\" + 0.064*\"go\" + 0.055*\"say\" + 0.049*\"happy\" + '\n",
            "  '0.047*\"gift\" + 0.045*\"wonderful\" + 0.037*\"word\" + 0.030*\"watch\" + '\n",
            "  '0.027*\"amazing\"'),\n",
            " (10,\n",
            "  '0.080*\"alarm\" + 0.080*\"timer\" + 0.002*\"function\" + 0.002*\"week\" + '\n",
            "  '0.002*\"blow\" + 0.002*\"long\" + 0.002*\"mind\" + 0.002*\"take\" + 0.002*\"many\" + '\n",
            "  '0.002*\"buy\"'),\n",
            " (11,\n",
            "  '0.149*\"love\" + 0.131*\"great\" + 0.109*\"quality\" + 0.067*\"good\" + '\n",
            "  '0.058*\"product\" + 0.056*\"price\" + 0.048*\"range\" + 0.046*\"design\" + '\n",
            "  '0.044*\"really\" + 0.039*\"make\"'),\n",
            " (12,\n",
            "  '0.156*\"thank\" + 0.128*\"flipkart\" + 0.115*\"product\" + 0.111*\"beautiful\" + '\n",
            "  '0.106*\"much\" + 0.090*\"happy\" + 0.071*\"love\" + 0.037*\"really\" + 0.034*\"fast\" '\n",
            "  '+ 0.029*\"delivery\"'),\n",
            " (13,\n",
            "  '0.174*\"watch\" + 0.153*\"product\" + 0.075*\"give\" + 0.054*\"awesome\" + '\n",
            "  '0.044*\"also\" + 0.044*\"go\" + 0.040*\"review\" + 0.034*\"build\" + 0.032*\"good\" + '\n",
            "  '0.026*\"quality\"'),\n",
            " (14,\n",
            "  '0.305*\"price\" + 0.158*\"design\" + 0.001*\"low\" + 0.001*\"protect\" + '\n",
            "  '0.001*\"plese\" + 0.001*\"insert\" + 0.001*\"hol\" + 0.001*\"fit\" + 0.001*\"user\" + '\n",
            "  '0.001*\"hand\"'),\n",
            " (15,\n",
            "  '0.126*\"buy\" + 0.122*\"worth\" + 0.104*\"watch\" + 0.082*\"really\" + 0.082*\"like\" '\n",
            "  '+ 0.079*\"wrist\" + 0.054*\"think\" + 0.054*\"love\" + 0.044*\"product\" + '\n",
            "  '0.018*\"search\"'),\n",
            " (16,\n",
            "  '0.215*\"recommend\" + 0.104*\"design\" + 0.072*\"buy\" + 0.061*\"satisfied\" + '\n",
            "  '0.035*\"feature\" + 0.033*\"classic\" + 0.023*\"silver\" + 0.017*\"attractive\" + '\n",
            "  '0.014*\"coated\" + 0.014*\"texture\"'),\n",
            " (17,\n",
            "  '0.455*\"nice\" + 0.291*\"product\" + 0.080*\"look\" + 0.060*\"quality\" + '\n",
            "  '0.015*\"awesome\" + 0.005*\"diesel\" + 0.005*\"bill\" + 0.002*\"pri\" + '\n",
            "  '0.000*\"packing\" + 0.000*\"wear\"'),\n",
            " (18,\n",
            "  '0.247*\"watch\" + 0.150*\"nice\" + 0.075*\"receive\" + 0.072*\"guy\" + 0.050*\"go\" + '\n",
            "  '0.037*\"love\" + 0.026*\"choice\" + 0.020*\"wish\" + 0.019*\"productb\" + '\n",
            "  '0.018*\"much\"'),\n",
            " (19,\n",
            "  '0.002*\"good\" + 0.002*\"steel\" + 0.002*\"sweet\" + 0.002*\"mean\" + 0.002*\"new\" + '\n",
            "  '0.002*\"religion\" + 0.002*\"specially\" + 0.002*\"fastrack\" + 0.002*\"stylish\" + '\n",
            "  '0.002*\"accordingly\"')]\n"
          ]
        }
      ],
      "id": "6LASLctNrsdq"
    },
    {
      "cell_type": "code",
      "source": [
        "# Compute Coherence Score\n",
        "coherence_model_lda = CoherenceModel(model=lda_model, texts=review_data_lemmatized, dictionary=review_id2word, coherence='c_v')\n",
        "coherence_lda = coherence_model_lda.get_coherence()\n",
        "print('\\nCoherence Score: ', coherence_lda)"
      ],
      "metadata": {
        "colab": {
          "base_uri": "https://localhost:8080/"
        },
        "id": "qeRgsPV9Q_jC",
        "outputId": "d4dcc639-c74a-481b-92db-6b0276440436"
      },
      "execution_count": null,
      "outputs": [
        {
          "output_type": "stream",
          "name": "stdout",
          "text": [
            "\n",
            "Coherence Score:  0.41090161889315996\n"
          ]
        }
      ],
      "id": "qeRgsPV9Q_jC"
    },
    {
      "cell_type": "code",
      "source": [
        "# import pyLDAvis\n",
        "# import pyLDAvis.gensim  # don't skip this\n",
        "# import matplotlib.pyplot as plt\n",
        "# %matplotlib inline\n",
        "# pyLDAvis.enable_notebook()\n",
        "# vis = pyLDAvis.gensim.prepare(lda_model, corpus, id2word)\n",
        "# vis"
      ],
      "metadata": {
        "id": "PX3hjN2Ly3Le"
      },
      "execution_count": null,
      "outputs": [],
      "id": "PX3hjN2Ly3Le"
    },
    {
      "cell_type": "code",
      "source": [
        "# calculating model coherence value for various number of topics to get the best k number\n",
        "def compute_coherence_values(dictionary, corpus, texts, limit, start=2, step=3):\n",
        "    \"\"\"\n",
        "    Parameters:\n",
        "    ----------\n",
        "    dictionary : Gensim dictionary\n",
        "    corpus : Gensim corpus\n",
        "    texts : List of input texts\n",
        "    limit : Max num of topics\n",
        "\n",
        "    Returns:\n",
        "    -------\n",
        "    model_list : List of LDA topic models\n",
        "    coherence_values : Coherence values corresponding to the LDA model with respective number of topics\n",
        "    \"\"\"\n",
        "    coherence_values = []\n",
        "    model_list = []\n",
        "    for num_topics in range(start, limit, step):\n",
        "        model = gensim.models.ldamodel.LdaModel(corpus=corpus,\n",
        "                                           id2word=dictionary,\n",
        "                                           num_topics=num_topics, \n",
        "                                           random_state=100,\n",
        "                                           update_every=1,\n",
        "                                           chunksize=100,\n",
        "                                           passes=10,\n",
        "                                           alpha='auto',\n",
        "                                           per_word_topics=True)\n",
        "        model_list.append(model)\n",
        "        coherencemodel = CoherenceModel(model=model, texts=texts, dictionary=dictionary, coherence='c_v')\n",
        "        coherence_values.append(coherencemodel.get_coherence())\n",
        "\n",
        "    return model_list, coherence_values\n",
        "start, limit, step=2, 20, 2\n",
        "model_list, coherence_values = compute_coherence_values(dictionary=review_id2word, corpus=review_corpus, texts=review_data_lemmatized, start=start, limit=limit, step=step)\n",
        "coherence_values_all = []\n",
        "for m, cv in zip(range(start, limit, step), coherence_values):\n",
        "    coherence_values_all.append(round(cv,4))\n",
        "    print(\"Num Topics =\", m, \" has Coherence Value of\", round(cv, 4))"
      ],
      "metadata": {
        "colab": {
          "base_uri": "https://localhost:8080/"
        },
        "id": "vR_jcM3Yy3OH",
        "outputId": "e4e218ec-3f0c-4e5a-f058-ab63b5575327"
      },
      "execution_count": null,
      "outputs": [
        {
          "output_type": "stream",
          "name": "stdout",
          "text": [
            "Num Topics = 2  has Coherence Value of 0.4324\n",
            "Num Topics = 4  has Coherence Value of 0.3827\n",
            "Num Topics = 6  has Coherence Value of 0.4073\n",
            "Num Topics = 8  has Coherence Value of 0.3813\n",
            "Num Topics = 10  has Coherence Value of 0.4007\n",
            "Num Topics = 12  has Coherence Value of 0.3788\n",
            "Num Topics = 14  has Coherence Value of 0.3605\n",
            "Num Topics = 16  has Coherence Value of 0.3921\n",
            "Num Topics = 18  has Coherence Value of 0.435\n"
          ]
        }
      ],
      "id": "vR_jcM3Yy3OH"
    },
    {
      "cell_type": "code",
      "source": [
        "sum(coherence_values_all)/len(coherence_values_all)"
      ],
      "metadata": {
        "colab": {
          "base_uri": "https://localhost:8080/"
        },
        "id": "qN1ok592-ecI",
        "outputId": "4cf5ae2b-11eb-4dd9-9826-aa59a27c3a5a"
      },
      "execution_count": null,
      "outputs": [
        {
          "output_type": "execute_result",
          "data": {
            "text/plain": [
              "0.3967555555555556"
            ]
          },
          "metadata": {},
          "execution_count": 24
        }
      ],
      "id": "qN1ok592-ecI"
    },
    {
      "cell_type": "markdown",
      "source": [
        "As we can see the values are first decreased and then increasing. Hence taking the value, which is near to mean of all coherence values. Taking 16 topics with value 0.39. "
      ],
      "metadata": {
        "id": "K_6Vbrx13lnj"
      },
      "id": "K_6Vbrx13lnj"
    },
    {
      "cell_type": "code",
      "source": [
        "optimal_model = model_list[7] # getting the topics=16 model, which is in 7th index of our model and getting the 16 topics.\n",
        "model_topics = optimal_model.show_topics(formatted=False)\n",
        "pprint(optimal_model.print_topics(num_words=10))"
      ],
      "metadata": {
        "colab": {
          "base_uri": "https://localhost:8080/"
        },
        "id": "Z6CFs9Bt0hCw",
        "outputId": "57114639-af0a-4e90-c704-4b62056e1c4d"
      },
      "execution_count": null,
      "outputs": [
        {
          "output_type": "stream",
          "name": "stdout",
          "text": [
            "[(0,\n",
            "  '0.163*\"warranty\" + 0.137*\"month\" + 0.013*\"time\" + 0.010*\"seller\" + '\n",
            "  '0.010*\"cargo\" + 0.010*\"night\" + 0.010*\"neat\" + 0.010*\"changer\" + '\n",
            "  '0.010*\"useful\" + 0.010*\"auto\"'),\n",
            " (1,\n",
            "  '0.186*\"money\" + 0.133*\"value\" + 0.055*\"expect\" + 0.053*\"excellent\" + '\n",
            "  '0.038*\"look\" + 0.036*\"quality\" + 0.033*\"watch\" + 0.032*\"classy\" + '\n",
            "  '0.030*\"design\" + 0.029*\"big\"'),\n",
            " (2,\n",
            "  '0.548*\"nice\" + 0.193*\"product\" + 0.083*\"look\" + 0.027*\"quality\" + '\n",
            "  '0.011*\"choice\" + 0.008*\"productb\" + 0.006*\"diesel\" + 0.006*\"bill\" + '\n",
            "  '0.000*\"packing\" + 0.000*\"wacth\"'),\n",
            " (3,\n",
            "  '0.099*\"look\" + 0.091*\"watch\" + 0.078*\"colour\" + 0.052*\"pretty\" + '\n",
            "  '0.046*\"wise\" + 0.046*\"wear\" + 0.045*\"buy\" + 0.038*\"overall\" + 0.036*\"good\" '\n",
            "  '+ 0.032*\"excellent\"'),\n",
            " (4,\n",
            "  '0.102*\"watch\" + 0.085*\"good\" + 0.076*\"look\" + 0.061*\"get\" + 0.051*\"well\" + '\n",
            "  '0.044*\"worth\" + 0.039*\"range\" + 0.037*\"show\" + 0.037*\"use\" + 0.037*\"even\"'),\n",
            " (5,\n",
            "  '0.123*\"simple\" + 0.087*\"super\" + 0.043*\"money\" + 0.037*\"short\" + '\n",
            "  '0.034*\"wish\" + 0.031*\"ok\" + 0.024*\"fork\" + 0.024*\"different\" + '\n",
            "  '0.024*\"golden\" + 0.024*\"charge\"'),\n",
            " (6,\n",
            "  '0.102*\"time\" + 0.079*\"item\" + 0.061*\"day\" + 0.059*\"formal\" + '\n",
            "  '0.048*\"delivery\" + 0.042*\"satisfied\" + 0.040*\"white\" + 0.037*\"order\" + '\n",
            "  '0.031*\"party\" + 0.031*\"casual\"'),\n",
            " (7,\n",
            "  '0.435*\"good\" + 0.181*\"product\" + 0.091*\"quality\" + 0.052*\"buy\" + '\n",
            "  '0.032*\"build\" + 0.021*\"cost\" + 0.018*\"low\" + 0.016*\"month\" + '\n",
            "  '0.013*\"service\" + 0.010*\"extra\"'),\n",
            " (8,\n",
            "  '0.189*\"much\" + 0.087*\"thank\" + 0.073*\"product\" + 0.065*\"flipkart\" + '\n",
            "  '0.064*\"love\" + 0.058*\"watch\" + 0.052*\"wear\" + 0.046*\"date\" + '\n",
            "  '0.044*\"receive\" + 0.031*\"well\"'),\n",
            " (9,\n",
            "  '0.132*\"buy\" + 0.112*\"like\" + 0.101*\"watch\" + 0.091*\"product\" + '\n",
            "  '0.080*\"really\" + 0.049*\"worth\" + 0.048*\"pic\" + 0.042*\"nice\" + 0.026*\"wrist\" '\n",
            "  '+ 0.024*\"search\"'),\n",
            " (10,\n",
            "  '0.094*\"love\" + 0.086*\"thank\" + 0.079*\"happy\" + 0.065*\"amazing\" + '\n",
            "  '0.062*\"flipkart\" + 0.056*\"watch\" + 0.055*\"really\" + 0.053*\"beautiful\" + '\n",
            "  '0.044*\"fast\" + 0.033*\"delivery\"'),\n",
            " (11,\n",
            "  '0.065*\"finally\" + 0.053*\"money\" + 0.038*\"classic\" + 0.037*\"premium\" + '\n",
            "  '0.035*\"quality\" + 0.034*\"valuable\" + 0.030*\"unique\" + 0.030*\"class\" + '\n",
            "  '0.024*\"stap\" + 0.024*\"rubber\"'),\n",
            " (12,\n",
            "  '0.152*\"awesome\" + 0.094*\"see\" + 0.093*\"recommend\" + 0.077*\"wach\" + '\n",
            "  '0.072*\"love\" + 0.060*\"never\" + 0.038*\"go\" + 0.035*\"today\" + 0.035*\"ago\" + '\n",
            "  '0.026*\"world\"'),\n",
            " (13,\n",
            "  '0.204*\"watch\" + 0.057*\"design\" + 0.054*\"product\" + 0.049*\"great\" + '\n",
            "  '0.049*\"also\" + 0.041*\"quality\" + 0.036*\"give\" + 0.031*\"perfect\" + '\n",
            "  '0.029*\"look\" + 0.025*\"black\"'),\n",
            " (14,\n",
            "  '0.403*\"price\" + 0.055*\"quality\" + 0.002*\"ameze\" + 0.001*\"hol\" + '\n",
            "  '0.001*\"user\" + 0.001*\"protect\" + 0.001*\"plese\" + 0.001*\"insert\" + '\n",
            "  '0.001*\"fit\" + 0.001*\"hand\"'),\n",
            " (15,\n",
            "  '0.002*\"steel\" + 0.002*\"stylish\" + 0.002*\"hindu\" + 0.002*\"mean\" + '\n",
            "  '0.002*\"new\" + 0.002*\"religion\" + 0.002*\"specially\" + 0.002*\"early\" + '\n",
            "  '0.002*\"wai\" + 0.002*\"year\"')]\n"
          ]
        }
      ],
      "id": "Z6CFs9Bt0hCw"
    },
    {
      "cell_type": "markdown",
      "metadata": {
        "id": "MQvpB5meZUty"
      },
      "source": [
        "## (2) (10 points) Generate K topics by using LSA, the number of topics K should be decided by the coherence score, then summarize what are the topics. You may refer the code here:\n",
        "\n",
        "https://www.datacamp.com/community/tutorials/discovering-hidden-topics-python"
      ],
      "id": "MQvpB5meZUty"
    },
    {
      "cell_type": "code",
      "execution_count": null,
      "metadata": {
        "colab": {
          "base_uri": "https://localhost:8080/"
        },
        "id": "mWGgDr5PZUty",
        "outputId": "ea2df6cf-6a26-40f1-b3f5-7cf078a7541f"
      },
      "outputs": [
        {
          "output_type": "stream",
          "name": "stdout",
          "text": [
            "[(0, '0.564*\"watch\" + 0.408*\"product\" + 0.385*\"good\" + 0.323*\"nice\" + 0.227*\"look\" + 0.203*\"quality\" + 0.120*\"thank\" + 0.111*\"love\" + 0.100*\"flipkart\" + 0.098*\"money\"'), (1, '0.698*\"watch\" + -0.584*\"product\" + -0.200*\"good\" + -0.182*\"nice\" + -0.078*\"flipkart\" + -0.076*\"really\" + -0.072*\"thank\" + -0.068*\"money\" + 0.068*\"look\" + 0.051*\"dial\"'), (2, '0.702*\"good\" + -0.479*\"product\" + 0.293*\"quality\" + -0.212*\"watch\" + 0.120*\"money\" + -0.098*\"nice\" + 0.096*\"fast\" + 0.094*\"price\" + 0.082*\"look\" + -0.078*\"give\"'), (3, '-0.847*\"nice\" + 0.236*\"product\" + 0.177*\"good\" + 0.131*\"love\" + -0.125*\"quality\" + 0.116*\"go\" + 0.109*\"really\" + -0.097*\"money\" + 0.093*\"design\" + 0.091*\"give\"'), (4, '-0.720*\"look\" + 0.322*\"good\" + 0.233*\"watch\" + -0.160*\"thank\" + -0.140*\"quality\" + -0.138*\"strap\" + -0.115*\"money\" + -0.113*\"great\" + -0.103*\"delivery\" + -0.101*\"excellent\"'), (5, '0.567*\"thank\" + 0.372*\"flipkart\" + 0.341*\"love\" + -0.241*\"product\" + 0.214*\"much\" + 0.155*\"amazing\" + 0.151*\"beautiful\" + -0.145*\"look\" + 0.143*\"fast\" + 0.131*\"happy\"'), (6, '0.486*\"quality\" + 0.390*\"love\" + 0.362*\"great\" + -0.245*\"look\" + 0.232*\"really\" + -0.231*\"good\" + 0.186*\"also\" + 0.156*\"design\" + -0.127*\"wise\" + 0.117*\"premium\"'), (7, '-0.417*\"love\" + 0.379*\"money\" + -0.323*\"look\" + 0.216*\"value\" + 0.211*\"quality\" + -0.194*\"really\" + 0.164*\"beautiful\" + -0.156*\"buy\" + 0.145*\"thank\" + 0.129*\"give\"'), (8, '0.400*\"great\" + -0.339*\"worth\" + -0.258*\"love\" + -0.242*\"money\" + -0.211*\"buy\" + 0.203*\"design\" + -0.199*\"excellent\" + -0.142*\"really\" + -0.140*\"quality\" + 0.134*\"flipkart\"'), (9, '-0.367*\"money\" + -0.286*\"value\" + -0.228*\"great\" + 0.214*\"give\" + 0.204*\"strap\" + -0.200*\"design\" + -0.195*\"price\" + -0.191*\"wise\" + -0.177*\"love\" + 0.169*\"dial\"')]\n"
          ]
        }
      ],
      "source": [
        "# Write your code here\n",
        "\n",
        "from gensim.models import LsiModel\n",
        "\n",
        "lsamodel = LsiModel(review_corpus, num_topics=10, id2word = review_id2word)  # train model\n",
        "print(lsamodel.print_topics(num_topics=10, num_words=10))\n"
      ],
      "id": "mWGgDr5PZUty"
    },
    {
      "cell_type": "code",
      "source": [
        "coherencemodel = CoherenceModel(model=lsamodel, texts=review_data_lemmatized, dictionary=review_id2word, coherence='c_v')\n",
        "print(coherencemodel.get_coherence())"
      ],
      "metadata": {
        "colab": {
          "base_uri": "https://localhost:8080/"
        },
        "id": "GsvnSXtiDSgZ",
        "outputId": "68ba3aa4-5d08-4abd-e311-1d7c6fea4738"
      },
      "execution_count": null,
      "outputs": [
        {
          "output_type": "stream",
          "name": "stdout",
          "text": [
            "0.35844712476622786\n"
          ]
        }
      ],
      "id": "GsvnSXtiDSgZ"
    },
    {
      "cell_type": "code",
      "source": [
        "def compute_lsa_coherence_values(dictionary, corpus, texts, limit, start=2, step=3):\n",
        "    coherence_values = []\n",
        "    model_list = []\n",
        "    for num_topics in range(start, limit, step):\n",
        "        lsamodel = LsiModel(corpus, num_topics=num_topics, id2word = dictionary)  # train model\n",
        "        model_list.append(lsamodel)\n",
        "        coherencemodel = CoherenceModel(model=lsamodel, texts=texts, dictionary=dictionary, coherence='c_v')\n",
        "        coherence_values.append(coherencemodel.get_coherence())\n",
        "\n",
        "    return model_list, coherence_values\n",
        "\n",
        "start, limit, step=2, 20, 2\n",
        "model_lsa_list, coherence_values = compute_lsa_coherence_values(dictionary=review_id2word, corpus=review_corpus, texts=review_data_lemmatized, start=start, limit=limit, step=step)\n",
        "coherence_values_all = []\n",
        "for m, cv in zip(range(start, limit, step), coherence_values):\n",
        "    coherence_values_all.append(round(cv,4))\n",
        "    print(\"Num Topics =\", m, \" has Coherence Value of\", round(cv, 4))"
      ],
      "metadata": {
        "colab": {
          "base_uri": "https://localhost:8080/"
        },
        "id": "1zmRpTzcDTA7",
        "outputId": "565820e7-d802-488b-c5d3-b626f1374caa"
      },
      "execution_count": null,
      "outputs": [
        {
          "output_type": "stream",
          "name": "stdout",
          "text": [
            "Num Topics = 2  has Coherence Value of 0.3746\n",
            "Num Topics = 4  has Coherence Value of 0.3563\n",
            "Num Topics = 6  has Coherence Value of 0.4036\n",
            "Num Topics = 8  has Coherence Value of 0.3238\n",
            "Num Topics = 10  has Coherence Value of 0.3534\n",
            "Num Topics = 12  has Coherence Value of 0.328\n",
            "Num Topics = 14  has Coherence Value of 0.3653\n",
            "Num Topics = 16  has Coherence Value of 0.3095\n",
            "Num Topics = 18  has Coherence Value of 0.3047\n"
          ]
        }
      ],
      "id": "1zmRpTzcDTA7"
    },
    {
      "cell_type": "code",
      "source": [
        "coherence_values_all"
      ],
      "metadata": {
        "colab": {
          "base_uri": "https://localhost:8080/"
        },
        "id": "aCiB0enqHSnv",
        "outputId": "4e925c91-e89e-43fc-dc54-3e20132cac84"
      },
      "execution_count": null,
      "outputs": [
        {
          "output_type": "execute_result",
          "data": {
            "text/plain": [
              "[0.3746, 0.3563, 0.4036, 0.3238, 0.3534, 0.328, 0.3653, 0.3095, 0.3047]"
            ]
          },
          "metadata": {},
          "execution_count": 29
        }
      ],
      "id": "aCiB0enqHSnv"
    },
    {
      "cell_type": "code",
      "source": [
        "sum(coherence_values_all)/len(coherence_values_all)"
      ],
      "metadata": {
        "colab": {
          "base_uri": "https://localhost:8080/"
        },
        "id": "DfVkkkIwHNQv",
        "outputId": "47f4870b-cd61-4353-a9a7-8778b872e8b8"
      },
      "execution_count": null,
      "outputs": [
        {
          "output_type": "execute_result",
          "data": {
            "text/plain": [
              "0.34657777777777776"
            ]
          },
          "metadata": {},
          "execution_count": 30
        }
      ],
      "id": "DfVkkkIwHNQv"
    },
    {
      "cell_type": "markdown",
      "source": [
        "As we can see the values are first decreased and then increasing, which is in unorganised way. Hence taking the value, which is near to mean of all coherence values. Taking 10 topics with value 0.35. "
      ],
      "metadata": {
        "id": "TkiyJG9rG9bn"
      },
      "id": "TkiyJG9rG9bn"
    },
    {
      "cell_type": "code",
      "source": [
        "optimal_model = model_list[4] # getting the topics=10 model, which is in 5th index of our model and getting the 10 topics.\n",
        "model_topics = optimal_model.show_topics(formatted=False)\n",
        "pprint(optimal_model.print_topics(num_words=10))"
      ],
      "metadata": {
        "colab": {
          "base_uri": "https://localhost:8080/"
        },
        "id": "WGvT2xqCFMtI",
        "outputId": "69a78030-4ad0-49a9-855d-efe482e62d96"
      },
      "execution_count": null,
      "outputs": [
        {
          "output_type": "stream",
          "name": "stdout",
          "text": [
            "[(0,\n",
            "  '0.096*\"good\" + 0.076*\"love\" + 0.060*\"product\" + 0.058*\"quality\" + '\n",
            "  '0.046*\"really\" + 0.041*\"great\" + 0.041*\"design\" + 0.029*\"much\" + '\n",
            "  '0.028*\"price\" + 0.027*\"also\"'),\n",
            " (1,\n",
            "  '0.058*\"happy\" + 0.053*\"item\" + 0.046*\"excellent\" + 0.043*\"expect\" + '\n",
            "  '0.039*\"delivery\" + 0.035*\"beautiful\" + 0.031*\"strap\" + 0.030*\"quality\" + '\n",
            "  '0.029*\"thank\" + 0.027*\"much\"'),\n",
            " (2,\n",
            "  '0.047*\"perfect\" + 0.042*\"use\" + 0.041*\"keep\" + 0.040*\"thing\" + '\n",
            "  '0.029*\"amazing\" + 0.026*\"sleek\" + 0.025*\"know\" + 0.023*\"get\" + 0.022*\"day\" '\n",
            "  '+ 0.021*\"fantastic\"'),\n",
            " (3,\n",
            "  '0.085*\"watch\" + 0.052*\"look\" + 0.045*\"colour\" + 0.044*\"product\" + '\n",
            "  '0.038*\"recommend\" + 0.035*\"pretty\" + 0.033*\"wrist\" + 0.030*\"wise\" + '\n",
            "  '0.029*\"good\" + 0.028*\"buy\"'),\n",
            " (4,\n",
            "  '0.131*\"watch\" + 0.067*\"product\" + 0.063*\"love\" + 0.057*\"awesome\" + '\n",
            "  '0.045*\"beautiful\" + 0.042*\"much\" + 0.038*\"give\" + 0.035*\"well\" + 0.032*\"go\" '\n",
            "  '+ 0.026*\"guy\"'),\n",
            " (5,\n",
            "  '0.262*\"nice\" + 0.045*\"pic\" + 0.038*\"gifted\" + 0.025*\"choice\" + '\n",
            "  '0.024*\"wacth\" + 0.024*\"waterproof\" + 0.019*\"wish\" + 0.019*\"productb\" + '\n",
            "  '0.019*\"super\" + 0.018*\"golden\"'),\n",
            " (6,\n",
            "  '0.202*\"good\" + 0.129*\"nice\" + 0.082*\"watch\" + 0.074*\"product\" + '\n",
            "  '0.074*\"money\" + 0.073*\"quality\" + 0.052*\"value\" + 0.040*\"look\" + '\n",
            "  '0.020*\"price\" + 0.015*\"satisfied\"'),\n",
            " (7,\n",
            "  '0.075*\"buy\" + 0.065*\"watch\" + 0.056*\"good\" + 0.046*\"wach\" + 0.036*\"cost\" + '\n",
            "  '0.035*\"bad\" + 0.029*\"wear\" + 0.029*\"cool\" + 0.028*\"definitely\" + '\n",
            "  '0.027*\"excellent\"'),\n",
            " (8,\n",
            "  '0.067*\"look\" + 0.061*\"watch\" + 0.030*\"time\" + 0.023*\"wear\" + 0.021*\"formal\" '\n",
            "  '+ 0.020*\"black\" + 0.018*\"get\" + 0.016*\"even\" + 0.016*\"belt\" + '\n",
            "  '0.016*\"warranty\"'),\n",
            " (9,\n",
            "  '0.173*\"product\" + 0.137*\"nice\" + 0.063*\"thank\" + 0.061*\"flipkart\" + '\n",
            "  '0.036*\"watch\" + 0.031*\"happy\" + 0.029*\"buy\" + 0.027*\"order\" + 0.026*\"like\" '\n",
            "  '+ 0.026*\"amazing\"')]\n"
          ]
        }
      ],
      "id": "WGvT2xqCFMtI"
    },
    {
      "cell_type": "markdown",
      "metadata": {
        "id": "RmyxDnbZZUtz"
      },
      "source": [
        "## (3) (10 points) Generate K topics by using  lda2vec, the number of topics K should be decided by the coherence score, then summarize what are the topics. You may refer the code here:\n",
        "\n",
        "https://nbviewer.org/github/cemoody/lda2vec/blob/master/examples/twenty_newsgroups/lda2vec/lda2vec.ipynb"
      ],
      "id": "RmyxDnbZZUtz"
    },
    {
      "cell_type": "code",
      "execution_count": null,
      "metadata": {
        "colab": {
          "base_uri": "https://localhost:8080/",
          "height": 374
        },
        "id": "P6oBm7s3ZUtz",
        "outputId": "2c08d504-b081-4958-9a08-0b66cbc9c384"
      },
      "outputs": [
        {
          "output_type": "error",
          "ename": "ModuleNotFoundError",
          "evalue": "ignored",
          "traceback": [
            "\u001b[0;31m---------------------------------------------------------------------------\u001b[0m",
            "\u001b[0;31mModuleNotFoundError\u001b[0m                       Traceback (most recent call last)",
            "\u001b[0;32m<ipython-input-120-b22392ff9e6a>\u001b[0m in \u001b[0;36m<cell line: 3>\u001b[0;34m()\u001b[0m\n\u001b[1;32m      1\u001b[0m \u001b[0;31m# Write your code here\u001b[0m\u001b[0;34m\u001b[0m\u001b[0;34m\u001b[0m\u001b[0m\n\u001b[1;32m      2\u001b[0m \u001b[0;34m\u001b[0m\u001b[0m\n\u001b[0;32m----> 3\u001b[0;31m \u001b[0;32mimport\u001b[0m \u001b[0mlda2vec\u001b[0m\u001b[0;34m\u001b[0m\u001b[0;34m\u001b[0m\u001b[0m\n\u001b[0m\u001b[1;32m      4\u001b[0m \u001b[0;34m\u001b[0m\u001b[0m\n\u001b[1;32m      5\u001b[0m \u001b[0;34m\u001b[0m\u001b[0m\n",
            "\u001b[0;31mModuleNotFoundError\u001b[0m: No module named 'lda2vec'",
            "",
            "\u001b[0;31m---------------------------------------------------------------------------\u001b[0;32m\nNOTE: If your import is failing due to a missing package, you can\nmanually install dependencies using either !pip or !apt.\n\nTo view examples of installing some common dependencies, click the\n\"Open Examples\" button below.\n\u001b[0;31m---------------------------------------------------------------------------\u001b[0m\n"
          ],
          "errorDetails": {
            "actions": [
              {
                "action": "open_url",
                "actionText": "Open Examples",
                "url": "/notebooks/snippets/importing_libraries.ipynb"
              }
            ]
          }
        }
      ],
      "source": [
        "# Write your code here\n",
        "\n",
        "import lda2vec\n",
        "\n",
        "\n"
      ],
      "id": "P6oBm7s3ZUtz"
    },
    {
      "cell_type": "markdown",
      "metadata": {
        "id": "EETTMiWBZUtz"
      },
      "source": [
        "## (4) (10 points) Generate K topics by using BERTopic, the number of topics K should be decided by the coherence score, then summarize what are the topics. You may refer the code here: \n",
        "\n",
        "https://colab.research.google.com/drive/1FieRA9fLdkQEGDIMYl0I3MCjSUKVF8C-?usp=sharing"
      ],
      "id": "EETTMiWBZUtz"
    },
    {
      "cell_type": "code",
      "execution_count": null,
      "metadata": {
        "id": "ACYHZnACZUtz"
      },
      "outputs": [],
      "source": [
        "# Write your code here\n",
        "\n",
        "%%capture\n",
        "!pip install bertopic"
      ],
      "id": "ACYHZnACZUtz"
    },
    {
      "cell_type": "code",
      "source": [
        "from bertopic import BERTopic\n",
        "\n",
        "topic_model = BERTopic(language=\"english\", calculate_probabilities=True, verbose=True)\n",
        "topics, probs = topic_model.fit_transform(df['review'].tolist())"
      ],
      "metadata": {
        "id": "eoUesvoWlv05"
      },
      "execution_count": null,
      "outputs": [],
      "id": "eoUesvoWlv05"
    },
    {
      "cell_type": "code",
      "source": [],
      "metadata": {
        "id": "m1S5Y6ZQmUtO"
      },
      "execution_count": null,
      "outputs": [],
      "id": "m1S5Y6ZQmUtO"
    },
    {
      "cell_type": "code",
      "source": [],
      "metadata": {
        "id": "sc46NUrhmUv6"
      },
      "execution_count": null,
      "outputs": [],
      "id": "sc46NUrhmUv6"
    },
    {
      "cell_type": "code",
      "source": [],
      "metadata": {
        "id": "9ikMOooamUyh"
      },
      "execution_count": null,
      "outputs": [],
      "id": "9ikMOooamUyh"
    },
    {
      "cell_type": "code",
      "source": [],
      "metadata": {
        "id": "FqFgOkkVmU17"
      },
      "execution_count": null,
      "outputs": [],
      "id": "FqFgOkkVmU17"
    },
    {
      "cell_type": "markdown",
      "metadata": {
        "id": "AVtdTFYoZUtz"
      },
      "source": [
        "## (5) (10 extra points) Compare the results generated by the four topic modeling algorithms, which one is better? You should explain the reasons in details."
      ],
      "id": "AVtdTFYoZUtz"
    },
    {
      "cell_type": "code",
      "execution_count": null,
      "metadata": {
        "id": "0CrlW9NxZUtz"
      },
      "outputs": [],
      "source": [
        "# Write your answer here (no code needed for this question)\n",
        "\n",
        "\n",
        "\n"
      ],
      "id": "0CrlW9NxZUtz"
    }
  ],
  "metadata": {
    "kernelspec": {
      "display_name": "Python 3 (ipykernel)",
      "language": "python",
      "name": "python3"
    },
    "language_info": {
      "codemirror_mode": {
        "name": "ipython",
        "version": 3
      },
      "file_extension": ".py",
      "mimetype": "text/x-python",
      "name": "python",
      "nbconvert_exporter": "python",
      "pygments_lexer": "ipython3",
      "version": "3.9.12"
    },
    "colab": {
      "provenance": [],
      "include_colab_link": true
    },
    "accelerator": "GPU",
    "gpuClass": "standard"
  },
  "nbformat": 4,
  "nbformat_minor": 5
}