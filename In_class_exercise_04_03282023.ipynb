{
  "cells": [
    {
      "cell_type": "markdown",
      "metadata": {
        "id": "view-in-github",
        "colab_type": "text"
      },
      "source": [
        "<a href=\"https://colab.research.google.com/github/abhi147p/Abhishek_INFO5731_Spring2023/blob/main/In_class_exercise_04_03282023.ipynb\" target=\"_parent\"><img src=\"https://colab.research.google.com/assets/colab-badge.svg\" alt=\"Open In Colab\"/></a>"
      ]
    },
    {
      "cell_type": "markdown",
      "metadata": {
        "id": "0xT9z9NqZUtv"
      },
      "source": [
        "# **The fourth in-class-exercise (40 points in total, 03/28/2022)**"
      ]
    },
    {
      "cell_type": "markdown",
      "metadata": {
        "id": "jca1oRtJZUtx"
      },
      "source": [
        "Question description: Please use the text corpus you collected in your last in-class-exercise for this exercise. Perform the following tasks:"
      ]
    },
    {
      "cell_type": "markdown",
      "metadata": {
        "id": "PszLFbkfZUtx"
      },
      "source": [
        "## (1) (10 points) Generate K topics by using LDA, the number of topics K should be decided by the coherence score, then summarize what are the topics. You may refer the code here: \n",
        "\n",
        "https://www.machinelearningplus.com/nlp/topic-modeling-gensim-python/"
      ]
    },
    {
      "cell_type": "code",
      "execution_count": 19,
      "metadata": {
        "colab": {
          "base_uri": "https://localhost:8080/",
          "height": 406
        },
        "id": "lHWgLTqrZUty",
        "outputId": "55a725ce-50a7-4fd3-b05b-c7691c48c158"
      },
      "outputs": [
        {
          "output_type": "stream",
          "name": "stdout",
          "text": [
            "Enter no of pages: 3\n",
            "Processed 1 pages\n",
            "Processed 2 pages\n",
            "Processed 3 pages\n"
          ]
        },
        {
          "output_type": "execute_result",
          "data": {
            "text/plain": [
              "                                              Title  \\\n",
              "0  Day&Date Series Analog Watch  - For Boys HM-3172   \n",
              "1  Day&Date Series Analog Watch  - For Boys HM-3172   \n",
              "2  Day&Date Series Analog Watch  - For Boys HM-3172   \n",
              "3                          Analog Watch  - For Boys   \n",
              "4                          Analog Watch  - For Boys   \n",
              "\n",
              "                                                 url brand new_price  \\\n",
              "0  https://www.flipkart.com/hmte-day-date-series-...  hmte      ₹291   \n",
              "1  https://www.flipkart.com/hmte-day-date-series-...  hmte      ₹291   \n",
              "2  https://www.flipkart.com/hmte-day-date-series-...  hmte      ₹291   \n",
              "3  https://www.flipkart.com/hmte-analog-watch-boy...  hmte      ₹299   \n",
              "4  https://www.flipkart.com/hmte-analog-watch-boy...  hmte      ₹299   \n",
              "\n",
              "  old_price rating                                             review  \n",
              "0      ₹999    3.9  Very nice watch ⌚ delivered by Flipkart. Looks...  \n",
              "1      ₹999    3.9                                              Super  \n",
              "2      ₹999    3.9          It's ossamm product, it's Value for money  \n",
              "3      ₹999    3.9  Very nice watch ⌚ delivered by Flipkart. Looks...  \n",
              "4      ₹999    3.9                                              Super  "
            ],
            "text/html": [
              "\n",
              "  <div id=\"df-4283326e-6c9c-4e71-8a77-5ba84ef4a8c1\">\n",
              "    <div class=\"colab-df-container\">\n",
              "      <div>\n",
              "<style scoped>\n",
              "    .dataframe tbody tr th:only-of-type {\n",
              "        vertical-align: middle;\n",
              "    }\n",
              "\n",
              "    .dataframe tbody tr th {\n",
              "        vertical-align: top;\n",
              "    }\n",
              "\n",
              "    .dataframe thead th {\n",
              "        text-align: right;\n",
              "    }\n",
              "</style>\n",
              "<table border=\"1\" class=\"dataframe\">\n",
              "  <thead>\n",
              "    <tr style=\"text-align: right;\">\n",
              "      <th></th>\n",
              "      <th>Title</th>\n",
              "      <th>url</th>\n",
              "      <th>brand</th>\n",
              "      <th>new_price</th>\n",
              "      <th>old_price</th>\n",
              "      <th>rating</th>\n",
              "      <th>review</th>\n",
              "    </tr>\n",
              "  </thead>\n",
              "  <tbody>\n",
              "    <tr>\n",
              "      <th>0</th>\n",
              "      <td>Day&amp;Date Series Analog Watch  - For Boys HM-3172</td>\n",
              "      <td>https://www.flipkart.com/hmte-day-date-series-...</td>\n",
              "      <td>hmte</td>\n",
              "      <td>₹291</td>\n",
              "      <td>₹999</td>\n",
              "      <td>3.9</td>\n",
              "      <td>Very nice watch ⌚ delivered by Flipkart. Looks...</td>\n",
              "    </tr>\n",
              "    <tr>\n",
              "      <th>1</th>\n",
              "      <td>Day&amp;Date Series Analog Watch  - For Boys HM-3172</td>\n",
              "      <td>https://www.flipkart.com/hmte-day-date-series-...</td>\n",
              "      <td>hmte</td>\n",
              "      <td>₹291</td>\n",
              "      <td>₹999</td>\n",
              "      <td>3.9</td>\n",
              "      <td>Super</td>\n",
              "    </tr>\n",
              "    <tr>\n",
              "      <th>2</th>\n",
              "      <td>Day&amp;Date Series Analog Watch  - For Boys HM-3172</td>\n",
              "      <td>https://www.flipkart.com/hmte-day-date-series-...</td>\n",
              "      <td>hmte</td>\n",
              "      <td>₹291</td>\n",
              "      <td>₹999</td>\n",
              "      <td>3.9</td>\n",
              "      <td>It's ossamm product, it's Value for money</td>\n",
              "    </tr>\n",
              "    <tr>\n",
              "      <th>3</th>\n",
              "      <td>Analog Watch  - For Boys</td>\n",
              "      <td>https://www.flipkart.com/hmte-analog-watch-boy...</td>\n",
              "      <td>hmte</td>\n",
              "      <td>₹299</td>\n",
              "      <td>₹999</td>\n",
              "      <td>3.9</td>\n",
              "      <td>Very nice watch ⌚ delivered by Flipkart. Looks...</td>\n",
              "    </tr>\n",
              "    <tr>\n",
              "      <th>4</th>\n",
              "      <td>Analog Watch  - For Boys</td>\n",
              "      <td>https://www.flipkart.com/hmte-analog-watch-boy...</td>\n",
              "      <td>hmte</td>\n",
              "      <td>₹299</td>\n",
              "      <td>₹999</td>\n",
              "      <td>3.9</td>\n",
              "      <td>Super</td>\n",
              "    </tr>\n",
              "  </tbody>\n",
              "</table>\n",
              "</div>\n",
              "      <button class=\"colab-df-convert\" onclick=\"convertToInteractive('df-4283326e-6c9c-4e71-8a77-5ba84ef4a8c1')\"\n",
              "              title=\"Convert this dataframe to an interactive table.\"\n",
              "              style=\"display:none;\">\n",
              "        \n",
              "  <svg xmlns=\"http://www.w3.org/2000/svg\" height=\"24px\"viewBox=\"0 0 24 24\"\n",
              "       width=\"24px\">\n",
              "    <path d=\"M0 0h24v24H0V0z\" fill=\"none\"/>\n",
              "    <path d=\"M18.56 5.44l.94 2.06.94-2.06 2.06-.94-2.06-.94-.94-2.06-.94 2.06-2.06.94zm-11 1L8.5 8.5l.94-2.06 2.06-.94-2.06-.94L8.5 2.5l-.94 2.06-2.06.94zm10 10l.94 2.06.94-2.06 2.06-.94-2.06-.94-.94-2.06-.94 2.06-2.06.94z\"/><path d=\"M17.41 7.96l-1.37-1.37c-.4-.4-.92-.59-1.43-.59-.52 0-1.04.2-1.43.59L10.3 9.45l-7.72 7.72c-.78.78-.78 2.05 0 2.83L4 21.41c.39.39.9.59 1.41.59.51 0 1.02-.2 1.41-.59l7.78-7.78 2.81-2.81c.8-.78.8-2.07 0-2.86zM5.41 20L4 18.59l7.72-7.72 1.47 1.35L5.41 20z\"/>\n",
              "  </svg>\n",
              "      </button>\n",
              "      \n",
              "  <style>\n",
              "    .colab-df-container {\n",
              "      display:flex;\n",
              "      flex-wrap:wrap;\n",
              "      gap: 12px;\n",
              "    }\n",
              "\n",
              "    .colab-df-convert {\n",
              "      background-color: #E8F0FE;\n",
              "      border: none;\n",
              "      border-radius: 50%;\n",
              "      cursor: pointer;\n",
              "      display: none;\n",
              "      fill: #1967D2;\n",
              "      height: 32px;\n",
              "      padding: 0 0 0 0;\n",
              "      width: 32px;\n",
              "    }\n",
              "\n",
              "    .colab-df-convert:hover {\n",
              "      background-color: #E2EBFA;\n",
              "      box-shadow: 0px 1px 2px rgba(60, 64, 67, 0.3), 0px 1px 3px 1px rgba(60, 64, 67, 0.15);\n",
              "      fill: #174EA6;\n",
              "    }\n",
              "\n",
              "    [theme=dark] .colab-df-convert {\n",
              "      background-color: #3B4455;\n",
              "      fill: #D2E3FC;\n",
              "    }\n",
              "\n",
              "    [theme=dark] .colab-df-convert:hover {\n",
              "      background-color: #434B5C;\n",
              "      box-shadow: 0px 1px 3px 1px rgba(0, 0, 0, 0.15);\n",
              "      filter: drop-shadow(0px 1px 2px rgba(0, 0, 0, 0.3));\n",
              "      fill: #FFFFFF;\n",
              "    }\n",
              "  </style>\n",
              "\n",
              "      <script>\n",
              "        const buttonEl =\n",
              "          document.querySelector('#df-4283326e-6c9c-4e71-8a77-5ba84ef4a8c1 button.colab-df-convert');\n",
              "        buttonEl.style.display =\n",
              "          google.colab.kernel.accessAllowed ? 'block' : 'none';\n",
              "\n",
              "        async function convertToInteractive(key) {\n",
              "          const element = document.querySelector('#df-4283326e-6c9c-4e71-8a77-5ba84ef4a8c1');\n",
              "          const dataTable =\n",
              "            await google.colab.kernel.invokeFunction('convertToInteractive',\n",
              "                                                     [key], {});\n",
              "          if (!dataTable) return;\n",
              "\n",
              "          const docLinkHtml = 'Like what you see? Visit the ' +\n",
              "            '<a target=\"_blank\" href=https://colab.research.google.com/notebooks/data_table.ipynb>data table notebook</a>'\n",
              "            + ' to learn more about interactive tables.';\n",
              "          element.innerHTML = '';\n",
              "          dataTable['output_type'] = 'display_data';\n",
              "          await google.colab.output.renderOutput(dataTable, element);\n",
              "          const docLink = document.createElement('div');\n",
              "          docLink.innerHTML = docLinkHtml;\n",
              "          element.appendChild(docLink);\n",
              "        }\n",
              "      </script>\n",
              "    </div>\n",
              "  </div>\n",
              "  "
            ]
          },
          "metadata": {},
          "execution_count": 19
        }
      ],
      "source": [
        "# Write your code here\n",
        "\n",
        "# getting the data\n",
        "# You code here (Please add comments in the code):\n",
        "\n",
        "import requests\n",
        "from bs4 import BeautifulSoup\n",
        "import re\n",
        "import time\n",
        "import pandas as pd\n",
        "\n",
        "def get_soup(url):\n",
        "    \"\"\"\n",
        "        params1: url (contains the url of google scholar page)\n",
        "        return: soup (fetching the url page data and then further converted to html parser)\n",
        "    \"\"\"\n",
        "  # headers = {'user-agent': 'Mozilla/5.0 (Windows NT 10.0; Win64; x64) AppleWebKit/537.36 (KHTML, like Gecko) Chrome/109.0.0.0 Safari/537.36'}\n",
        "    headers = {'User-Agent': ('Mozilla/5.0 (Windows NT 10.0; Win64; x64) AppleWebKit/537.36 (KHTML, like Gecko) Chrome/110.0.0.0 Safari/537.36')}\n",
        "               # 'X-User-Agent': ('Mozilla/5.0 (Windows NT 10.0; Win64; x64) AppleWebKit/537.36 (KHTML, like Gecko) Chrome/110.0.0.0 Safari/537.36 FKUA/website/42/website/Desktop')}\n",
        "    try:\n",
        "        # requesting for data using requests with url and headers for authentication\n",
        "        data = requests.get(url, headers=headers)\n",
        "        # print(f\"Extracted the data with response as {data.status_code}\")\n",
        "        if data.status_code != 200:\n",
        "            raise Exception(f\"Failed to fetch data: {data.status_code} and text as {data.text}\")\n",
        "    except Exception as ex:\n",
        "        print(f\"Exception occurred as {ex}\")\n",
        "        return None\n",
        "    soup = BeautifulSoup(data.text, \"html.parser\")\n",
        "    return soup\n",
        "\n",
        "def fetch_data_web(pages):\n",
        "\n",
        "  final_data = []\n",
        "  for i in range(1, pages+1):\n",
        "    url = f\"https://www.flipkart.com/search?q=Watches&otracker=search&otracker1=search&marketplace=FLIPKART&as-show=on&as=off&page={i}\"\n",
        "    soup = get_soup(url)\n",
        "    # print(soup.prettify())\n",
        "    products_data = soup.findAll(\"div\", attrs={\"class\": \"_1AtVbE col-12-12\"})\n",
        "    for prod_data in products_data:\n",
        "      sub_prod_data = prod_data.findAll(\"div\", attrs={\"class\": \"_1xHGtK _373qXS\"})\n",
        "      for data in sub_prod_data:\n",
        "        prod_url = \"https://www.flipkart.com\" + data.find(\"a\", attrs={\"class\": \"_2UzuFa\"}).get(\"href\")\n",
        "        brand = data.find(\"div\", attrs={\"class\": \"_2WkVRV\"}).text.strip()\n",
        "        title = data.find(\"a\", attrs={\"class\": \"IRpwTa\"}).get(\"title\")\n",
        "        new_price = data.find(\"div\", attrs={\"class\": \"_30jeq3\"})\n",
        "        old_price = data.find(\"div\", attrs={\"class\": \"_3I9_wc\"})\n",
        "        if new_price:\n",
        "          new_price = new_price.text.strip()\n",
        "        else:\n",
        "          new_price = \"No\"\n",
        "        if old_price:\n",
        "          old_price = old_price.text.strip()\n",
        "        else:\n",
        "          old_price = \"No\"\n",
        "        # discount = data.find(\"div\", attrs={\"class\": \"_3Ay6Sb\"}).text.strip()\n",
        "        # free_delivery = data.find(\"div\", attrs={\"class\": \"_2Tpdn3\"})\n",
        "        # if free_delivery:\n",
        "        #   free_delivery = free_delivery.text.strip()\n",
        "        # else:\n",
        "        #   free_delivery = \"No free Delivery\"\n",
        "        soup_data = get_soup(prod_url)\n",
        "        # print(prod_url)\n",
        "        # print(soup_data)\n",
        "        # break\n",
        "        # rating = \"0\"\n",
        "        # if soup_data:\n",
        "        if soup_data:\n",
        "          rating = soup_data.find(\"div\", attrs={\"class\": \"_3LWZlK _3uSWvT\"})\n",
        "          if rating:\n",
        "            rating = rating.text\n",
        "          else:\n",
        "            rating = \"No rating found\"\n",
        "          reviews = soup_data.findAll(\"div\", attrs={\"class\": \"_6K-7Co\"})\n",
        "          for x in reviews:\n",
        "            final_data.append([title, prod_url, brand, new_price, old_price, rating, x.text])\n",
        "        else:\n",
        "          rating = \"No rating reviews found\"\n",
        "        # final_data.append([title, prod_url, brand, new_price, old_price, rating, review])\n",
        "      time.sleep(1)\n",
        "    print(f\"Processed {i} pages\")\n",
        "  \n",
        "  df = pd.DataFrame(final_data, columns=[\"Title\", \"url\", \"brand\", \"new_price\", \"old_price\", \"rating\", \"review\"])\n",
        "  return df\n",
        "\n",
        "df = fetch_data_web(int(input(\"Enter no of pages: \")))\n",
        "df.head()"
      ]
    },
    {
      "cell_type": "code",
      "source": [
        "df = df[df['old_price'] != \"No\"]"
      ],
      "metadata": {
        "id": "S4KmfV2gO7Lb"
      },
      "execution_count": 23,
      "outputs": []
    },
    {
      "cell_type": "code",
      "source": [
        "# converting str to numeric\n",
        "\n",
        "df['new_price'] = df['new_price'].str.replace(',', '').str[1:]\n",
        "df['old_price'] = df['old_price'].str.replace(',', '').str[1:]"
      ],
      "metadata": {
        "id": "f8SnVJzOQ_Ou"
      },
      "execution_count": 26,
      "outputs": []
    },
    {
      "cell_type": "code",
      "source": [
        "df['new_price'] = df['new_price'].astype(int)\n",
        "df['old_price'] = df['old_price'].astype(int)\n",
        "df['rating'] = df['rating'].astype(float)\n",
        "\n",
        "df.head()"
      ],
      "metadata": {
        "colab": {
          "base_uri": "https://localhost:8080/",
          "height": 337
        },
        "id": "OJBfDGmQQ_Rt",
        "outputId": "2d768fa9-7ef4-4b82-a39d-e9ecea8a42fd"
      },
      "execution_count": 27,
      "outputs": [
        {
          "output_type": "execute_result",
          "data": {
            "text/plain": [
              "                                              Title  \\\n",
              "0  Day&Date Series Analog Watch  - For Boys HM-3172   \n",
              "1  Day&Date Series Analog Watch  - For Boys HM-3172   \n",
              "2  Day&Date Series Analog Watch  - For Boys HM-3172   \n",
              "3                          Analog Watch  - For Boys   \n",
              "4                          Analog Watch  - For Boys   \n",
              "\n",
              "                                                 url brand  new_price  \\\n",
              "0  https://www.flipkart.com/hmte-day-date-series-...  hmte        291   \n",
              "1  https://www.flipkart.com/hmte-day-date-series-...  hmte        291   \n",
              "2  https://www.flipkart.com/hmte-day-date-series-...  hmte        291   \n",
              "3  https://www.flipkart.com/hmte-analog-watch-boy...  hmte        299   \n",
              "4  https://www.flipkart.com/hmte-analog-watch-boy...  hmte        299   \n",
              "\n",
              "   old_price  rating                                             review  \n",
              "0        999     3.9  Very nice watch ⌚ delivered by Flipkart. Looks...  \n",
              "1        999     3.9                                              Super  \n",
              "2        999     3.9          It's ossamm product, it's Value for money  \n",
              "3        999     3.9  Very nice watch ⌚ delivered by Flipkart. Looks...  \n",
              "4        999     3.9                                              Super  "
            ],
            "text/html": [
              "\n",
              "  <div id=\"df-617e793a-8783-4e6f-b045-3b7b9eb3219a\">\n",
              "    <div class=\"colab-df-container\">\n",
              "      <div>\n",
              "<style scoped>\n",
              "    .dataframe tbody tr th:only-of-type {\n",
              "        vertical-align: middle;\n",
              "    }\n",
              "\n",
              "    .dataframe tbody tr th {\n",
              "        vertical-align: top;\n",
              "    }\n",
              "\n",
              "    .dataframe thead th {\n",
              "        text-align: right;\n",
              "    }\n",
              "</style>\n",
              "<table border=\"1\" class=\"dataframe\">\n",
              "  <thead>\n",
              "    <tr style=\"text-align: right;\">\n",
              "      <th></th>\n",
              "      <th>Title</th>\n",
              "      <th>url</th>\n",
              "      <th>brand</th>\n",
              "      <th>new_price</th>\n",
              "      <th>old_price</th>\n",
              "      <th>rating</th>\n",
              "      <th>review</th>\n",
              "    </tr>\n",
              "  </thead>\n",
              "  <tbody>\n",
              "    <tr>\n",
              "      <th>0</th>\n",
              "      <td>Day&amp;Date Series Analog Watch  - For Boys HM-3172</td>\n",
              "      <td>https://www.flipkart.com/hmte-day-date-series-...</td>\n",
              "      <td>hmte</td>\n",
              "      <td>291</td>\n",
              "      <td>999</td>\n",
              "      <td>3.9</td>\n",
              "      <td>Very nice watch ⌚ delivered by Flipkart. Looks...</td>\n",
              "    </tr>\n",
              "    <tr>\n",
              "      <th>1</th>\n",
              "      <td>Day&amp;Date Series Analog Watch  - For Boys HM-3172</td>\n",
              "      <td>https://www.flipkart.com/hmte-day-date-series-...</td>\n",
              "      <td>hmte</td>\n",
              "      <td>291</td>\n",
              "      <td>999</td>\n",
              "      <td>3.9</td>\n",
              "      <td>Super</td>\n",
              "    </tr>\n",
              "    <tr>\n",
              "      <th>2</th>\n",
              "      <td>Day&amp;Date Series Analog Watch  - For Boys HM-3172</td>\n",
              "      <td>https://www.flipkart.com/hmte-day-date-series-...</td>\n",
              "      <td>hmte</td>\n",
              "      <td>291</td>\n",
              "      <td>999</td>\n",
              "      <td>3.9</td>\n",
              "      <td>It's ossamm product, it's Value for money</td>\n",
              "    </tr>\n",
              "    <tr>\n",
              "      <th>3</th>\n",
              "      <td>Analog Watch  - For Boys</td>\n",
              "      <td>https://www.flipkart.com/hmte-analog-watch-boy...</td>\n",
              "      <td>hmte</td>\n",
              "      <td>299</td>\n",
              "      <td>999</td>\n",
              "      <td>3.9</td>\n",
              "      <td>Very nice watch ⌚ delivered by Flipkart. Looks...</td>\n",
              "    </tr>\n",
              "    <tr>\n",
              "      <th>4</th>\n",
              "      <td>Analog Watch  - For Boys</td>\n",
              "      <td>https://www.flipkart.com/hmte-analog-watch-boy...</td>\n",
              "      <td>hmte</td>\n",
              "      <td>299</td>\n",
              "      <td>999</td>\n",
              "      <td>3.9</td>\n",
              "      <td>Super</td>\n",
              "    </tr>\n",
              "  </tbody>\n",
              "</table>\n",
              "</div>\n",
              "      <button class=\"colab-df-convert\" onclick=\"convertToInteractive('df-617e793a-8783-4e6f-b045-3b7b9eb3219a')\"\n",
              "              title=\"Convert this dataframe to an interactive table.\"\n",
              "              style=\"display:none;\">\n",
              "        \n",
              "  <svg xmlns=\"http://www.w3.org/2000/svg\" height=\"24px\"viewBox=\"0 0 24 24\"\n",
              "       width=\"24px\">\n",
              "    <path d=\"M0 0h24v24H0V0z\" fill=\"none\"/>\n",
              "    <path d=\"M18.56 5.44l.94 2.06.94-2.06 2.06-.94-2.06-.94-.94-2.06-.94 2.06-2.06.94zm-11 1L8.5 8.5l.94-2.06 2.06-.94-2.06-.94L8.5 2.5l-.94 2.06-2.06.94zm10 10l.94 2.06.94-2.06 2.06-.94-2.06-.94-.94-2.06-.94 2.06-2.06.94z\"/><path d=\"M17.41 7.96l-1.37-1.37c-.4-.4-.92-.59-1.43-.59-.52 0-1.04.2-1.43.59L10.3 9.45l-7.72 7.72c-.78.78-.78 2.05 0 2.83L4 21.41c.39.39.9.59 1.41.59.51 0 1.02-.2 1.41-.59l7.78-7.78 2.81-2.81c.8-.78.8-2.07 0-2.86zM5.41 20L4 18.59l7.72-7.72 1.47 1.35L5.41 20z\"/>\n",
              "  </svg>\n",
              "      </button>\n",
              "      \n",
              "  <style>\n",
              "    .colab-df-container {\n",
              "      display:flex;\n",
              "      flex-wrap:wrap;\n",
              "      gap: 12px;\n",
              "    }\n",
              "\n",
              "    .colab-df-convert {\n",
              "      background-color: #E8F0FE;\n",
              "      border: none;\n",
              "      border-radius: 50%;\n",
              "      cursor: pointer;\n",
              "      display: none;\n",
              "      fill: #1967D2;\n",
              "      height: 32px;\n",
              "      padding: 0 0 0 0;\n",
              "      width: 32px;\n",
              "    }\n",
              "\n",
              "    .colab-df-convert:hover {\n",
              "      background-color: #E2EBFA;\n",
              "      box-shadow: 0px 1px 2px rgba(60, 64, 67, 0.3), 0px 1px 3px 1px rgba(60, 64, 67, 0.15);\n",
              "      fill: #174EA6;\n",
              "    }\n",
              "\n",
              "    [theme=dark] .colab-df-convert {\n",
              "      background-color: #3B4455;\n",
              "      fill: #D2E3FC;\n",
              "    }\n",
              "\n",
              "    [theme=dark] .colab-df-convert:hover {\n",
              "      background-color: #434B5C;\n",
              "      box-shadow: 0px 1px 3px 1px rgba(0, 0, 0, 0.15);\n",
              "      filter: drop-shadow(0px 1px 2px rgba(0, 0, 0, 0.3));\n",
              "      fill: #FFFFFF;\n",
              "    }\n",
              "  </style>\n",
              "\n",
              "      <script>\n",
              "        const buttonEl =\n",
              "          document.querySelector('#df-617e793a-8783-4e6f-b045-3b7b9eb3219a button.colab-df-convert');\n",
              "        buttonEl.style.display =\n",
              "          google.colab.kernel.accessAllowed ? 'block' : 'none';\n",
              "\n",
              "        async function convertToInteractive(key) {\n",
              "          const element = document.querySelector('#df-617e793a-8783-4e6f-b045-3b7b9eb3219a');\n",
              "          const dataTable =\n",
              "            await google.colab.kernel.invokeFunction('convertToInteractive',\n",
              "                                                     [key], {});\n",
              "          if (!dataTable) return;\n",
              "\n",
              "          const docLinkHtml = 'Like what you see? Visit the ' +\n",
              "            '<a target=\"_blank\" href=https://colab.research.google.com/notebooks/data_table.ipynb>data table notebook</a>'\n",
              "            + ' to learn more about interactive tables.';\n",
              "          element.innerHTML = '';\n",
              "          dataTable['output_type'] = 'display_data';\n",
              "          await google.colab.output.renderOutput(dataTable, element);\n",
              "          const docLink = document.createElement('div');\n",
              "          docLink.innerHTML = docLinkHtml;\n",
              "          element.appendChild(docLink);\n",
              "        }\n",
              "      </script>\n",
              "    </div>\n",
              "  </div>\n",
              "  "
            ]
          },
          "metadata": {},
          "execution_count": 27
        }
      ]
    },
    {
      "cell_type": "code",
      "source": [
        "df = df[['Title', 'url', 'review']]\n",
        "df.head()"
      ],
      "metadata": {
        "colab": {
          "base_uri": "https://localhost:8080/",
          "height": 206
        },
        "id": "3R9kwr2msnab",
        "outputId": "777b15b7-d115-40e1-9424-4e5415f14e3e"
      },
      "execution_count": 49,
      "outputs": [
        {
          "output_type": "execute_result",
          "data": {
            "text/plain": [
              "                                              Title  \\\n",
              "0  Day&Date Series Analog Watch  - For Boys HM-3172   \n",
              "1  Day&Date Series Analog Watch  - For Boys HM-3172   \n",
              "2  Day&Date Series Analog Watch  - For Boys HM-3172   \n",
              "3                          Analog Watch  - For Boys   \n",
              "4                          Analog Watch  - For Boys   \n",
              "\n",
              "                                                 url  \\\n",
              "0  https://www.flipkart.com/hmte-day-date-series-...   \n",
              "1  https://www.flipkart.com/hmte-day-date-series-...   \n",
              "2  https://www.flipkart.com/hmte-day-date-series-...   \n",
              "3  https://www.flipkart.com/hmte-analog-watch-boy...   \n",
              "4  https://www.flipkart.com/hmte-analog-watch-boy...   \n",
              "\n",
              "                                              review  \n",
              "0  Very nice watch ⌚ delivered by Flipkart. Looks...  \n",
              "1                                              Super  \n",
              "2          It's ossamm product, it's Value for money  \n",
              "3  Very nice watch ⌚ delivered by Flipkart. Looks...  \n",
              "4                                              Super  "
            ],
            "text/html": [
              "\n",
              "  <div id=\"df-94e84a65-cf4e-42d2-9f24-8bfd8031b1e6\">\n",
              "    <div class=\"colab-df-container\">\n",
              "      <div>\n",
              "<style scoped>\n",
              "    .dataframe tbody tr th:only-of-type {\n",
              "        vertical-align: middle;\n",
              "    }\n",
              "\n",
              "    .dataframe tbody tr th {\n",
              "        vertical-align: top;\n",
              "    }\n",
              "\n",
              "    .dataframe thead th {\n",
              "        text-align: right;\n",
              "    }\n",
              "</style>\n",
              "<table border=\"1\" class=\"dataframe\">\n",
              "  <thead>\n",
              "    <tr style=\"text-align: right;\">\n",
              "      <th></th>\n",
              "      <th>Title</th>\n",
              "      <th>url</th>\n",
              "      <th>review</th>\n",
              "    </tr>\n",
              "  </thead>\n",
              "  <tbody>\n",
              "    <tr>\n",
              "      <th>0</th>\n",
              "      <td>Day&amp;Date Series Analog Watch  - For Boys HM-3172</td>\n",
              "      <td>https://www.flipkart.com/hmte-day-date-series-...</td>\n",
              "      <td>Very nice watch ⌚ delivered by Flipkart. Looks...</td>\n",
              "    </tr>\n",
              "    <tr>\n",
              "      <th>1</th>\n",
              "      <td>Day&amp;Date Series Analog Watch  - For Boys HM-3172</td>\n",
              "      <td>https://www.flipkart.com/hmte-day-date-series-...</td>\n",
              "      <td>Super</td>\n",
              "    </tr>\n",
              "    <tr>\n",
              "      <th>2</th>\n",
              "      <td>Day&amp;Date Series Analog Watch  - For Boys HM-3172</td>\n",
              "      <td>https://www.flipkart.com/hmte-day-date-series-...</td>\n",
              "      <td>It's ossamm product, it's Value for money</td>\n",
              "    </tr>\n",
              "    <tr>\n",
              "      <th>3</th>\n",
              "      <td>Analog Watch  - For Boys</td>\n",
              "      <td>https://www.flipkart.com/hmte-analog-watch-boy...</td>\n",
              "      <td>Very nice watch ⌚ delivered by Flipkart. Looks...</td>\n",
              "    </tr>\n",
              "    <tr>\n",
              "      <th>4</th>\n",
              "      <td>Analog Watch  - For Boys</td>\n",
              "      <td>https://www.flipkart.com/hmte-analog-watch-boy...</td>\n",
              "      <td>Super</td>\n",
              "    </tr>\n",
              "  </tbody>\n",
              "</table>\n",
              "</div>\n",
              "      <button class=\"colab-df-convert\" onclick=\"convertToInteractive('df-94e84a65-cf4e-42d2-9f24-8bfd8031b1e6')\"\n",
              "              title=\"Convert this dataframe to an interactive table.\"\n",
              "              style=\"display:none;\">\n",
              "        \n",
              "  <svg xmlns=\"http://www.w3.org/2000/svg\" height=\"24px\"viewBox=\"0 0 24 24\"\n",
              "       width=\"24px\">\n",
              "    <path d=\"M0 0h24v24H0V0z\" fill=\"none\"/>\n",
              "    <path d=\"M18.56 5.44l.94 2.06.94-2.06 2.06-.94-2.06-.94-.94-2.06-.94 2.06-2.06.94zm-11 1L8.5 8.5l.94-2.06 2.06-.94-2.06-.94L8.5 2.5l-.94 2.06-2.06.94zm10 10l.94 2.06.94-2.06 2.06-.94-2.06-.94-.94-2.06-.94 2.06-2.06.94z\"/><path d=\"M17.41 7.96l-1.37-1.37c-.4-.4-.92-.59-1.43-.59-.52 0-1.04.2-1.43.59L10.3 9.45l-7.72 7.72c-.78.78-.78 2.05 0 2.83L4 21.41c.39.39.9.59 1.41.59.51 0 1.02-.2 1.41-.59l7.78-7.78 2.81-2.81c.8-.78.8-2.07 0-2.86zM5.41 20L4 18.59l7.72-7.72 1.47 1.35L5.41 20z\"/>\n",
              "  </svg>\n",
              "      </button>\n",
              "      \n",
              "  <style>\n",
              "    .colab-df-container {\n",
              "      display:flex;\n",
              "      flex-wrap:wrap;\n",
              "      gap: 12px;\n",
              "    }\n",
              "\n",
              "    .colab-df-convert {\n",
              "      background-color: #E8F0FE;\n",
              "      border: none;\n",
              "      border-radius: 50%;\n",
              "      cursor: pointer;\n",
              "      display: none;\n",
              "      fill: #1967D2;\n",
              "      height: 32px;\n",
              "      padding: 0 0 0 0;\n",
              "      width: 32px;\n",
              "    }\n",
              "\n",
              "    .colab-df-convert:hover {\n",
              "      background-color: #E2EBFA;\n",
              "      box-shadow: 0px 1px 2px rgba(60, 64, 67, 0.3), 0px 1px 3px 1px rgba(60, 64, 67, 0.15);\n",
              "      fill: #174EA6;\n",
              "    }\n",
              "\n",
              "    [theme=dark] .colab-df-convert {\n",
              "      background-color: #3B4455;\n",
              "      fill: #D2E3FC;\n",
              "    }\n",
              "\n",
              "    [theme=dark] .colab-df-convert:hover {\n",
              "      background-color: #434B5C;\n",
              "      box-shadow: 0px 1px 3px 1px rgba(0, 0, 0, 0.15);\n",
              "      filter: drop-shadow(0px 1px 2px rgba(0, 0, 0, 0.3));\n",
              "      fill: #FFFFFF;\n",
              "    }\n",
              "  </style>\n",
              "\n",
              "      <script>\n",
              "        const buttonEl =\n",
              "          document.querySelector('#df-94e84a65-cf4e-42d2-9f24-8bfd8031b1e6 button.colab-df-convert');\n",
              "        buttonEl.style.display =\n",
              "          google.colab.kernel.accessAllowed ? 'block' : 'none';\n",
              "\n",
              "        async function convertToInteractive(key) {\n",
              "          const element = document.querySelector('#df-94e84a65-cf4e-42d2-9f24-8bfd8031b1e6');\n",
              "          const dataTable =\n",
              "            await google.colab.kernel.invokeFunction('convertToInteractive',\n",
              "                                                     [key], {});\n",
              "          if (!dataTable) return;\n",
              "\n",
              "          const docLinkHtml = 'Like what you see? Visit the ' +\n",
              "            '<a target=\"_blank\" href=https://colab.research.google.com/notebooks/data_table.ipynb>data table notebook</a>'\n",
              "            + ' to learn more about interactive tables.';\n",
              "          element.innerHTML = '';\n",
              "          dataTable['output_type'] = 'display_data';\n",
              "          await google.colab.output.renderOutput(dataTable, element);\n",
              "          const docLink = document.createElement('div');\n",
              "          docLink.innerHTML = docLinkHtml;\n",
              "          element.appendChild(docLink);\n",
              "        }\n",
              "      </script>\n",
              "    </div>\n",
              "  </div>\n",
              "  "
            ]
          },
          "metadata": {},
          "execution_count": 49
        }
      ]
    },
    {
      "cell_type": "code",
      "source": [
        "df['review'].isna().sum()"
      ],
      "metadata": {
        "colab": {
          "base_uri": "https://localhost:8080/"
        },
        "id": "d1bBsiq9qqFE",
        "outputId": "b546273f-b853-4b2f-94e7-e33d64de3587"
      },
      "execution_count": 50,
      "outputs": [
        {
          "output_type": "execute_result",
          "data": {
            "text/plain": [
              "0"
            ]
          },
          "metadata": {},
          "execution_count": 50
        }
      ]
    },
    {
      "cell_type": "code",
      "source": [
        "import nltk, re, string\n",
        "from nltk.corpus import stopwords\n",
        "from nltk.stem import PorterStemmer\n",
        "from textblob import Word\n",
        "nltk.download('stopwords')\n",
        "nltk.download(\"wordnet\")\n",
        "nltk.download('omw-1.4')\n",
        "nltk.download('punkt')\n",
        "nltk.download('wordnet')\n",
        "from nltk.stem import WordNetLemmatizer"
      ],
      "metadata": {
        "colab": {
          "base_uri": "https://localhost:8080/"
        },
        "id": "gCyoUoVQQ_XU",
        "outputId": "9df66346-0a14-46ba-9ab7-289d97041a43"
      },
      "execution_count": 51,
      "outputs": [
        {
          "output_type": "stream",
          "name": "stderr",
          "text": [
            "[nltk_data] Downloading package stopwords to /root/nltk_data...\n",
            "[nltk_data]   Package stopwords is already up-to-date!\n",
            "[nltk_data] Downloading package wordnet to /root/nltk_data...\n",
            "[nltk_data]   Package wordnet is already up-to-date!\n",
            "[nltk_data] Downloading package omw-1.4 to /root/nltk_data...\n",
            "[nltk_data]   Package omw-1.4 is already up-to-date!\n",
            "[nltk_data] Downloading package punkt to /root/nltk_data...\n",
            "[nltk_data]   Package punkt is already up-to-date!\n",
            "[nltk_data] Downloading package wordnet to /root/nltk_data...\n",
            "[nltk_data]   Package wordnet is already up-to-date!\n"
          ]
        }
      ]
    },
    {
      "cell_type": "code",
      "source": [
        "df.head()"
      ],
      "metadata": {
        "colab": {
          "base_uri": "https://localhost:8080/",
          "height": 206
        },
        "id": "jZR2E-dbQ_c-",
        "outputId": "82d0ede7-2ce7-4a80-96ff-aa13a7d4264f"
      },
      "execution_count": 55,
      "outputs": [
        {
          "output_type": "execute_result",
          "data": {
            "text/plain": [
              "                                              Title  \\\n",
              "0  Day&Date Series Analog Watch  - For Boys HM-3172   \n",
              "1  Day&Date Series Analog Watch  - For Boys HM-3172   \n",
              "2  Day&Date Series Analog Watch  - For Boys HM-3172   \n",
              "3                          Analog Watch  - For Boys   \n",
              "4                          Analog Watch  - For Boys   \n",
              "\n",
              "                                                 url  \\\n",
              "0  https://www.flipkart.com/hmte-day-date-series-...   \n",
              "1  https://www.flipkart.com/hmte-day-date-series-...   \n",
              "2  https://www.flipkart.com/hmte-day-date-series-...   \n",
              "3  https://www.flipkart.com/hmte-analog-watch-boy...   \n",
              "4  https://www.flipkart.com/hmte-analog-watch-boy...   \n",
              "\n",
              "                                              review  \n",
              "0  Very nice watch ⌚ delivered by Flipkart. Looks...  \n",
              "1                                              Super  \n",
              "2          It's ossamm product, it's Value for money  \n",
              "3  Very nice watch ⌚ delivered by Flipkart. Looks...  \n",
              "4                                              Super  "
            ],
            "text/html": [
              "\n",
              "  <div id=\"df-93f8de7d-165e-4e6f-8459-fa9accc0a0e8\">\n",
              "    <div class=\"colab-df-container\">\n",
              "      <div>\n",
              "<style scoped>\n",
              "    .dataframe tbody tr th:only-of-type {\n",
              "        vertical-align: middle;\n",
              "    }\n",
              "\n",
              "    .dataframe tbody tr th {\n",
              "        vertical-align: top;\n",
              "    }\n",
              "\n",
              "    .dataframe thead th {\n",
              "        text-align: right;\n",
              "    }\n",
              "</style>\n",
              "<table border=\"1\" class=\"dataframe\">\n",
              "  <thead>\n",
              "    <tr style=\"text-align: right;\">\n",
              "      <th></th>\n",
              "      <th>Title</th>\n",
              "      <th>url</th>\n",
              "      <th>review</th>\n",
              "    </tr>\n",
              "  </thead>\n",
              "  <tbody>\n",
              "    <tr>\n",
              "      <th>0</th>\n",
              "      <td>Day&amp;Date Series Analog Watch  - For Boys HM-3172</td>\n",
              "      <td>https://www.flipkart.com/hmte-day-date-series-...</td>\n",
              "      <td>Very nice watch ⌚ delivered by Flipkart. Looks...</td>\n",
              "    </tr>\n",
              "    <tr>\n",
              "      <th>1</th>\n",
              "      <td>Day&amp;Date Series Analog Watch  - For Boys HM-3172</td>\n",
              "      <td>https://www.flipkart.com/hmte-day-date-series-...</td>\n",
              "      <td>Super</td>\n",
              "    </tr>\n",
              "    <tr>\n",
              "      <th>2</th>\n",
              "      <td>Day&amp;Date Series Analog Watch  - For Boys HM-3172</td>\n",
              "      <td>https://www.flipkart.com/hmte-day-date-series-...</td>\n",
              "      <td>It's ossamm product, it's Value for money</td>\n",
              "    </tr>\n",
              "    <tr>\n",
              "      <th>3</th>\n",
              "      <td>Analog Watch  - For Boys</td>\n",
              "      <td>https://www.flipkart.com/hmte-analog-watch-boy...</td>\n",
              "      <td>Very nice watch ⌚ delivered by Flipkart. Looks...</td>\n",
              "    </tr>\n",
              "    <tr>\n",
              "      <th>4</th>\n",
              "      <td>Analog Watch  - For Boys</td>\n",
              "      <td>https://www.flipkart.com/hmte-analog-watch-boy...</td>\n",
              "      <td>Super</td>\n",
              "    </tr>\n",
              "  </tbody>\n",
              "</table>\n",
              "</div>\n",
              "      <button class=\"colab-df-convert\" onclick=\"convertToInteractive('df-93f8de7d-165e-4e6f-8459-fa9accc0a0e8')\"\n",
              "              title=\"Convert this dataframe to an interactive table.\"\n",
              "              style=\"display:none;\">\n",
              "        \n",
              "  <svg xmlns=\"http://www.w3.org/2000/svg\" height=\"24px\"viewBox=\"0 0 24 24\"\n",
              "       width=\"24px\">\n",
              "    <path d=\"M0 0h24v24H0V0z\" fill=\"none\"/>\n",
              "    <path d=\"M18.56 5.44l.94 2.06.94-2.06 2.06-.94-2.06-.94-.94-2.06-.94 2.06-2.06.94zm-11 1L8.5 8.5l.94-2.06 2.06-.94-2.06-.94L8.5 2.5l-.94 2.06-2.06.94zm10 10l.94 2.06.94-2.06 2.06-.94-2.06-.94-.94-2.06-.94 2.06-2.06.94z\"/><path d=\"M17.41 7.96l-1.37-1.37c-.4-.4-.92-.59-1.43-.59-.52 0-1.04.2-1.43.59L10.3 9.45l-7.72 7.72c-.78.78-.78 2.05 0 2.83L4 21.41c.39.39.9.59 1.41.59.51 0 1.02-.2 1.41-.59l7.78-7.78 2.81-2.81c.8-.78.8-2.07 0-2.86zM5.41 20L4 18.59l7.72-7.72 1.47 1.35L5.41 20z\"/>\n",
              "  </svg>\n",
              "      </button>\n",
              "      \n",
              "  <style>\n",
              "    .colab-df-container {\n",
              "      display:flex;\n",
              "      flex-wrap:wrap;\n",
              "      gap: 12px;\n",
              "    }\n",
              "\n",
              "    .colab-df-convert {\n",
              "      background-color: #E8F0FE;\n",
              "      border: none;\n",
              "      border-radius: 50%;\n",
              "      cursor: pointer;\n",
              "      display: none;\n",
              "      fill: #1967D2;\n",
              "      height: 32px;\n",
              "      padding: 0 0 0 0;\n",
              "      width: 32px;\n",
              "    }\n",
              "\n",
              "    .colab-df-convert:hover {\n",
              "      background-color: #E2EBFA;\n",
              "      box-shadow: 0px 1px 2px rgba(60, 64, 67, 0.3), 0px 1px 3px 1px rgba(60, 64, 67, 0.15);\n",
              "      fill: #174EA6;\n",
              "    }\n",
              "\n",
              "    [theme=dark] .colab-df-convert {\n",
              "      background-color: #3B4455;\n",
              "      fill: #D2E3FC;\n",
              "    }\n",
              "\n",
              "    [theme=dark] .colab-df-convert:hover {\n",
              "      background-color: #434B5C;\n",
              "      box-shadow: 0px 1px 3px 1px rgba(0, 0, 0, 0.15);\n",
              "      filter: drop-shadow(0px 1px 2px rgba(0, 0, 0, 0.3));\n",
              "      fill: #FFFFFF;\n",
              "    }\n",
              "  </style>\n",
              "\n",
              "      <script>\n",
              "        const buttonEl =\n",
              "          document.querySelector('#df-93f8de7d-165e-4e6f-8459-fa9accc0a0e8 button.colab-df-convert');\n",
              "        buttonEl.style.display =\n",
              "          google.colab.kernel.accessAllowed ? 'block' : 'none';\n",
              "\n",
              "        async function convertToInteractive(key) {\n",
              "          const element = document.querySelector('#df-93f8de7d-165e-4e6f-8459-fa9accc0a0e8');\n",
              "          const dataTable =\n",
              "            await google.colab.kernel.invokeFunction('convertToInteractive',\n",
              "                                                     [key], {});\n",
              "          if (!dataTable) return;\n",
              "\n",
              "          const docLinkHtml = 'Like what you see? Visit the ' +\n",
              "            '<a target=\"_blank\" href=https://colab.research.google.com/notebooks/data_table.ipynb>data table notebook</a>'\n",
              "            + ' to learn more about interactive tables.';\n",
              "          element.innerHTML = '';\n",
              "          dataTable['output_type'] = 'display_data';\n",
              "          await google.colab.output.renderOutput(dataTable, element);\n",
              "          const docLink = document.createElement('div');\n",
              "          docLink.innerHTML = docLinkHtml;\n",
              "          element.appendChild(docLink);\n",
              "        }\n",
              "      </script>\n",
              "    </div>\n",
              "  </div>\n",
              "  "
            ]
          },
          "metadata": {},
          "execution_count": 55
        }
      ]
    },
    {
      "cell_type": "code",
      "source": [
        "import re\n",
        "\n",
        "df['clean_Data'] = df['review'].map(lambda x: re.sub('[,\\.!?]', '', x))\n",
        "df['clean_Data'] = df['clean_Data'].map(lambda x: x.lower())\n",
        "df.head()"
      ],
      "metadata": {
        "colab": {
          "base_uri": "https://localhost:8080/",
          "height": 337
        },
        "id": "7J4Zldp8tyyF",
        "outputId": "b1d0e7ab-68cf-4f28-e311-dfaba874a59a"
      },
      "execution_count": 58,
      "outputs": [
        {
          "output_type": "execute_result",
          "data": {
            "text/plain": [
              "                                              Title  \\\n",
              "0  Day&Date Series Analog Watch  - For Boys HM-3172   \n",
              "1  Day&Date Series Analog Watch  - For Boys HM-3172   \n",
              "2  Day&Date Series Analog Watch  - For Boys HM-3172   \n",
              "3                          Analog Watch  - For Boys   \n",
              "4                          Analog Watch  - For Boys   \n",
              "\n",
              "                                                 url  \\\n",
              "0  https://www.flipkart.com/hmte-day-date-series-...   \n",
              "1  https://www.flipkart.com/hmte-day-date-series-...   \n",
              "2  https://www.flipkart.com/hmte-day-date-series-...   \n",
              "3  https://www.flipkart.com/hmte-analog-watch-boy...   \n",
              "4  https://www.flipkart.com/hmte-analog-watch-boy...   \n",
              "\n",
              "                                              review  \\\n",
              "0  Very nice watch ⌚ delivered by Flipkart. Looks...   \n",
              "1                                              Super   \n",
              "2          It's ossamm product, it's Value for money   \n",
              "3  Very nice watch ⌚ delivered by Flipkart. Looks...   \n",
              "4                                              Super   \n",
              "\n",
              "                                          clean_Data  \n",
              "0  very nice watch ⌚ delivered by flipkart looks ...  \n",
              "1                                              super  \n",
              "2           it's ossamm product it's value for money  \n",
              "3  very nice watch ⌚ delivered by flipkart looks ...  \n",
              "4                                              super  "
            ],
            "text/html": [
              "\n",
              "  <div id=\"df-b19ea302-594e-4088-89cb-e84f2c1e1f58\">\n",
              "    <div class=\"colab-df-container\">\n",
              "      <div>\n",
              "<style scoped>\n",
              "    .dataframe tbody tr th:only-of-type {\n",
              "        vertical-align: middle;\n",
              "    }\n",
              "\n",
              "    .dataframe tbody tr th {\n",
              "        vertical-align: top;\n",
              "    }\n",
              "\n",
              "    .dataframe thead th {\n",
              "        text-align: right;\n",
              "    }\n",
              "</style>\n",
              "<table border=\"1\" class=\"dataframe\">\n",
              "  <thead>\n",
              "    <tr style=\"text-align: right;\">\n",
              "      <th></th>\n",
              "      <th>Title</th>\n",
              "      <th>url</th>\n",
              "      <th>review</th>\n",
              "      <th>clean_Data</th>\n",
              "    </tr>\n",
              "  </thead>\n",
              "  <tbody>\n",
              "    <tr>\n",
              "      <th>0</th>\n",
              "      <td>Day&amp;Date Series Analog Watch  - For Boys HM-3172</td>\n",
              "      <td>https://www.flipkart.com/hmte-day-date-series-...</td>\n",
              "      <td>Very nice watch ⌚ delivered by Flipkart. Looks...</td>\n",
              "      <td>very nice watch ⌚ delivered by flipkart looks ...</td>\n",
              "    </tr>\n",
              "    <tr>\n",
              "      <th>1</th>\n",
              "      <td>Day&amp;Date Series Analog Watch  - For Boys HM-3172</td>\n",
              "      <td>https://www.flipkart.com/hmte-day-date-series-...</td>\n",
              "      <td>Super</td>\n",
              "      <td>super</td>\n",
              "    </tr>\n",
              "    <tr>\n",
              "      <th>2</th>\n",
              "      <td>Day&amp;Date Series Analog Watch  - For Boys HM-3172</td>\n",
              "      <td>https://www.flipkart.com/hmte-day-date-series-...</td>\n",
              "      <td>It's ossamm product, it's Value for money</td>\n",
              "      <td>it's ossamm product it's value for money</td>\n",
              "    </tr>\n",
              "    <tr>\n",
              "      <th>3</th>\n",
              "      <td>Analog Watch  - For Boys</td>\n",
              "      <td>https://www.flipkart.com/hmte-analog-watch-boy...</td>\n",
              "      <td>Very nice watch ⌚ delivered by Flipkart. Looks...</td>\n",
              "      <td>very nice watch ⌚ delivered by flipkart looks ...</td>\n",
              "    </tr>\n",
              "    <tr>\n",
              "      <th>4</th>\n",
              "      <td>Analog Watch  - For Boys</td>\n",
              "      <td>https://www.flipkart.com/hmte-analog-watch-boy...</td>\n",
              "      <td>Super</td>\n",
              "      <td>super</td>\n",
              "    </tr>\n",
              "  </tbody>\n",
              "</table>\n",
              "</div>\n",
              "      <button class=\"colab-df-convert\" onclick=\"convertToInteractive('df-b19ea302-594e-4088-89cb-e84f2c1e1f58')\"\n",
              "              title=\"Convert this dataframe to an interactive table.\"\n",
              "              style=\"display:none;\">\n",
              "        \n",
              "  <svg xmlns=\"http://www.w3.org/2000/svg\" height=\"24px\"viewBox=\"0 0 24 24\"\n",
              "       width=\"24px\">\n",
              "    <path d=\"M0 0h24v24H0V0z\" fill=\"none\"/>\n",
              "    <path d=\"M18.56 5.44l.94 2.06.94-2.06 2.06-.94-2.06-.94-.94-2.06-.94 2.06-2.06.94zm-11 1L8.5 8.5l.94-2.06 2.06-.94-2.06-.94L8.5 2.5l-.94 2.06-2.06.94zm10 10l.94 2.06.94-2.06 2.06-.94-2.06-.94-.94-2.06-.94 2.06-2.06.94z\"/><path d=\"M17.41 7.96l-1.37-1.37c-.4-.4-.92-.59-1.43-.59-.52 0-1.04.2-1.43.59L10.3 9.45l-7.72 7.72c-.78.78-.78 2.05 0 2.83L4 21.41c.39.39.9.59 1.41.59.51 0 1.02-.2 1.41-.59l7.78-7.78 2.81-2.81c.8-.78.8-2.07 0-2.86zM5.41 20L4 18.59l7.72-7.72 1.47 1.35L5.41 20z\"/>\n",
              "  </svg>\n",
              "      </button>\n",
              "      \n",
              "  <style>\n",
              "    .colab-df-container {\n",
              "      display:flex;\n",
              "      flex-wrap:wrap;\n",
              "      gap: 12px;\n",
              "    }\n",
              "\n",
              "    .colab-df-convert {\n",
              "      background-color: #E8F0FE;\n",
              "      border: none;\n",
              "      border-radius: 50%;\n",
              "      cursor: pointer;\n",
              "      display: none;\n",
              "      fill: #1967D2;\n",
              "      height: 32px;\n",
              "      padding: 0 0 0 0;\n",
              "      width: 32px;\n",
              "    }\n",
              "\n",
              "    .colab-df-convert:hover {\n",
              "      background-color: #E2EBFA;\n",
              "      box-shadow: 0px 1px 2px rgba(60, 64, 67, 0.3), 0px 1px 3px 1px rgba(60, 64, 67, 0.15);\n",
              "      fill: #174EA6;\n",
              "    }\n",
              "\n",
              "    [theme=dark] .colab-df-convert {\n",
              "      background-color: #3B4455;\n",
              "      fill: #D2E3FC;\n",
              "    }\n",
              "\n",
              "    [theme=dark] .colab-df-convert:hover {\n",
              "      background-color: #434B5C;\n",
              "      box-shadow: 0px 1px 3px 1px rgba(0, 0, 0, 0.15);\n",
              "      filter: drop-shadow(0px 1px 2px rgba(0, 0, 0, 0.3));\n",
              "      fill: #FFFFFF;\n",
              "    }\n",
              "  </style>\n",
              "\n",
              "      <script>\n",
              "        const buttonEl =\n",
              "          document.querySelector('#df-b19ea302-594e-4088-89cb-e84f2c1e1f58 button.colab-df-convert');\n",
              "        buttonEl.style.display =\n",
              "          google.colab.kernel.accessAllowed ? 'block' : 'none';\n",
              "\n",
              "        async function convertToInteractive(key) {\n",
              "          const element = document.querySelector('#df-b19ea302-594e-4088-89cb-e84f2c1e1f58');\n",
              "          const dataTable =\n",
              "            await google.colab.kernel.invokeFunction('convertToInteractive',\n",
              "                                                     [key], {});\n",
              "          if (!dataTable) return;\n",
              "\n",
              "          const docLinkHtml = 'Like what you see? Visit the ' +\n",
              "            '<a target=\"_blank\" href=https://colab.research.google.com/notebooks/data_table.ipynb>data table notebook</a>'\n",
              "            + ' to learn more about interactive tables.';\n",
              "          element.innerHTML = '';\n",
              "          dataTable['output_type'] = 'display_data';\n",
              "          await google.colab.output.renderOutput(dataTable, element);\n",
              "          const docLink = document.createElement('div');\n",
              "          docLink.innerHTML = docLinkHtml;\n",
              "          element.appendChild(docLink);\n",
              "        }\n",
              "      </script>\n",
              "    </div>\n",
              "  </div>\n",
              "  "
            ]
          },
          "metadata": {},
          "execution_count": 58
        }
      ]
    },
    {
      "cell_type": "code",
      "source": [
        "pip install pyLDAvis"
      ],
      "metadata": {
        "colab": {
          "base_uri": "https://localhost:8080/"
        },
        "id": "lbhNOp4_xM0Y",
        "outputId": "fad78c72-cdeb-4e5d-e5d8-cc07e69fbaa9"
      },
      "execution_count": 65,
      "outputs": [
        {
          "output_type": "stream",
          "name": "stdout",
          "text": [
            "Looking in indexes: https://pypi.org/simple, https://us-python.pkg.dev/colab-wheels/public/simple/\n",
            "Requirement already satisfied: pyLDAvis in /usr/local/lib/python3.9/dist-packages (3.4.0)\n",
            "Requirement already satisfied: joblib>=1.2.0 in /usr/local/lib/python3.9/dist-packages (from pyLDAvis) (1.2.0)\n",
            "Requirement already satisfied: jinja2 in /usr/local/lib/python3.9/dist-packages (from pyLDAvis) (3.1.2)\n",
            "Requirement already satisfied: setuptools in /usr/local/lib/python3.9/dist-packages (from pyLDAvis) (67.6.1)\n",
            "Requirement already satisfied: pandas>=1.3.4 in /usr/local/lib/python3.9/dist-packages (from pyLDAvis) (1.4.4)\n",
            "Requirement already satisfied: numexpr in /usr/local/lib/python3.9/dist-packages (from pyLDAvis) (2.8.4)\n",
            "Requirement already satisfied: funcy in /usr/local/lib/python3.9/dist-packages (from pyLDAvis) (2.0)\n",
            "Requirement already satisfied: scikit-learn>=1.0.0 in /usr/local/lib/python3.9/dist-packages (from pyLDAvis) (1.2.2)\n",
            "Requirement already satisfied: scipy in /usr/local/lib/python3.9/dist-packages (from pyLDAvis) (1.10.1)\n",
            "Requirement already satisfied: gensim in /usr/local/lib/python3.9/dist-packages (from pyLDAvis) (4.3.1)\n",
            "Requirement already satisfied: numpy>=1.22.0 in /usr/local/lib/python3.9/dist-packages (from pyLDAvis) (1.22.4)\n",
            "Requirement already satisfied: python-dateutil>=2.8.1 in /usr/local/lib/python3.9/dist-packages (from pandas>=1.3.4->pyLDAvis) (2.8.2)\n",
            "Requirement already satisfied: pytz>=2020.1 in /usr/local/lib/python3.9/dist-packages (from pandas>=1.3.4->pyLDAvis) (2022.7.1)\n",
            "Requirement already satisfied: threadpoolctl>=2.0.0 in /usr/local/lib/python3.9/dist-packages (from scikit-learn>=1.0.0->pyLDAvis) (3.1.0)\n",
            "Requirement already satisfied: smart-open>=1.8.1 in /usr/local/lib/python3.9/dist-packages (from gensim->pyLDAvis) (6.3.0)\n",
            "Requirement already satisfied: MarkupSafe>=2.0 in /usr/local/lib/python3.9/dist-packages (from jinja2->pyLDAvis) (2.1.2)\n",
            "Requirement already satisfied: six>=1.5 in /usr/local/lib/python3.9/dist-packages (from python-dateutil>=2.8.1->pandas>=1.3.4->pyLDAvis) (1.16.0)\n"
          ]
        }
      ]
    },
    {
      "cell_type": "code",
      "source": [
        "# Enable logging for gensim - optional\n",
        "import logging\n",
        "logging.basicConfig(format='%(asctime)s : %(levelname)s : %(message)s', level=logging.ERROR)\n",
        "\n",
        "import warnings\n",
        "warnings.filterwarnings(\"ignore\",category=DeprecationWarning)"
      ],
      "metadata": {
        "id": "Qp5fLHJ-w4B-"
      },
      "execution_count": 89,
      "outputs": []
    },
    {
      "cell_type": "code",
      "source": [
        "# Gensim\n",
        "import gensim\n",
        "import gensim.corpora as corpora\n",
        "from gensim.utils import simple_preprocess\n",
        "from gensim.models import CoherenceModel\n",
        "\n",
        "import nltk\n",
        "nltk.download('stopwords')\n",
        "from nltk.corpus import stopwords\n",
        "stop_words = stopwords.words('english')\n",
        "stop_words.extend(['from', 'subject', 're', 'edu', 'use'])\n",
        "\n",
        "def sent_to_words(sentences):\n",
        "    for sentence in sentences:\n",
        "        # deacc=True removes punctuations\n",
        "        yield(gensim.utils.simple_preprocess(str(sentence), deacc=True))\n",
        "\n",
        "def remove_stopwords(texts):\n",
        "    return [[word for word in simple_preprocess(str(doc)) \n",
        "             if word not in stop_words] for doc in texts]\n",
        "\n",
        "review_data = df['review'].values.tolist()\n",
        "review_data_words = list(sent_to_words(review_data))\n",
        "# remove stop words\n",
        "review_data_words = remove_stopwords(review_data_words)\n",
        "print(review_data_words[:1])"
      ],
      "metadata": {
        "colab": {
          "base_uri": "https://localhost:8080/"
        },
        "id": "4enSAe7fQ_fu",
        "outputId": "de91d74b-df92-4cad-a2e1-878a8236f27c"
      },
      "execution_count": 90,
      "outputs": [
        {
          "output_type": "stream",
          "name": "stdout",
          "text": [
            "[['nice', 'watch', 'delivered', 'flipkart', 'looks', 'nice', 'like', 'premium', 'watch', 'hand', 'feel', 'nice', 'fitting', 'good', 'really', 'happy', 'watch', 'thanks', 'flipkart', 'better', 'services', 'fast', 'delivery']]\n"
          ]
        },
        {
          "output_type": "stream",
          "name": "stderr",
          "text": [
            "[nltk_data] Downloading package stopwords to /root/nltk_data...\n",
            "[nltk_data]   Package stopwords is already up-to-date!\n"
          ]
        }
      ]
    },
    {
      "cell_type": "code",
      "source": [
        "bigram = gensim.models.Phrases(review_data_words, min_count=5, threshold=100)\n",
        "trigram = gensim.models.Phrases(bigram[review_data_words], threshold=100)  \n",
        "bigram_mod = gensim.models.phrases.Phraser(bigram)\n",
        "trigram_mod = gensim.models.phrases.Phraser(trigram)\n",
        "\n",
        "import spacy\n",
        "nlp = spacy.load('en_core_web_sm', disable=['parser', 'ner'])\n",
        "\n",
        "def make_bigrams(texts):\n",
        "    return [bigram_mod[doc] for doc in texts]\n",
        "\n",
        "def make_trigrams(texts):\n",
        "    return [trigram_mod[bigram_mod[doc]] for doc in texts]\n",
        "\n",
        "def lemmatization(texts, allowed_postags=['NOUN', 'ADJ', 'VERB', 'ADV']):\n",
        "    \"\"\"https://spacy.io/api/annotation\"\"\"\n",
        "    texts_out = []\n",
        "    for sent in texts:\n",
        "        doc = nlp(\" \".join(sent)) \n",
        "        texts_out.append([token.lemma_ for token in doc if token.pos_ in allowed_postags])\n",
        "    return texts_out\n",
        "\n",
        "review_data_words_bigrams = make_bigrams(review_data_words)\n",
        "\n",
        "# Do lemmatization keeping only noun, adj, vb, adv\n",
        "review_data_lemmatized = lemmatization(review_data_words_bigrams, allowed_postags=['NOUN', 'ADJ', 'VERB', 'ADV'])\n",
        "\n",
        "print(review_data_lemmatized[:1])"
      ],
      "metadata": {
        "colab": {
          "base_uri": "https://localhost:8080/"
        },
        "id": "9qyd_zWqrsVA",
        "outputId": "7acf0aea-f97f-4a14-a11c-aa86a6d3a655"
      },
      "execution_count": 91,
      "outputs": [
        {
          "output_type": "stream",
          "name": "stdout",
          "text": [
            "[['nice', 'watch', 'deliver', 'flipkart', 'look', 'nice', 'premium', 'watch', 'hand', 'feel', 'nice', 'fitting', 'good', 'really', 'happy', 'watch', 'thank', 'flipkart', 'well', 'service', 'fast', 'delivery']]\n"
          ]
        }
      ]
    },
    {
      "cell_type": "code",
      "source": [
        "review_id2word = corpora.Dictionary(review_data_lemmatized)\n",
        "review_texts = review_data_lemmatized\n",
        "review_corpus = [review_id2word.doc2bow(text) for text in review_texts]\n",
        "print(review_corpus[:1])\n",
        "[[(review_id2word[i], f) for i, f in c] for c in review_corpus[:1]]"
      ],
      "metadata": {
        "colab": {
          "base_uri": "https://localhost:8080/"
        },
        "id": "sw1L7N_arsXh",
        "outputId": "2a686e03-8c9c-4621-9a46-9d9e18e650c9"
      },
      "execution_count": 92,
      "outputs": [
        {
          "output_type": "stream",
          "name": "stdout",
          "text": [
            "[[(0, 1), (1, 1), (2, 1), (3, 1), (4, 1), (5, 2), (6, 1), (7, 1), (8, 1), (9, 1), (10, 3), (11, 1), (12, 1), (13, 1), (14, 1), (15, 3), (16, 1)]]\n"
          ]
        },
        {
          "output_type": "execute_result",
          "data": {
            "text/plain": [
              "[[('deliver', 1),\n",
              "  ('delivery', 1),\n",
              "  ('fast', 1),\n",
              "  ('feel', 1),\n",
              "  ('fitting', 1),\n",
              "  ('flipkart', 2),\n",
              "  ('good', 1),\n",
              "  ('hand', 1),\n",
              "  ('happy', 1),\n",
              "  ('look', 1),\n",
              "  ('nice', 3),\n",
              "  ('premium', 1),\n",
              "  ('really', 1),\n",
              "  ('service', 1),\n",
              "  ('thank', 1),\n",
              "  ('watch', 3),\n",
              "  ('well', 1)]]"
            ]
          },
          "metadata": {},
          "execution_count": 92
        }
      ]
    },
    {
      "cell_type": "code",
      "source": [
        "review_id2word[0]"
      ],
      "metadata": {
        "colab": {
          "base_uri": "https://localhost:8080/",
          "height": 35
        },
        "id": "NZG1Ym4vrsaC",
        "outputId": "0dd19c3d-bec6-4932-959a-ca6138b110b8"
      },
      "execution_count": 93,
      "outputs": [
        {
          "output_type": "execute_result",
          "data": {
            "text/plain": [
              "'deliver'"
            ],
            "application/vnd.google.colaboratory.intrinsic+json": {
              "type": "string"
            }
          },
          "metadata": {},
          "execution_count": 93
        }
      ]
    },
    {
      "cell_type": "code",
      "source": [
        "# Sample model for lda generating total of 20 topics\n",
        "from pprint import pprint\n",
        "lda_model = gensim.models.ldamodel.LdaModel(corpus=review_corpus,\n",
        "                                           id2word=review_id2word,\n",
        "                                           num_topics=20, \n",
        "                                           random_state=100,\n",
        "                                           update_every=1,\n",
        "                                           chunksize=100,\n",
        "                                           passes=10,\n",
        "                                           alpha='auto',\n",
        "                                           per_word_topics=True)\n",
        "pprint(lda_model.print_topics())\n",
        "doc_lda = lda_model[review_corpus]"
      ],
      "metadata": {
        "colab": {
          "base_uri": "https://localhost:8080/"
        },
        "id": "6LASLctNrsdq",
        "outputId": "a4fafdc4-d81f-4da4-f9fc-24de859e1f98"
      },
      "execution_count": 94,
      "outputs": [
        {
          "output_type": "stream",
          "name": "stdout",
          "text": [
            "[(0,\n",
            "  '0.061*\"packing\" + 0.002*\"pretty\" + 0.002*\"money\" + 0.002*\"value\" + '\n",
            "  '0.002*\"watch\" + 0.002*\"also\" + 0.002*\"good\" + 0.002*\"go\" + 0.002*\"thank\" + '\n",
            "  '0.002*\"nice\"'),\n",
            " (1,\n",
            "  '0.311*\"good\" + 0.137*\"quality\" + 0.096*\"love\" + 0.066*\"price\" + '\n",
            "  '0.052*\"also\" + 0.048*\"product\" + 0.045*\"really\" + 0.044*\"look\" + '\n",
            "  '0.043*\"design\" + 0.031*\"well\"'),\n",
            " (2,\n",
            "  '0.235*\"much\" + 0.223*\"thank\" + 0.193*\"love\" + 0.153*\"flipkart\" + '\n",
            "  '0.022*\"really\" + 0.000*\"lot\" + 0.000*\"hmmm\" + 0.000*\"thi\" + 0.000*\"jab\" + '\n",
            "  '0.000*\"ayi\"'),\n",
            " (3,\n",
            "  '0.180*\"watch\" + 0.133*\"nice\" + 0.098*\"time\" + 0.080*\"month\" + '\n",
            "  '0.052*\"product\" + 0.051*\"quality\" + 0.047*\"also\" + 0.039*\"date\" + '\n",
            "  '0.034*\"aaftab\" + 0.034*\"proof\"'),\n",
            " (4,\n",
            "  '0.002*\"people\" + 0.002*\"question\" + 0.002*\"friendly\" + 0.002*\"hager\" + '\n",
            "  '0.002*\"magical\" + 0.002*\"notice\" + 0.002*\"eddy\" + 0.002*\"number\" + '\n",
            "  '0.002*\"try\" + 0.002*\"collection\"'),\n",
            " (5,\n",
            "  '0.123*\"watch\" + 0.120*\"happy\" + 0.081*\"amazing\" + 0.068*\"go\" + 0.060*\"work\" '\n",
            "  '+ 0.054*\"gifted\" + 0.047*\"gift\" + 0.047*\"sister\" + 0.032*\"word\" + '\n",
            "  '0.030*\"wonderful\"'),\n",
            " (6,\n",
            "  '0.162*\"cool\" + 0.116*\"pretty\" + 0.099*\"look\" + 0.070*\"packaging\" + '\n",
            "  '0.045*\"price\" + 0.031*\"love\" + 0.028*\"short\" + 0.028*\"screen\" + '\n",
            "  '0.023*\"design\" + 0.017*\"waste\"'),\n",
            " (7,\n",
            "  '0.065*\"golden\" + 0.049*\"wish\" + 0.049*\"different\" + 0.049*\"fork\" + '\n",
            "  '0.049*\"charge\" + 0.002*\"nice\" + 0.002*\"much\" + 0.002*\"money\" + '\n",
            "  '0.002*\"product\" + 0.002*\"watch\"'),\n",
            " (8,\n",
            "  '0.175*\"money\" + 0.107*\"value\" + 0.104*\"good\" + 0.073*\"design\" + '\n",
            "  '0.066*\"colour\" + 0.060*\"quality\" + 0.054*\"nice\" + 0.040*\"look\" + '\n",
            "  '0.032*\"simple\" + 0.029*\"purchase\"'),\n",
            " (9,\n",
            "  '0.113*\"watch\" + 0.091*\"delivery\" + 0.078*\"look\" + 0.066*\"nice\" + '\n",
            "  '0.062*\"fast\" + 0.055*\"good\" + 0.055*\"thank\" + 0.042*\"premium\" + '\n",
            "  '0.036*\"love\" + 0.032*\"quality\"'),\n",
            " (10,\n",
            "  '0.188*\"product\" + 0.126*\"beautiful\" + 0.101*\"give\" + 0.096*\"amazing\" + '\n",
            "  '0.086*\"thank\" + 0.046*\"review\" + 0.030*\"also\" + 0.025*\"fabulous\" + '\n",
            "  '0.023*\"flipkart\" + 0.022*\"awesome\"'),\n",
            " (11,\n",
            "  '0.311*\"buy\" + 0.140*\"watch\" + 0.132*\"really\" + 0.121*\"like\" + 0.031*\"worth\" '\n",
            "  '+ 0.021*\"search\" + 0.001*\"lot\" + 0.001*\"stylish\" + 0.001*\"cost\" + '\n",
            "  '0.001*\"flip\"'),\n",
            " (12,\n",
            "  '0.387*\"watch\" + 0.158*\"good\" + 0.065*\"order\" + 0.044*\"comfortable\" + '\n",
            "  '0.033*\"wrist\" + 0.028*\"full\" + 0.025*\"beautiful\" + 0.022*\"receive\" + '\n",
            "  '0.019*\"first\" + 0.019*\"dial\"'),\n",
            " (13,\n",
            "  '0.441*\"product\" + 0.241*\"good\" + 0.121*\"awesome\" + 0.019*\"rate\" + '\n",
            "  '0.014*\"price\" + 0.000*\"money\" + 0.000*\"cost\" + 0.000*\"stylish\" + '\n",
            "  '0.000*\"buy\" + 0.000*\"less\"'),\n",
            " (14,\n",
            "  '0.238*\"show\" + 0.158*\"picture\" + 0.133*\"much\" + 0.105*\"overall\" + '\n",
            "  '0.046*\"band\" + 0.007*\"heay\" + 0.001*\"thing\" + 0.001*\"get\" + 0.001*\"even\" + '\n",
            "  '0.001*\"warranty\"'),\n",
            " (15,\n",
            "  '0.143*\"excellent\" + 0.076*\"expect\" + 0.075*\"quality\" + 0.071*\"big\" + '\n",
            "  '0.067*\"strap\" + 0.058*\"trust\" + 0.051*\"watch\" + 0.044*\"super\" + '\n",
            "  '0.043*\"look\" + 0.031*\"stunning\"'),\n",
            " (16,\n",
            "  '0.002*\"nice\" + 0.002*\"good\" + 0.002*\"people\" + 0.002*\"satisfy\" + '\n",
            "  '0.002*\"hager\" + 0.002*\"magical\" + 0.002*\"notice\" + 0.002*\"find\" + '\n",
            "  '0.002*\"question\" + 0.002*\"impressive\"'),\n",
            " (17,\n",
            "  '0.370*\"nice\" + 0.149*\"product\" + 0.142*\"look\" + 0.121*\"great\" + '\n",
            "  '0.039*\"deal\" + 0.030*\"belt\" + 0.026*\"dial\" + 0.019*\"dash\" + 0.001*\"design\" '\n",
            "  '+ 0.000*\"quality\"'),\n",
            " (18,\n",
            "  '0.002*\"big\" + 0.002*\"quality\" + 0.002*\"watch\" + 0.002*\"excellent\" + '\n",
            "  '0.002*\"strap\" + 0.002*\"worth\" + 0.002*\"styilish\" + 0.002*\"sonata\" + '\n",
            "  '0.002*\"money\" + 0.002*\"expect\"'),\n",
            " (19,\n",
            "  '0.149*\"recommend\" + 0.114*\"product\" + 0.102*\"watch\" + 0.099*\"worth\" + '\n",
            "  '0.086*\"buy\" + 0.066*\"satisfied\" + 0.048*\"wrist\" + 0.034*\"fully\" + '\n",
            "  '0.021*\"go\" + 0.013*\"attractive\"')]\n"
          ]
        }
      ]
    },
    {
      "cell_type": "code",
      "source": [
        "# Compute Coherence Score\n",
        "coherence_model_lda = CoherenceModel(model=lda_model, texts=review_data_lemmatized, dictionary=review_id2word, coherence='c_v')\n",
        "coherence_lda = coherence_model_lda.get_coherence()\n",
        "print('\\nCoherence Score: ', coherence_lda)"
      ],
      "metadata": {
        "colab": {
          "base_uri": "https://localhost:8080/"
        },
        "id": "qeRgsPV9Q_jC",
        "outputId": "d62bf557-1726-4b59-afea-5139250dfba1"
      },
      "execution_count": 96,
      "outputs": [
        {
          "output_type": "stream",
          "name": "stdout",
          "text": [
            "\n",
            "Coherence Score:  0.45357167129272263\n"
          ]
        }
      ]
    },
    {
      "cell_type": "code",
      "source": [
        "# import pyLDAvis\n",
        "# import pyLDAvis.gensim  # don't skip this\n",
        "# import matplotlib.pyplot as plt\n",
        "# %matplotlib inline\n",
        "# pyLDAvis.enable_notebook()\n",
        "# vis = pyLDAvis.gensim.prepare(lda_model, corpus, id2word)\n",
        "# vis"
      ],
      "metadata": {
        "id": "PX3hjN2Ly3Le"
      },
      "execution_count": 87,
      "outputs": []
    },
    {
      "cell_type": "code",
      "source": [
        "# calculating model coherence value for various number of topics to get the best k number\n",
        "def compute_coherence_values(dictionary, corpus, texts, limit, start=2, step=3):\n",
        "    \"\"\"\n",
        "    Parameters:\n",
        "    ----------\n",
        "    dictionary : Gensim dictionary\n",
        "    corpus : Gensim corpus\n",
        "    texts : List of input texts\n",
        "    limit : Max num of topics\n",
        "\n",
        "    Returns:\n",
        "    -------\n",
        "    model_list : List of LDA topic models\n",
        "    coherence_values : Coherence values corresponding to the LDA model with respective number of topics\n",
        "    \"\"\"\n",
        "    coherence_values = []\n",
        "    model_list = []\n",
        "    for num_topics in range(start, limit, step):\n",
        "        model = gensim.models.ldamodel.LdaModel(corpus=corpus,\n",
        "                                           id2word=id2word,\n",
        "                                           num_topics=num_topics, \n",
        "                                           random_state=100,\n",
        "                                           update_every=1,\n",
        "                                           chunksize=100,\n",
        "                                           passes=10,\n",
        "                                           alpha='auto',\n",
        "                                           per_word_topics=True)\n",
        "        model_list.append(model)\n",
        "        coherencemodel = CoherenceModel(model=model, texts=texts, dictionary=dictionary, coherence='c_v')\n",
        "        coherence_values.append(coherencemodel.get_coherence())\n",
        "\n",
        "    return model_list, coherence_values\n",
        "start, limit, step=2, 20, 2\n",
        "model_list, coherence_values = compute_coherence_values(dictionary=review_id2word, corpus=review_corpus, texts=review_data_lemmatized, start=start, limit=limit, step=step)\n",
        "coherence_values_all = []\n",
        "for m, cv in zip(range(start, limit, step), coherence_values):\n",
        "    coherence_values_all.append(round(cv,4))\n",
        "    print(\"Num Topics =\", m, \" has Coherence Value of\", round(cv, 4))"
      ],
      "metadata": {
        "colab": {
          "base_uri": "https://localhost:8080/"
        },
        "id": "vR_jcM3Yy3OH",
        "outputId": "df708c27-5446-4560-a75d-aa91cd3ceef8"
      },
      "execution_count": 101,
      "outputs": [
        {
          "output_type": "stream",
          "name": "stdout",
          "text": [
            "Num Topics = 2  has Coherence Value of 0.4827\n",
            "Num Topics = 4  has Coherence Value of 0.4239\n",
            "Num Topics = 6  has Coherence Value of 0.4313\n",
            "Num Topics = 8  has Coherence Value of 0.3949\n",
            "Num Topics = 10  has Coherence Value of 0.3498\n",
            "Num Topics = 12  has Coherence Value of 0.3585\n",
            "Num Topics = 14  has Coherence Value of 0.4072\n",
            "Num Topics = 16  has Coherence Value of 0.3636\n",
            "Num Topics = 18  has Coherence Value of 0.4574\n"
          ]
        }
      ]
    },
    {
      "cell_type": "code",
      "source": [
        "sum(coherence_values_all)/len(coherence_values_all)"
      ],
      "metadata": {
        "colab": {
          "base_uri": "https://localhost:8080/"
        },
        "id": "qN1ok592-ecI",
        "outputId": "d41ebe99-ab7d-484a-862c-c463d67c902c"
      },
      "execution_count": 102,
      "outputs": [
        {
          "output_type": "execute_result",
          "data": {
            "text/plain": [
              "0.40769999999999995"
            ]
          },
          "metadata": {},
          "execution_count": 102
        }
      ]
    },
    {
      "cell_type": "markdown",
      "source": [
        "As we can see the values are first decreased and then increasing. Hence taking the value, which is near to mean of all coherence values. Taking 8 topics with value 0.39. "
      ],
      "metadata": {
        "id": "K_6Vbrx13lnj"
      }
    },
    {
      "cell_type": "code",
      "source": [
        "optimal_model = model_list[3] # getting the topics=8 model, which is in 3rd index of our model and getting the 8 topics.\n",
        "model_topics = optimal_model.show_topics(formatted=False)\n",
        "pprint(optimal_model.print_topics(num_words=10))"
      ],
      "metadata": {
        "colab": {
          "base_uri": "https://localhost:8080/"
        },
        "id": "Z6CFs9Bt0hCw",
        "outputId": "5783584b-109b-488b-ce0c-8b12779a28a7"
      },
      "execution_count": 103,
      "outputs": [
        {
          "output_type": "stream",
          "name": "stdout",
          "text": [
            "[(0,\n",
            "  '0.149*\"money\" + 0.119*\"value\" + 0.042*\"cool\" + 0.040*\"purchase\" + '\n",
            "  '0.035*\"simple\" + 0.033*\"recommend\" + 0.028*\"go\" + 0.026*\"satisfied\" + '\n",
            "  '0.025*\"want\" + 0.022*\"royal\"'),\n",
            " (1,\n",
            "  '0.153*\"good\" + 0.139*\"watch\" + 0.094*\"product\" + 0.085*\"nice\" + '\n",
            "  '0.055*\"quality\" + 0.036*\"look\" + 0.026*\"price\" + 0.025*\"love\" + 0.024*\"buy\" '\n",
            "  '+ 0.022*\"design\"'),\n",
            " (2,\n",
            "  '0.075*\"thank\" + 0.066*\"amazing\" + 0.053*\"much\" + 0.053*\"picture\" + '\n",
            "  '0.052*\"flipkart\" + 0.041*\"use\" + 0.039*\"product\" + 0.036*\"receive\" + '\n",
            "  '0.033*\"love\" + 0.030*\"order\"'),\n",
            " (3,\n",
            "  '0.069*\"nice\" + 0.063*\"watch\" + 0.061*\"product\" + 0.060*\"time\" + '\n",
            "  '0.049*\"month\" + 0.049*\"much\" + 0.037*\"give\" + 0.027*\"also\" + 0.024*\"date\" + '\n",
            "  '0.024*\"big\"'),\n",
            " (4,\n",
            "  '0.085*\"excellent\" + 0.045*\"expect\" + 0.040*\"strap\" + 0.034*\"trust\" + '\n",
            "  '0.034*\"quality\" + 0.033*\"watch\" + 0.032*\"look\" + 0.027*\"give\" + '\n",
            "  '0.026*\"super\" + 0.025*\"big\"'),\n",
            " (5,\n",
            "  '0.060*\"order\" + 0.049*\"think\" + 0.038*\"look\" + 0.036*\"go\" + 0.036*\"guy\" + '\n",
            "  '0.034*\"ideal\" + 0.031*\"range\" + 0.031*\"gifted\" + 0.027*\"sister\" + '\n",
            "  '0.027*\"gift\"'),\n",
            " (6,\n",
            "  '0.084*\"love\" + 0.051*\"much\" + 0.044*\"thank\" + 0.033*\"look\" + 0.032*\"great\" '\n",
            "  '+ 0.031*\"thing\" + 0.030*\"kart\" + 0.029*\"flip\" + 0.028*\"amazing\" + '\n",
            "  '0.027*\"even\"'),\n",
            " (7,\n",
            "  '0.060*\"great\" + 0.045*\"get\" + 0.036*\"formal\" + 0.034*\"look\" + 0.033*\"wear\" '\n",
            "  '+ 0.031*\"item\" + 0.027*\"day\" + 0.027*\"white\" + 0.023*\"casual\" + '\n",
            "  '0.022*\"see\"')]\n"
          ]
        }
      ]
    },
    {
      "cell_type": "markdown",
      "metadata": {
        "id": "MQvpB5meZUty"
      },
      "source": [
        "## (2) (10 points) Generate K topics by using LSA, the number of topics K should be decided by the coherence score, then summarize what are the topics. You may refer the code here:\n",
        "\n",
        "https://www.datacamp.com/community/tutorials/discovering-hidden-topics-python"
      ]
    },
    {
      "cell_type": "code",
      "execution_count": null,
      "metadata": {
        "id": "mWGgDr5PZUty"
      },
      "outputs": [],
      "source": [
        "# Write your code here\n",
        "\n",
        "\n",
        "\n",
        "\n"
      ]
    },
    {
      "cell_type": "markdown",
      "metadata": {
        "id": "RmyxDnbZZUtz"
      },
      "source": [
        "## (3) (10 points) Generate K topics by using  lda2vec, the number of topics K should be decided by the coherence score, then summarize what are the topics. You may refer the code here:\n",
        "\n",
        "https://nbviewer.org/github/cemoody/lda2vec/blob/master/examples/twenty_newsgroups/lda2vec/lda2vec.ipynb"
      ]
    },
    {
      "cell_type": "code",
      "execution_count": null,
      "metadata": {
        "id": "P6oBm7s3ZUtz"
      },
      "outputs": [],
      "source": [
        "# Write your code here\n",
        "\n",
        "\n",
        "\n"
      ]
    },
    {
      "cell_type": "markdown",
      "metadata": {
        "id": "EETTMiWBZUtz"
      },
      "source": [
        "## (4) (10 points) Generate K topics by using BERTopic, the number of topics K should be decided by the coherence score, then summarize what are the topics. You may refer the code here: \n",
        "\n",
        "https://colab.research.google.com/drive/1FieRA9fLdkQEGDIMYl0I3MCjSUKVF8C-?usp=sharing"
      ]
    },
    {
      "cell_type": "code",
      "execution_count": null,
      "metadata": {
        "id": "ACYHZnACZUtz"
      },
      "outputs": [],
      "source": [
        "# Write your code here\n",
        "\n",
        "\n",
        "\n"
      ]
    },
    {
      "cell_type": "markdown",
      "metadata": {
        "id": "AVtdTFYoZUtz"
      },
      "source": [
        "## (5) (10 extra points) Compare the results generated by the four topic modeling algorithms, which one is better? You should explain the reasons in details."
      ]
    },
    {
      "cell_type": "code",
      "execution_count": null,
      "metadata": {
        "id": "0CrlW9NxZUtz"
      },
      "outputs": [],
      "source": [
        "# Write your answer here (no code needed for this question)\n",
        "\n",
        "\n",
        "\n"
      ]
    }
  ],
  "metadata": {
    "kernelspec": {
      "display_name": "Python 3 (ipykernel)",
      "language": "python",
      "name": "python3"
    },
    "language_info": {
      "codemirror_mode": {
        "name": "ipython",
        "version": 3
      },
      "file_extension": ".py",
      "mimetype": "text/x-python",
      "name": "python",
      "nbconvert_exporter": "python",
      "pygments_lexer": "ipython3",
      "version": "3.9.12"
    },
    "colab": {
      "provenance": [],
      "include_colab_link": true
    }
  },
  "nbformat": 4,
  "nbformat_minor": 0
}