{
  "cells": [
    {
      "cell_type": "markdown",
      "metadata": {
        "id": "view-in-github",
        "colab_type": "text"
      },
      "source": [
        "<a href=\"https://colab.research.google.com/github/abhi147p/Abhishek_INFO5731_Spring2023/blob/main/In_class_exercise_01_01242023_1.ipynb\" target=\"_parent\"><img src=\"https://colab.research.google.com/assets/colab-badge.svg\" alt=\"Open In Colab\"/></a>"
      ]
    },
    {
      "cell_type": "markdown",
      "metadata": {
        "id": "DymRJbxDBCnf"
      },
      "source": [
        "# **The first In-class-exercise (01/24/2023, 40 points in total)**"
      ]
    },
    {
      "cell_type": "markdown",
      "metadata": {
        "id": "03jb4GZsBkBS"
      },
      "source": [
        "(1) Write a Python program to calculate the length of a string. (4 points)"
      ]
    },
    {
      "cell_type": "code",
      "execution_count": 2,
      "metadata": {
        "colab": {
          "base_uri": "https://localhost:8080/"
        },
        "id": "YaGLbSHHB8Ej",
        "outputId": "8fc4cc19-fa91-427a-ff0c-d77e4f00f0e5"
      },
      "outputs": [
        {
          "output_type": "stream",
          "name": "stdout",
          "text": [
            "Enter any string: abhishek\n",
            "The length of given string is: 8\n"
          ]
        }
      ],
      "source": [
        "# write your answer here\n",
        "string = input(\"Enter any string: \")\n",
        "str_len = lambda strg: sum(1 for char in strg) # using the lambda expression by returning value=1 for each char and finally getting value of sum to get length.\n",
        "print(f\"The length of given string is: {str_len(string)}\")"
      ]
    },
    {
      "cell_type": "markdown",
      "metadata": {
        "id": "jJDe71iLB616"
      },
      "source": [
        "(2) Write a Python program to count the number of characters in a string. (4 points)\n",
        "\n",
        "Sample String : 'google.com‘, \n",
        "\n",
        "Expected Result : {'o': 3, 'g': 2, '.': 1, 'e': 1, 'l': 1, 'm': 1, 'c': 1}"
      ]
    },
    {
      "cell_type": "code",
      "execution_count": 8,
      "metadata": {
        "colab": {
          "base_uri": "https://localhost:8080/"
        },
        "id": "MtKskTzbCLaU",
        "outputId": "10914f4c-5604-4ea3-b372-2600c89fef9a"
      },
      "outputs": [
        {
          "output_type": "stream",
          "name": "stdout",
          "text": [
            "Enter any string: google.com\n",
            "{'o': 3, 'g': 2, 'c': 1, 'e': 1, 'l': 1, 'm': 1, '.': 1}\n"
          ]
        }
      ],
      "source": [
        "# write your answer here\n",
        "\n",
        "string = input(\"Enter any string: \")\n",
        "str_map = {char: string.count(char) for char in set(string)} # using dict comprehension, by taking unique values of string and counting the occurrences of each char using count method.\n",
        "str_map = dict(sorted(str_map.items(), key = lambda x: x[1], reverse=True)) # sorting based on values of dictionary\n",
        "print(str_map)"
      ]
    },
    {
      "cell_type": "markdown",
      "metadata": {
        "id": "55W9AMdXCSpV"
      },
      "source": [
        "(3) Write a Python program to sum all the items in a list. (4 points)"
      ]
    },
    {
      "cell_type": "code",
      "execution_count": 11,
      "metadata": {
        "colab": {
          "base_uri": "https://localhost:8080/"
        },
        "id": "I57NXsauCec2",
        "outputId": "f863779e-842a-422d-c96c-f62c88ae0741"
      },
      "outputs": [
        {
          "output_type": "stream",
          "name": "stdout",
          "text": [
            "Enter the items: 1 2 3 4 5\n",
            "The sum of elements in a list: 15\n"
          ]
        }
      ],
      "source": [
        "# write your answer here\n",
        "from functools import reduce\n",
        "\n",
        "items = list(map(int, input(\"Enter the items: \").split()))\n",
        "print(f\"The sum of elements in a list: {reduce(lambda a,b: a+b, items)}\")"
      ]
    },
    {
      "cell_type": "markdown",
      "metadata": {
        "id": "4ulBZ6yhCi9F"
      },
      "source": [
        "(4) Write a Python program to get a string from a given string where all occurrences of its first char have been changed to '\\$', except the first char itself. (4 points)\n",
        "\n",
        "Sample String : 'restart‘, \n",
        "\n",
        "Expected Result : 'resta\\$t'"
      ]
    },
    {
      "cell_type": "code",
      "execution_count": 79,
      "metadata": {
        "colab": {
          "base_uri": "https://localhost:8080/"
        },
        "id": "Fj0XhwbBCw2o",
        "outputId": "4ae94f55-57c7-485f-f856-db1a3607b269"
      },
      "outputs": [
        {
          "output_type": "stream",
          "name": "stdout",
          "text": [
            "Enter your string: restart\n",
            "Result: ['r', 'e', 's', 't', 'a', '$', 't']\n"
          ]
        }
      ],
      "source": [
        "# write your answer here\n",
        "def replace(string):\n",
        "  \"\"\"\n",
        "    params1: string input parameter as string.\n",
        "    return(str): replaced string with $ for first occurrence character.\n",
        "  \"\"\"\n",
        "  if len(string) == 0:\n",
        "    return \"No Occurance\"\n",
        "  str_replace = str([string[i] if i==0 else string[i] if string[0] != string[i] else \"$\" for i in range(len(string))])\n",
        "  # print(str_replace)\n",
        "  return str_replace if str_replace != string else \"No Occurance\"\n",
        "\n",
        "string = input(\"Enter your string: \")\n",
        "print(f\"Result: {replace(string)}\")"
      ]
    },
    {
      "cell_type": "markdown",
      "metadata": {
        "id": "_bIP7s1MCzue"
      },
      "source": [
        "(5) Write a program with python which could accept two parameter a and b to calculate and output the result of S, where \n",
        "\n",
        "$\\ S=3.14*(1+a/b)^3$ (4 points)\n",
        "\n"
      ]
    },
    {
      "cell_type": "code",
      "execution_count": 27,
      "metadata": {
        "colab": {
          "base_uri": "https://localhost:8080/"
        },
        "id": "w79QilHXD3Mg",
        "outputId": "b61145d7-1f44-4d7d-e0b7-45bead761d9d"
      },
      "outputs": [
        {
          "output_type": "stream",
          "name": "stdout",
          "text": [
            "Enter values for a and b: 2 2\n",
            "25.12\n"
          ]
        }
      ],
      "source": [
        "# write your answer here\n",
        "\n",
        "a, b = tuple(map(int, input(\"Enter values for a and b: \").split()))\n",
        "print(eval(f\"3.14 * (( 1 + {a} / {b}) ** 3)\"))"
      ]
    },
    {
      "cell_type": "markdown",
      "metadata": {
        "id": "xCa2bK9aD4Q3"
      },
      "source": [
        "(6) Write a Python program to concatenate following dictionaries to create a new one. (4 points)\n",
        "\n",
        "Sample Dictionary : dic1={1:10, 2:20}, dic2={3:30, 4:40}, dic3={5:50,6:60}, \n",
        "\n",
        "Expected Result : {1: 10, 2: 20, 3: 30, 4: 40, 5: 50, 6: 60}\n"
      ]
    },
    {
      "cell_type": "code",
      "execution_count": 42,
      "metadata": {
        "colab": {
          "base_uri": "https://localhost:8080/"
        },
        "id": "_z4aLqAbEET1",
        "outputId": "65cf8c09-55c6-421b-a3f7-a9eeba982cef"
      },
      "outputs": [
        {
          "output_type": "stream",
          "name": "stdout",
          "text": [
            "Expected Result: {1: 10, 2: 20, 3: 30, 4: 40, 5: 50, 6: 60}\n"
          ]
        }
      ],
      "source": [
        "# write your answer here\n",
        "\n",
        "def concat(*args):\n",
        "  \"\"\"\n",
        "    params1: args list of dictionaries\n",
        "    return(dict): concatenated list of dictionaries and sorted based on values.\n",
        "  \"\"\"\n",
        "  dict_concat = {**args[0], **args[1], **args[2]}\n",
        "  return dict(sorted(dict_concat.items(), key = lambda x: x[1]))\n",
        "\n",
        "dict1, dict2, dict3 = {1:10, 2:20}, {3:30, 4:40}, {5:50, 6:60}\n",
        "# print({**dict1, **dict2, **dict3})\n",
        "print(f\"Expected Result: {concat(dict1, dict2, dict3)}\")"
      ]
    },
    {
      "cell_type": "markdown",
      "metadata": {
        "id": "0v48Vqa7FrQh"
      },
      "source": [
        "(7) Write a Python program to check whether an element exists within a tuple. (4 points)"
      ]
    },
    {
      "cell_type": "code",
      "execution_count": 45,
      "metadata": {
        "colab": {
          "base_uri": "https://localhost:8080/"
        },
        "id": "7WEmgq-DF2P1",
        "outputId": "b84a4a99-0ef0-42c3-9d23-3f44fc8458c2"
      },
      "outputs": [
        {
          "output_type": "stream",
          "name": "stdout",
          "text": [
            "Enter elements of tuple: 1 2 3 4 5 6 7 8\n",
            "Enter element to check: 3\n",
            "3 exists in tuple\n"
          ]
        }
      ],
      "source": [
        "# write your answer here\n",
        "\n",
        "items = tuple(map(int, input(\"Enter elements of tuple: \").split()))\n",
        "elemt = int(input(\"Enter element to check: \"))\n",
        "print(f\"{elemt} exists in tuple\") if elemt in items else print(f\"{elemt} does not exist\")"
      ]
    },
    {
      "cell_type": "markdown",
      "metadata": {
        "id": "vD5PYLMuGga_"
      },
      "source": [
        "(8) Write a Python program to find maximum and the minimum value in a set. (4 points)"
      ]
    },
    {
      "cell_type": "code",
      "execution_count": 48,
      "metadata": {
        "colab": {
          "base_uri": "https://localhost:8080/"
        },
        "id": "t0D5kdJUGjjw",
        "outputId": "661fd24a-a17a-4d11-ef16-457ac044af62"
      },
      "outputs": [
        {
          "output_type": "stream",
          "name": "stdout",
          "text": [
            "Enter elements of set: 1 2 3 4 5 1 26 7\n",
            "Max of set: 26 and Min of set: 1\n"
          ]
        }
      ],
      "source": [
        "# write your answer here\n",
        "\n",
        "set_elem = set(map(int, input(\"Enter elements of set: \").split()))\n",
        "max_set = reduce(lambda x,y: x if x>y else y, set_elem)\n",
        "min_set = reduce(lambda x,y: y if x>y else x, set_elem)\n",
        "print(f\"Max of set: {max_set} and Min of set: {min_set}\")"
      ]
    },
    {
      "cell_type": "markdown",
      "metadata": {
        "id": "uHkd-y5VhVWC"
      },
      "source": [
        "(9) Write a Python program to randomly divide the students in this class into six groups for term projects, each group should have at least 4 students but no more than 6 students (including 6). Here is the students list: (4 points)\n",
        "\n",
        "studnet_list = ['ja0964','sa1198','sb1357','vb0218','sc1229','kg0569','kg0470','sg1297','bg0320','fh0141','jl1252','sk1386',\n",
        "           'ak0956','sk1390','sk1458','sk1313','ak0934','vm0377','nm0618','sm1640','sm1907','gn0108','pr0353','dr0609','ms1500','aos0040','ds0814', 'av0659','nv0234','hy0232']"
      ]
    },
    {
      "cell_type": "code",
      "execution_count": 74,
      "metadata": {
        "colab": {
          "base_uri": "https://localhost:8080/"
        },
        "id": "3iGbmcOBhTwy",
        "outputId": "4f78d8ab-8594-4bba-da0b-aa02262ca6d7"
      },
      "outputs": [
        {
          "output_type": "execute_result",
          "data": {
            "text/plain": [
              "71"
            ]
          },
          "metadata": {},
          "execution_count": 74
        }
      ],
      "source": [
        "# write your answer here\n",
        "\n",
        "# std_list = ['ja0964','sa1198','sb1357','vb0218','sc1229','kg0569',\n",
        "#                 'kg0470','sg1297','bg0320','fh0141','jl1252','sk1386', \n",
        "#                 'ak0956','sk1390','sk1458','sk1313','ak0934','vm0377',\n",
        "#                 'nm0618','sm1640','sm1907','gn0108','pr0353','dr0609',\n",
        "#                 'ms1500','aos0040','ds0814', 'av0659','nv0234','hy0232',\n",
        "#                 'ap1234', 'jp2211']\n",
        "# size = len(std_list)\n",
        "# grp_list = []\n",
        "# for x in range(size):\n",
        "#   if (x+4)\n",
        "import random"
      ]
    },
    {
      "cell_type": "markdown",
      "metadata": {
        "id": "3-Bps9uG_ycy"
      },
      "source": [
        "(10) Write a Python program to find the duplicate elements in a given array of integers. Return -1 If there are no such elements. (4 points)"
      ]
    },
    {
      "cell_type": "code",
      "execution_count": 58,
      "metadata": {
        "colab": {
          "base_uri": "https://localhost:8080/"
        },
        "id": "LjMi3kFr_ycy",
        "outputId": "1204da81-388c-4829-c493-aba400836449"
      },
      "outputs": [
        {
          "output_type": "stream",
          "name": "stdout",
          "text": [
            "Enter list of elements: 1 2 1 4 9 1 6 3 4\n",
            "[1, 4]\n"
          ]
        }
      ],
      "source": [
        "# write your answer here\n",
        "\n",
        "def find_duplicates(arr):\n",
        "  \"\"\"\n",
        "    params1: arr list of elements\n",
        "    return(list or int): list of duplicate elements if present, else -1\n",
        "  \"\"\"\n",
        "  arr_dict = {x: arr.count(x) for x in set(arr)}\n",
        "  arr_dup = [key for key, value in arr_dict.items() if value != 1]\n",
        "  return arr_dup if arr_dup else -1\n",
        "\n",
        "arr = list(map(int, input(\"Enter list of elements: \").split()))\n",
        "print(find_duplicates(arr))"
      ]
    },
    {
      "cell_type": "markdown",
      "metadata": {
        "id": "eVLNY1F0_ycy"
      },
      "source": [
        "(11) Write a Python program to select all the Sundays of a specified year. (4 extra points)"
      ]
    },
    {
      "cell_type": "code",
      "execution_count": 69,
      "metadata": {
        "colab": {
          "base_uri": "https://localhost:8080/"
        },
        "id": "I0ClfBqJ_ycy",
        "outputId": "425c256f-62b4-4f29-d1ca-e125b6aa8e1c"
      },
      "outputs": [
        {
          "output_type": "stream",
          "name": "stdout",
          "text": [
            "Enter the year to select all sundays: 2023\n",
            "[datetime.date(2023, 1, 1), datetime.date(2023, 1, 8), datetime.date(2023, 1, 15), datetime.date(2023, 1, 22), datetime.date(2023, 1, 29), datetime.date(2023, 2, 5), datetime.date(2023, 2, 12), datetime.date(2023, 2, 19), datetime.date(2023, 2, 26), datetime.date(2023, 3, 5), datetime.date(2023, 3, 12), datetime.date(2023, 3, 19), datetime.date(2023, 3, 26), datetime.date(2023, 4, 2), datetime.date(2023, 4, 9), datetime.date(2023, 4, 16), datetime.date(2023, 4, 23), datetime.date(2023, 4, 30), datetime.date(2023, 5, 7), datetime.date(2023, 5, 14), datetime.date(2023, 5, 21), datetime.date(2023, 5, 28), datetime.date(2023, 6, 4), datetime.date(2023, 6, 11), datetime.date(2023, 6, 18), datetime.date(2023, 6, 25), datetime.date(2023, 7, 2), datetime.date(2023, 7, 9), datetime.date(2023, 7, 16), datetime.date(2023, 7, 23), datetime.date(2023, 7, 30), datetime.date(2023, 8, 6), datetime.date(2023, 8, 13), datetime.date(2023, 8, 20), datetime.date(2023, 8, 27), datetime.date(2023, 9, 3), datetime.date(2023, 9, 10), datetime.date(2023, 9, 17), datetime.date(2023, 9, 24), datetime.date(2023, 10, 1), datetime.date(2023, 10, 8), datetime.date(2023, 10, 15), datetime.date(2023, 10, 22), datetime.date(2023, 10, 29), datetime.date(2023, 11, 5), datetime.date(2023, 11, 12), datetime.date(2023, 11, 19), datetime.date(2023, 11, 26), datetime.date(2023, 12, 3), datetime.date(2023, 12, 10), datetime.date(2023, 12, 17), datetime.date(2023, 12, 24), datetime.date(2023, 12, 31)]\n"
          ]
        }
      ],
      "source": [
        "# write your answer here\n",
        "\n",
        "def return_all_sundays(year): # developed a generator, that yields all the date values for sundays.\n",
        "  \"\"\"\n",
        "    params1: year.\n",
        "    return(dates): all the sundays dates of a particular year\n",
        "  \"\"\"\n",
        "  from datetime import date, timedelta\n",
        "  date_time = date(year, 1, 1) # date(year, month, day)\n",
        "  \"\"\"\n",
        "    0: Monday\n",
        "    1: Tuesday\n",
        "    2: Wednesday\n",
        "    3: Thursday\n",
        "    4: Friday\n",
        "    5: Saturday\n",
        "    6: Sunday\n",
        "  \"\"\"\n",
        "  date_time += timedelta(days = 6 - date_time.weekday()) # skipping to sunday based on no of days\n",
        "  while date_time.year == year:\n",
        "    yield date_time # yield is used to generate all the sundays and return the values.\n",
        "    date_time += timedelta(days = 7) # After fetching 1st sunday, we will iterate over by adding 7 days (1 week)\n",
        "\n",
        "year = int(input(\"Enter the year to select all sundays: \"))\n",
        "all_Sundays = []\n",
        "for date in return_all_sundays(year):\n",
        "  all_Sundays.append(date)\n",
        "print(all_Sundays)"
      ]
    },
    {
      "cell_type": "code",
      "source": [],
      "metadata": {
        "id": "3jzzItgWkXgk"
      },
      "execution_count": null,
      "outputs": []
    }
  ],
  "metadata": {
    "colab": {
      "provenance": [],
      "include_colab_link": true
    },
    "kernelspec": {
      "display_name": "Python 3 (ipykernel)",
      "language": "python",
      "name": "python3"
    },
    "language_info": {
      "codemirror_mode": {
        "name": "ipython",
        "version": 3
      },
      "file_extension": ".py",
      "mimetype": "text/x-python",
      "name": "python",
      "nbconvert_exporter": "python",
      "pygments_lexer": "ipython3",
      "version": "3.9.12"
    }
  },
  "nbformat": 4,
  "nbformat_minor": 0
}